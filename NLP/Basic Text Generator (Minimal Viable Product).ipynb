{
 "cells": [
  {
   "cell_type": "markdown",
   "metadata": {},
   "source": [
    "# Import necessary libraries and the 5 dataframes for the 5 reviews"
   ]
  },
  {
   "cell_type": "code",
   "execution_count": 123,
   "metadata": {},
   "outputs": [],
   "source": [
    "import pandas as pd\n",
    "import nltk\n",
    "from nltk import TreebankWordTokenizer\n",
    "import spacy\n",
    "from nltk.corpus import stopwords\n",
    "import string\n",
    "from nltk import word_tokenize, FreqDist\n",
    "from sklearn.feature_extraction.text import TfidfVectorizer\n",
    "from nltk.sentiment.vader import SentimentIntensityAnalyzer\n",
    "import seaborn as sns\n",
    "import matplotlib.pyplot as plt"
   ]
  },
  {
   "cell_type": "code",
   "execution_count": 2,
   "metadata": {},
   "outputs": [],
   "source": [
    "df1 = pd.read_csv('1_Rating.csv')\n",
    "df2 = pd.read_csv('2_Rating.csv')\n",
    "df3 = pd.read_csv('3_Rating.csv')\n",
    "df4 = pd.read_csv('4_Rating.csv')\n",
    "df5 = pd.read_csv('5_Rating.csv')"
   ]
  },
  {
   "cell_type": "code",
   "execution_count": 3,
   "metadata": {},
   "outputs": [],
   "source": [
    "df1.drop(columns=['Unnamed: 0'], inplace = True)\n",
    "df2.drop(columns=['Unnamed: 0'], inplace = True)\n",
    "df3.drop(columns=['Unnamed: 0'], inplace = True)\n",
    "df4.drop(columns=['Unnamed: 0'], inplace = True)\n",
    "df5.drop(columns=['Unnamed: 0'], inplace = True)"
   ]
  },
  {
   "cell_type": "code",
   "execution_count": 4,
   "metadata": {},
   "outputs": [
    {
     "data": {
      "text/html": [
       "<div>\n",
       "<style scoped>\n",
       "    .dataframe tbody tr th:only-of-type {\n",
       "        vertical-align: middle;\n",
       "    }\n",
       "\n",
       "    .dataframe tbody tr th {\n",
       "        vertical-align: top;\n",
       "    }\n",
       "\n",
       "    .dataframe thead th {\n",
       "        text-align: right;\n",
       "    }\n",
       "</style>\n",
       "<table border=\"1\" class=\"dataframe\">\n",
       "  <thead>\n",
       "    <tr style=\"text-align: right;\">\n",
       "      <th></th>\n",
       "      <th>Cool</th>\n",
       "      <th>Funny</th>\n",
       "      <th>Rating</th>\n",
       "      <th>Text</th>\n",
       "      <th>Useful</th>\n",
       "      <th>Sentiment</th>\n",
       "    </tr>\n",
       "  </thead>\n",
       "  <tbody>\n",
       "    <tr>\n",
       "      <th>0</th>\n",
       "      <td>1</td>\n",
       "      <td>1</td>\n",
       "      <td>1.0</td>\n",
       "      <td>Atrocious. The live music was loud and mediocre, the decor plain and dull, the food, amateurish and overly expensive for its quality, with too many heavy, goopy sauces and dressings. Pitchers of sangria were weak and full of ice, and, to top it off, the bathrooms were filthy, like a low-end club at 3am. Inexcuseable.</td>\n",
       "      <td>2</td>\n",
       "      <td>-0.3182</td>\n",
       "    </tr>\n",
       "    <tr>\n",
       "      <th>1</th>\n",
       "      <td>1</td>\n",
       "      <td>4</td>\n",
       "      <td>1.0</td>\n",
       "      <td>Well, I've been staying here for the last four weeks, so I've gotten pretty used to this place. The lobby is nice, but the rooms are average. No microwaves. And sometimes there's a refrigerator, but it's hidden. I didn't know I had one in my room until I was about to leave one week and noticed a humming noise inside the tv cabinet, and the tv was off. The housekeeping staff tries to get on your good side by giving you little chocolates each night. The wireless connection is good everywhere but the top floor, where it comes in only in some rooms, and then it goes off and on intermittently. There's also a continental breakfast FOR THE TOP FLOOR ONLY. I don't get it at all. They don't tell you about it unless you're on the \"executive level.\" Like it's such a big deal! It's the same cereal, coffee and crappy pasteries you'll find anywhere, except worse. What a load of bullshit. TV stations are limited and seem to vary by the room (No Comedy Central sometimes). Some bathrooms have a tub, others have a big glass shower with a powerful showerhead. But the Crowne Plaza wins for its beds, as usual. You get tons of pillows. The service is good too. They were very accomodating when I wanted to change rooms because (nerd) my room didn't get the wi-fi connection. But, you know, I stayed here on the government dime at their rate of $226. But I think regularly priced rooms are around $350. I wouldn't spend what they charge just for a night here. $13 just to park. Idiots. In short, I would not reccomend staying in any hotels in New York City ever. As such, sorry, CP. You get one star. I can't reccomend any hotel that charges the rates of a NYC hotel, even in NYC.\\r Oh, and there's also big a big inflated rat out front of the hotel with a sign that says \"This hotel mistreates workers.\" Just in case you wanted to know.</td>\n",
       "      <td>2</td>\n",
       "      <td>0.9487</td>\n",
       "    </tr>\n",
       "    <tr>\n",
       "      <th>2</th>\n",
       "      <td>4</td>\n",
       "      <td>6</td>\n",
       "      <td>1.0</td>\n",
       "      <td>I'm sorry Food Network - for some reason one of your star chef's latest restaurant has some problems in the kitchen. Let's see, start out with a corked bottle of wine (ok could be forgivable), then a starter comes out completely cold (and meant to be hot), a dish that never arrives, French Fries with entree (again hot item that arrives COLD), and a lot of rushing the diners to \"order everything upfront so that it arrives in the right stages\" - gee - I thought that was their responsibility to manage, not ours! The menu didn't make a lot of sense, and the flavors were muddied with overly sweet, overly hot (spicy) ingredients that never balanced and basically failed.Totally unimpressive and I'm sure the tourists will love it.</td>\n",
       "      <td>7</td>\n",
       "      <td>0.6588</td>\n",
       "    </tr>\n",
       "    <tr>\n",
       "      <th>3</th>\n",
       "      <td>5</td>\n",
       "      <td>8</td>\n",
       "      <td>1.0</td>\n",
       "      <td>Britney is one of the few stars that has ever existed that can command an entire arena, that emits spiritual and psychic positive energy through her voice and performance that has the power to change how an audience feels.  I have seen this countless times, at nightclubs: boring after boring song comes on, but when the DJ plays Britney suddenly the room erupts.  Very few performers had the ability to do this, in history.  Michael Jackson, Elvis Presley, Judy Garland... the names on this list are surprisingly few.  However, Britney Spears is one of them.  She has the power to illuminate a room, and the World, with her work.  I am not quite sure she realizes this, she is probably far too humble, which is an integral part of  her mysterious Greatness... but I digress.\\n\\nI did not feel the staff at the Axis theater were worthy of her.  They were rude, rushed me into my seat and out of the theater just as soon as they could, and I barely had time to buy a tee- shirt.  I snuck next to the glass display to take a picture next to the \"oops\" outfit, and they practically yelled at me.  More so than anything they actually did, their demeanor was extremely GRUFF.  I can't think of a better way to put it.  Nothing exactly happened... no one slapped me in the face or kicked me in the arse... but their words were short, rude, aggravated, impatient, and unsympathetic to a fan that had traveled 5 hours that very day (from Los Angeles) to see his idol.\\n\\nI am a huge fan of Elvis as well, so we stayed at the previous Hilton where he'd performed and had a fine time touring Elvis' old dressing room. We went to 1 Oak, had a Crab Buffet, and had a mini shopping spree at the Forum Shops. But of all the fun things we did AFTER, I could not shake in the back of my mind the negative cloud of what I'd experienced at the place that drew us to Vegas to begin with.  These people need to realize how much being in that theater means to some people... it is almost a spiritual experience.  When Britney levitated from the tree during Toxic, I almost felt my soul levitate, too! \\n\\nShame on them, for poisoning such a momentous experience.  As usual, ignorant peons in the world will spoil Greatness.  But there is enough negativity in the world, a point I think Spears herself combats with her positive soul and music.  There need not be any negativity in the arena of a performer who does so much to expunge the world's ugliness, and there need not be unhappiness spread in the very Pantheon where Spears herself is employed to make us happy.  She was born to make us happy, that is her soul's purpose... so let her do so without the grumblings of those who can only think of what they are going to have for dinner after their shift is over. \\n\\nSincerely,\\n\\nNicholas Kafantaris</td>\n",
       "      <td>5</td>\n",
       "      <td>-0.1522</td>\n",
       "    </tr>\n",
       "    <tr>\n",
       "      <th>4</th>\n",
       "      <td>12</td>\n",
       "      <td>13</td>\n",
       "      <td>1.0</td>\n",
       "      <td>Service is terrible. \\n\\nThere were 2 of us, the hostess sat us with only one menu. After we had to take turns to share the menu, we finally decided on our entrees. 30 minutes passed, no one ever approached the table so we decided to leave. On our way out I wanted to let the hostess know that we were never greeted, after which she asked \"what table number were you at?\" How am I supposed to know? Is it a requirement to know your table number in order to get waited on?</td>\n",
       "      <td>22</td>\n",
       "      <td>-0.6192</td>\n",
       "    </tr>\n",
       "  </tbody>\n",
       "</table>\n",
       "</div>"
      ],
      "text/plain": [
       "   Cool  Funny  Rating  \\\n",
       "0     1      1     1.0   \n",
       "1     1      4     1.0   \n",
       "2     4      6     1.0   \n",
       "3     5      8     1.0   \n",
       "4    12     13     1.0   \n",
       "\n",
       "                                                                                                                                                                                                                                                                                                                                                                                                                                                                                                                                                                                                                                                                                                                                                                                                                                                                                                                                                                                                                                                                                                                                                                                                                                                                                                                                                                                                                                                                                                                                                                                                                                                                                                                                                                                                                                                                                                                                                                                                                                                                                                                                                                                                                                                                                                                                                                                                                                                                                                                                                                                                                                                                                                                                                                                                                                                                                              Text  \\\n",
       "0                                                                                                                                                                                                                                                                                                                                                                                                                                                                                                                                                                                                                                                                                                                                                                                                                                                                                                                                                                                                                                                                                                                                                                                                                                                                                                                                                                                                                                                                                                                                                                                                                                                                                                                                                                                                                                                                                                                                                                                                                                                                                                                                                                                                                                                                                                                                                                                                                                                                                                                                                                   Atrocious. The live music was loud and mediocre, the decor plain and dull, the food, amateurish and overly expensive for its quality, with too many heavy, goopy sauces and dressings. Pitchers of sangria were weak and full of ice, and, to top it off, the bathrooms were filthy, like a low-end club at 3am. Inexcuseable.   \n",
       "1                                                                                                                                                                                                                                                                                                                                                                                                                                                                                                                                                                                                                                                                                                                                                                                                                                                                                                                                                                                         Well, I've been staying here for the last four weeks, so I've gotten pretty used to this place. The lobby is nice, but the rooms are average. No microwaves. And sometimes there's a refrigerator, but it's hidden. I didn't know I had one in my room until I was about to leave one week and noticed a humming noise inside the tv cabinet, and the tv was off. The housekeeping staff tries to get on your good side by giving you little chocolates each night. The wireless connection is good everywhere but the top floor, where it comes in only in some rooms, and then it goes off and on intermittently. There's also a continental breakfast FOR THE TOP FLOOR ONLY. I don't get it at all. They don't tell you about it unless you're on the \"executive level.\" Like it's such a big deal! It's the same cereal, coffee and crappy pasteries you'll find anywhere, except worse. What a load of bullshit. TV stations are limited and seem to vary by the room (No Comedy Central sometimes). Some bathrooms have a tub, others have a big glass shower with a powerful showerhead. But the Crowne Plaza wins for its beds, as usual. You get tons of pillows. The service is good too. They were very accomodating when I wanted to change rooms because (nerd) my room didn't get the wi-fi connection. But, you know, I stayed here on the government dime at their rate of $226. But I think regularly priced rooms are around $350. I wouldn't spend what they charge just for a night here. $13 just to park. Idiots. In short, I would not reccomend staying in any hotels in New York City ever. As such, sorry, CP. You get one star. I can't reccomend any hotel that charges the rates of a NYC hotel, even in NYC.\\r Oh, and there's also big a big inflated rat out front of the hotel with a sign that says \"This hotel mistreates workers.\" Just in case you wanted to know.   \n",
       "2                                                                                                                                                                                                                                                                                                                                                                                                                                                                                                                                                                                                                                                                                                                                                                                                                                                                                                                                                                                                                                                                                                                                                                                                                                                                                                                                                                                                                                                                                                                                                                                                                                                                                                                                                                                                                                                                                                                                                                                                                                                                                                                                     I'm sorry Food Network - for some reason one of your star chef's latest restaurant has some problems in the kitchen. Let's see, start out with a corked bottle of wine (ok could be forgivable), then a starter comes out completely cold (and meant to be hot), a dish that never arrives, French Fries with entree (again hot item that arrives COLD), and a lot of rushing the diners to \"order everything upfront so that it arrives in the right stages\" - gee - I thought that was their responsibility to manage, not ours! The menu didn't make a lot of sense, and the flavors were muddied with overly sweet, overly hot (spicy) ingredients that never balanced and basically failed.Totally unimpressive and I'm sure the tourists will love it.   \n",
       "3  Britney is one of the few stars that has ever existed that can command an entire arena, that emits spiritual and psychic positive energy through her voice and performance that has the power to change how an audience feels.  I have seen this countless times, at nightclubs: boring after boring song comes on, but when the DJ plays Britney suddenly the room erupts.  Very few performers had the ability to do this, in history.  Michael Jackson, Elvis Presley, Judy Garland... the names on this list are surprisingly few.  However, Britney Spears is one of them.  She has the power to illuminate a room, and the World, with her work.  I am not quite sure she realizes this, she is probably far too humble, which is an integral part of  her mysterious Greatness... but I digress.\\n\\nI did not feel the staff at the Axis theater were worthy of her.  They were rude, rushed me into my seat and out of the theater just as soon as they could, and I barely had time to buy a tee- shirt.  I snuck next to the glass display to take a picture next to the \"oops\" outfit, and they practically yelled at me.  More so than anything they actually did, their demeanor was extremely GRUFF.  I can't think of a better way to put it.  Nothing exactly happened... no one slapped me in the face or kicked me in the arse... but their words were short, rude, aggravated, impatient, and unsympathetic to a fan that had traveled 5 hours that very day (from Los Angeles) to see his idol.\\n\\nI am a huge fan of Elvis as well, so we stayed at the previous Hilton where he'd performed and had a fine time touring Elvis' old dressing room. We went to 1 Oak, had a Crab Buffet, and had a mini shopping spree at the Forum Shops. But of all the fun things we did AFTER, I could not shake in the back of my mind the negative cloud of what I'd experienced at the place that drew us to Vegas to begin with.  These people need to realize how much being in that theater means to some people... it is almost a spiritual experience.  When Britney levitated from the tree during Toxic, I almost felt my soul levitate, too! \\n\\nShame on them, for poisoning such a momentous experience.  As usual, ignorant peons in the world will spoil Greatness.  But there is enough negativity in the world, a point I think Spears herself combats with her positive soul and music.  There need not be any negativity in the arena of a performer who does so much to expunge the world's ugliness, and there need not be unhappiness spread in the very Pantheon where Spears herself is employed to make us happy.  She was born to make us happy, that is her soul's purpose... so let her do so without the grumblings of those who can only think of what they are going to have for dinner after their shift is over. \\n\\nSincerely,\\n\\nNicholas Kafantaris   \n",
       "4                                                                                                                                                                                                                                                                                                                                                                                                                                                                                                                                                                                                                                                                                                                                                                                                                                                                                                                                                                                                                                                                                                                                                                                                                                                                                                                                                                                                                                                                                                                                                                                                                                                                                                                                                                                                                                                                                                                                                                                                                                                                                                                                                                                                                                                                                                                                                                                                          Service is terrible. \\n\\nThere were 2 of us, the hostess sat us with only one menu. After we had to take turns to share the menu, we finally decided on our entrees. 30 minutes passed, no one ever approached the table so we decided to leave. On our way out I wanted to let the hostess know that we were never greeted, after which she asked \"what table number were you at?\" How am I supposed to know? Is it a requirement to know your table number in order to get waited on?   \n",
       "\n",
       "   Useful  Sentiment  \n",
       "0       2    -0.3182  \n",
       "1       2     0.9487  \n",
       "2       7     0.6588  \n",
       "3       5    -0.1522  \n",
       "4      22    -0.6192  "
      ]
     },
     "execution_count": 4,
     "metadata": {},
     "output_type": "execute_result"
    }
   ],
   "source": [
    "pd.options.display.max_colwidth = 5000\n",
    "df1.head()"
   ]
  },
  {
   "cell_type": "markdown",
   "metadata": {},
   "source": [
    "# Need to separate my text from my dataframe to begin the tokenization process"
   ]
  },
  {
   "cell_type": "code",
   "execution_count": 5,
   "metadata": {},
   "outputs": [],
   "source": [
    "one_star_reviews = df1['Text'].tolist()"
   ]
  },
  {
   "cell_type": "code",
   "execution_count": 6,
   "metadata": {},
   "outputs": [
    {
     "data": {
      "text/plain": [
       "4793"
      ]
     },
     "execution_count": 6,
     "metadata": {},
     "output_type": "execute_result"
    }
   ],
   "source": [
    "# How many reviews I have with a 1 star rating\n",
    "len(one_star_reviews)"
   ]
  },
  {
   "cell_type": "code",
   "execution_count": 7,
   "metadata": {},
   "outputs": [
    {
     "data": {
      "text/plain": [
       "'Atrocious. The live music was loud and mediocre, the decor plain and dull, the food, amateurish and overly expensive for its quality, with too many heavy, goopy sauces and dressings. Pitchers of sangria were weak and full of ice, and, to top it off, the bathrooms were filthy, like a low-end club at 3am. Inexcuseable.'"
      ]
     },
     "execution_count": 7,
     "metadata": {},
     "output_type": "execute_result"
    }
   ],
   "source": [
    "# Checking to see if each review is broken out\n",
    "one_star_reviews[0]"
   ]
  },
  {
   "cell_type": "markdown",
   "metadata": {},
   "source": [
    "# Need to break out each word from each sentence from each review (tokenization)"
   ]
  },
  {
   "cell_type": "code",
   "execution_count": 36,
   "metadata": {},
   "outputs": [
    {
     "data": {
      "text/plain": [
       "'atrocious . the live music be loud and mediocre , the decor plain and dull , the food , amateurish and overly expensive for -PRON- quality , with too many heavy , goopy sauce and dressing . pitcher of sangria be weak and full of ice , and , to top -PRON- off , the bathroom be filthy , like a low - end club at 3 a.m. . inexcuseable .'"
      ]
     },
     "execution_count": 36,
     "metadata": {},
     "output_type": "execute_result"
    }
   ],
   "source": [
    "# Using spacy to lemmatize the words for which we only need the tagger component.\n",
    "nlp = spacy.load('en', disable=['parser', 'ner'])\n",
    "\n",
    "doc = nlp(one_star_reviews[0])\n",
    "\" \".join([token.lemma_ for token in doc])"
   ]
  },
  {
   "cell_type": "code",
   "execution_count": 60,
   "metadata": {},
   "outputs": [],
   "source": [
    "tokenizer = TreebankWordTokenizer()\n",
    "# A lot of the words in the reviews will be stop words, so getting rid of them to get a clearer idea of the \n",
    "# words each star rating uses the most\n",
    "stopwords_list = stopwords.words('english') + list(string.punctuation)\n",
    "# As we saw above, the spacy lemmatizer adds a -PRON- tag everytime there is a pronoun, so removing it from my \n",
    "# final bag of words\n",
    "stopwords_list += [\"''\", '\"\"', '...', '``', '-pron-', '\\n', '\\n\\n', ' ']"
   ]
  },
  {
   "cell_type": "code",
   "execution_count": 61,
   "metadata": {},
   "outputs": [],
   "source": [
    "def process_review(review):\n",
    "    doc = nlp(review)\n",
    "    tokens = [token.lemma_ for token in doc]\n",
    "    # Reviews will tend to have a lot of I, me, us, etc. so those words won't really be helpful in distinguishing the\n",
    "    # key idea of the review - so removing them.\n",
    "    stopwords_removed = [token.lower() for token in tokens if token not in stopwords_list]\n",
    "    return stopwords_removed  "
   ]
  },
  {
   "cell_type": "markdown",
   "metadata": {},
   "source": [
    "# Need to iterate through list and apply the function to tokenize each review"
   ]
  },
  {
   "cell_type": "code",
   "execution_count": 62,
   "metadata": {},
   "outputs": [],
   "source": [
    "processed_data = list(map(process_review, one_star_reviews))"
   ]
  },
  {
   "cell_type": "code",
   "execution_count": 63,
   "metadata": {},
   "outputs": [
    {
     "data": {
      "text/plain": [
       "4793"
      ]
     },
     "execution_count": 63,
     "metadata": {},
     "output_type": "execute_result"
    }
   ],
   "source": [
    "len(processed_data)"
   ]
  },
  {
   "cell_type": "code",
   "execution_count": 64,
   "metadata": {},
   "outputs": [
    {
     "data": {
      "text/plain": [
       "29924"
      ]
     },
     "execution_count": 64,
     "metadata": {},
     "output_type": "execute_result"
    }
   ],
   "source": [
    "# Getting the total number of unique words from the set of reviews \n",
    "total_vocab = set()\n",
    "for comment in processed_data:\n",
    "    total_vocab.update(comment)\n",
    "len(total_vocab)"
   ]
  },
  {
   "cell_type": "markdown",
   "metadata": {},
   "source": [
    "# To get a count of each word in the set of reviews"
   ]
  },
  {
   "cell_type": "code",
   "execution_count": 65,
   "metadata": {},
   "outputs": [],
   "source": [
    "articles_concat = []\n",
    "for article in processed_data:\n",
    "    articles_concat += article"
   ]
  },
  {
   "cell_type": "code",
   "execution_count": 79,
   "metadata": {},
   "outputs": [
    {
     "data": {
      "text/plain": [
       "[('-pron-', 161025),\n",
       " ('get', 8150),\n",
       " ('go', 7228),\n",
       " ('would', 5938),\n",
       " ('like', 5284),\n",
       " ('say', 5099),\n",
       " ('one', 4833),\n",
       " ('time', 4586),\n",
       " ('come', 4478),\n",
       " ('place', 4214),\n",
       " ('tell', 3731),\n",
       " ('make', 3626),\n",
       " ('take', 3601),\n",
       " ('back', 3546),\n",
       " ('even', 3296),\n",
       " ('order', 3283),\n",
       " ('food', 3256),\n",
       " ('ask', 3114),\n",
       " ('know', 3090),\n",
       " ('want', 3077),\n",
       " ('good', 3051),\n",
       " (\"'s\", 3017),\n",
       " ('look', 2985),\n",
       " ('could', 2978),\n",
       " ('see', 2772),\n",
       " ('service', 2767),\n",
       " ('give', 2764),\n",
       " ('people', 2649),\n",
       " ('well', 2644),\n",
       " ('call', 2555)]"
      ]
     },
     "execution_count": 79,
     "metadata": {},
     "output_type": "execute_result"
    }
   ],
   "source": [
    "articles_freqdist = FreqDist(articles_concat)\n",
    "articles_freqdist.most_common(31)"
   ]
  },
  {
   "cell_type": "markdown",
   "metadata": {},
   "source": [
    "# Very simple text generator for the top 31 words in a 1 star review"
   ]
  },
  {
   "cell_type": "code",
   "execution_count": 92,
   "metadata": {},
   "outputs": [],
   "source": [
    "one_star = \" \".join([a for a,b in articles_freqdist.most_common(31)]).replace('-pron-', '')"
   ]
  },
  {
   "cell_type": "markdown",
   "metadata": {},
   "source": [
    "# Making a function to put this all together to replicate for all reviews"
   ]
  },
  {
   "cell_type": "code",
   "execution_count": 90,
   "metadata": {},
   "outputs": [],
   "source": [
    "def basic_generator(rating):\n",
    "    # Accepts a dataframe and makes a list of the reviews column\n",
    "    list_of_reviews = rating['Text'].tolist()\n",
    "    \n",
    "    # Using the process_review function created above to get the lemma and tokens of the words in the reviews\n",
    "    processed_data = list(map(process_review, list_of_reviews))\n",
    "    \n",
    "    articles_concat = []\n",
    "    for article in processed_data:\n",
    "        articles_concat += article\n",
    "    articles_freqdist = FreqDist(articles_concat)\n",
    "        \n",
    "    return \" \".join([a for a,b in articles_freqdist.most_common(31)]).replace('-pron-', '')"
   ]
  },
  {
   "cell_type": "code",
   "execution_count": 93,
   "metadata": {},
   "outputs": [],
   "source": [
    "two_star = basic_generator(df2)"
   ]
  },
  {
   "cell_type": "code",
   "execution_count": 94,
   "metadata": {},
   "outputs": [],
   "source": [
    "three_star = basic_generator(df3)"
   ]
  },
  {
   "cell_type": "code",
   "execution_count": 95,
   "metadata": {},
   "outputs": [],
   "source": [
    "four_star = basic_generatorc_generator(df4)"
   ]
  },
  {
   "cell_type": "code",
   "execution_count": 96,
   "metadata": {},
   "outputs": [],
   "source": [
    "five_star = basic_generator(df5)"
   ]
  },
  {
   "cell_type": "markdown",
   "metadata": {},
   "source": [
    "# Results of the basic text generator"
   ]
  },
  {
   "cell_type": "code",
   "execution_count": 97,
   "metadata": {},
   "outputs": [
    {
     "data": {
      "text/plain": [
       "\" get go would like say one time come place tell make take back even order food ask know want good 's look could see service give people well call never\""
      ]
     },
     "execution_count": 97,
     "metadata": {},
     "output_type": "execute_result"
    }
   ],
   "source": [
    "one_star"
   ]
  },
  {
   "cell_type": "code",
   "execution_count": 98,
   "metadata": {},
   "outputs": [
    {
     "data": {
      "text/plain": [
       "\" get like go would one good place food come order time 's make say well really take back look want even service know see try could think give wait ask\""
      ]
     },
     "execution_count": 98,
     "metadata": {},
     "output_type": "execute_result"
    }
   ],
   "source": [
    "two_star"
   ]
  },
  {
   "cell_type": "code",
   "execution_count": 99,
   "metadata": {},
   "outputs": [
    {
     "data": {
      "text/plain": [
       "\" get good like go would one place food come order 's time make well really try take say service think back look see also want could know restaurant drink great\""
      ]
     },
     "execution_count": 99,
     "metadata": {},
     "output_type": "execute_result"
    }
   ],
   "source": [
    "three_star"
   ]
  },
  {
   "cell_type": "code",
   "execution_count": 100,
   "metadata": {},
   "outputs": [
    {
     "data": {
      "text/plain": [
       "\" get good like place go one come would food make 's time order well really also try great bar drink back know think eat take say dish restaurant little menu\""
      ]
     },
     "execution_count": 100,
     "metadata": {},
     "output_type": "execute_result"
    }
   ],
   "source": [
    "four_star"
   ]
  },
  {
   "cell_type": "code",
   "execution_count": 101,
   "metadata": {},
   "outputs": [
    {
     "data": {
      "text/plain": [
       "\" get like good one go place make come 's would time food well also order love really know great try take back think eat say want look even bar see\""
      ]
     },
     "execution_count": 101,
     "metadata": {},
     "output_type": "execute_result"
    }
   ],
   "source": [
    "five_star"
   ]
  },
  {
   "cell_type": "markdown",
   "metadata": {},
   "source": [
    "# Analysis of the text generated\n",
    "\n",
    "Will be comparing the text generated by comparing the sentiment of the reviews"
   ]
  },
  {
   "cell_type": "code",
   "execution_count": 104,
   "metadata": {},
   "outputs": [],
   "source": [
    "si = SentimentIntensityAnalyzer()"
   ]
  },
  {
   "cell_type": "code",
   "execution_count": 119,
   "metadata": {},
   "outputs": [
    {
     "data": {
      "text/plain": [
       "{'neg': 0.0, 'neu': 0.747, 'pos': 0.253, 'compound': 0.7783}"
      ]
     },
     "execution_count": 119,
     "metadata": {},
     "output_type": "execute_result"
    }
   ],
   "source": [
    "si.polarity_scores(one_star)"
   ]
  },
  {
   "cell_type": "code",
   "execution_count": 114,
   "metadata": {},
   "outputs": [
    {
     "data": {
      "text/plain": [
       "{'neg': 0.0, 'neu': 0.747, 'pos': 0.253, 'compound': 0.7783}"
      ]
     },
     "execution_count": 114,
     "metadata": {},
     "output_type": "execute_result"
    }
   ],
   "source": [
    "si.polarity_scores(two_star)"
   ]
  },
  {
   "cell_type": "code",
   "execution_count": 115,
   "metadata": {},
   "outputs": [
    {
     "data": {
      "text/plain": [
       "{'neg': 0.0, 'neu': 0.66, 'pos': 0.34, 'compound': 0.8979}"
      ]
     },
     "execution_count": 115,
     "metadata": {},
     "output_type": "execute_result"
    }
   ],
   "source": [
    "si.polarity_scores(three_star)"
   ]
  },
  {
   "cell_type": "code",
   "execution_count": 116,
   "metadata": {},
   "outputs": [
    {
     "data": {
      "text/plain": [
       "{'neg': 0.0, 'neu': 0.687, 'pos': 0.313, 'compound': 0.8971}"
      ]
     },
     "execution_count": 116,
     "metadata": {},
     "output_type": "execute_result"
    }
   ],
   "source": [
    "si.polarity_scores(four_star)"
   ]
  },
  {
   "cell_type": "code",
   "execution_count": 117,
   "metadata": {},
   "outputs": [
    {
     "data": {
      "text/plain": [
       "{'neg': 0.0, 'neu': 0.58, 'pos': 0.42, 'compound': 0.9467}"
      ]
     },
     "execution_count": 117,
     "metadata": {},
     "output_type": "execute_result"
    }
   ],
   "source": [
    "si.polarity_scores(five_star)"
   ]
  },
  {
   "cell_type": "code",
   "execution_count": 121,
   "metadata": {},
   "outputs": [],
   "source": [
    "x = list(range(1,6))\n",
    "y = [si.polarity_scores(one_star)['compound'], si.polarity_scores(two_star)['compound'],\n",
    "    si.polarity_scores(three_star)['compound'], si.polarity_scores(four_star)['compound'],\n",
    "    si.polarity_scores(five_star)['compound']]"
   ]
  },
  {
   "cell_type": "code",
   "execution_count": 124,
   "metadata": {},
   "outputs": [
    {
     "data": {
      "image/png": "[encoded data removed]",
      "text/plain": [
       "<Figure size 432x288 with 1 Axes>"
      ]
     },
     "metadata": {
      "needs_background": "light"
     },
     "output_type": "display_data"
    }
   ],
   "source": [
    "fig = plt.figure()\n",
    "sns.barplot(x, y);\n",
    "plt.ylim(0,1);\n",
    "plt.xlabel('Yelp Rating');\n",
    "plt.ylabel('Sentiment Score');\n",
    "plt.title('Vader Compound Score Per Yelp Rating');"
   ]
  },
  {
   "cell_type": "markdown",
   "metadata": {},
   "source": [
    "The sentiment of the top 30 words generated from each of the ratings is overwhelmingly positive from a VADER standpoint. You can also see that each rating share many words in common which just means all reviews share a common pattern when they are written out. \n",
    "\n",
    "We will need to develop a more robust model that takes into account the average sentiment that we have seen in the NLP EDA book which is much more representative of the negative views of the lower stars and the positive views of the 4 and 5 star ratings. For this, we will use neural networks"
   ]
  },
  {
   "cell_type": "code",
   "execution_count": null,
   "metadata": {},
   "outputs": [],
   "source": []
  }
 ],
 "metadata": {
  "kernelspec": {
   "display_name": "Python 3",
   "language": "python",
   "name": "python3"
  },
  "language_info": {
   "codemirror_mode": {
    "name": "ipython",
    "version": 3
   },
   "file_extension": ".py",
   "mimetype": "text/x-python",
   "name": "python",
   "nbconvert_exporter": "python",
   "pygments_lexer": "ipython3",
   "version": "3.7.1"
  }
 },
 "nbformat": 4,
 "nbformat_minor": 2
}
