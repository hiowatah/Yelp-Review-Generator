{
 "cells": [
  {
   "cell_type": "markdown",
   "metadata": {},
   "source": [
    "# Importing necessary libraries and dropping extra columns"
   ]
  },
  {
   "cell_type": "code",
   "execution_count": 1,
   "metadata": {},
   "outputs": [],
   "source": [
    "import pandas as pd"
   ]
  },
  {
   "cell_type": "code",
   "execution_count": 44,
   "metadata": {},
   "outputs": [],
   "source": [
    "df = pd.read_csv('Scraped_Yelp_Reviews.csv')"
   ]
  },
  {
   "cell_type": "code",
   "execution_count": 45,
   "metadata": {},
   "outputs": [],
   "source": [
    "df2 = pd.read_csv('Yelp_Dataset_Reviews.csv')"
   ]
  },
  {
   "cell_type": "code",
   "execution_count": 46,
   "metadata": {},
   "outputs": [],
   "source": [
    "df.drop(columns=['Unnamed: 0'], inplace=True)\n",
    "df2.drop(columns=['Unnamed: 0'], inplace=True)"
   ]
  },
  {
   "cell_type": "code",
   "execution_count": 47,
   "metadata": {},
   "outputs": [
    {
     "data": {
      "text/html": [
       "<div>\n",
       "<style scoped>\n",
       "    .dataframe tbody tr th:only-of-type {\n",
       "        vertical-align: middle;\n",
       "    }\n",
       "\n",
       "    .dataframe tbody tr th {\n",
       "        vertical-align: top;\n",
       "    }\n",
       "\n",
       "    .dataframe thead th {\n",
       "        text-align: right;\n",
       "    }\n",
       "</style>\n",
       "<table border=\"1\" class=\"dataframe\">\n",
       "  <thead>\n",
       "    <tr style=\"text-align: right;\">\n",
       "      <th></th>\n",
       "      <th>Cool</th>\n",
       "      <th>Funny</th>\n",
       "      <th>Rating</th>\n",
       "      <th>Text</th>\n",
       "      <th>Useful</th>\n",
       "    </tr>\n",
       "  </thead>\n",
       "  <tbody>\n",
       "    <tr>\n",
       "      <th>0</th>\n",
       "      <td>19.0</td>\n",
       "      <td>5.0</td>\n",
       "      <td>5.0 star rating</td>\n",
       "      <td>Talk about WOW. If anyone ever asked me what m...</td>\n",
       "      <td>12.0</td>\n",
       "    </tr>\n",
       "    <tr>\n",
       "      <th>1</th>\n",
       "      <td>14.0</td>\n",
       "      <td>3.0</td>\n",
       "      <td>5.0 star rating</td>\n",
       "      <td>Mighty Quinn's is a fast-casual barbecue chain...</td>\n",
       "      <td>21.0</td>\n",
       "    </tr>\n",
       "    <tr>\n",
       "      <th>2</th>\n",
       "      <td>113.0</td>\n",
       "      <td>59.0</td>\n",
       "      <td>5.0 star rating</td>\n",
       "      <td>Phenomenal Restaurant !!! We came here Monday ...</td>\n",
       "      <td>107.0</td>\n",
       "    </tr>\n",
       "    <tr>\n",
       "      <th>3</th>\n",
       "      <td>18.0</td>\n",
       "      <td>7.0</td>\n",
       "      <td>5.0 star rating</td>\n",
       "      <td>Did I just eat THE burger in New York City? Th...</td>\n",
       "      <td>14.0</td>\n",
       "    </tr>\n",
       "    <tr>\n",
       "      <th>4</th>\n",
       "      <td>14.0</td>\n",
       "      <td>6.0</td>\n",
       "      <td>5.0 star rating</td>\n",
       "      <td>So places like this really do exist.Like many ...</td>\n",
       "      <td>15.0</td>\n",
       "    </tr>\n",
       "  </tbody>\n",
       "</table>\n",
       "</div>"
      ],
      "text/plain": [
       "    Cool  Funny           Rating  \\\n",
       "0   19.0    5.0  5.0 star rating   \n",
       "1   14.0    3.0  5.0 star rating   \n",
       "2  113.0   59.0  5.0 star rating   \n",
       "3   18.0    7.0  5.0 star rating   \n",
       "4   14.0    6.0  5.0 star rating   \n",
       "\n",
       "                                                Text  Useful  \n",
       "0  Talk about WOW. If anyone ever asked me what m...    12.0  \n",
       "1  Mighty Quinn's is a fast-casual barbecue chain...    21.0  \n",
       "2  Phenomenal Restaurant !!! We came here Monday ...   107.0  \n",
       "3  Did I just eat THE burger in New York City? Th...    14.0  \n",
       "4  So places like this really do exist.Like many ...    15.0  "
      ]
     },
     "execution_count": 47,
     "metadata": {},
     "output_type": "execute_result"
    }
   ],
   "source": [
    "df.head()"
   ]
  },
  {
   "cell_type": "code",
   "execution_count": 48,
   "metadata": {},
   "outputs": [
    {
     "data": {
      "text/html": [
       "<div>\n",
       "<style scoped>\n",
       "    .dataframe tbody tr th:only-of-type {\n",
       "        vertical-align: middle;\n",
       "    }\n",
       "\n",
       "    .dataframe tbody tr th {\n",
       "        vertical-align: top;\n",
       "    }\n",
       "\n",
       "    .dataframe thead th {\n",
       "        text-align: right;\n",
       "    }\n",
       "</style>\n",
       "<table border=\"1\" class=\"dataframe\">\n",
       "  <thead>\n",
       "    <tr style=\"text-align: right;\">\n",
       "      <th></th>\n",
       "      <th>Cool</th>\n",
       "      <th>Funny</th>\n",
       "      <th>Text</th>\n",
       "      <th>Useful</th>\n",
       "    </tr>\n",
       "    <tr>\n",
       "      <th>Rating</th>\n",
       "      <th></th>\n",
       "      <th></th>\n",
       "      <th></th>\n",
       "      <th></th>\n",
       "    </tr>\n",
       "  </thead>\n",
       "  <tbody>\n",
       "    <tr>\n",
       "      <th>1.0 star rating</th>\n",
       "      <td>3</td>\n",
       "      <td>3</td>\n",
       "      <td>3</td>\n",
       "      <td>3</td>\n",
       "    </tr>\n",
       "    <tr>\n",
       "      <th>2.0 star rating</th>\n",
       "      <td>5</td>\n",
       "      <td>5</td>\n",
       "      <td>7</td>\n",
       "      <td>6</td>\n",
       "    </tr>\n",
       "    <tr>\n",
       "      <th>3.0 star rating</th>\n",
       "      <td>182</td>\n",
       "      <td>182</td>\n",
       "      <td>187</td>\n",
       "      <td>186</td>\n",
       "    </tr>\n",
       "    <tr>\n",
       "      <th>4.0 star rating</th>\n",
       "      <td>1869</td>\n",
       "      <td>1842</td>\n",
       "      <td>1873</td>\n",
       "      <td>1869</td>\n",
       "    </tr>\n",
       "    <tr>\n",
       "      <th>5.0 star rating</th>\n",
       "      <td>2452</td>\n",
       "      <td>2413</td>\n",
       "      <td>2459</td>\n",
       "      <td>2456</td>\n",
       "    </tr>\n",
       "  </tbody>\n",
       "</table>\n",
       "</div>"
      ],
      "text/plain": [
       "                 Cool  Funny  Text  Useful\n",
       "Rating                                    \n",
       "1.0 star rating     3      3     3       3\n",
       "2.0 star rating     5      5     7       6\n",
       "3.0 star rating   182    182   187     186\n",
       "4.0 star rating  1869   1842  1873    1869\n",
       "5.0 star rating  2452   2413  2459    2456"
      ]
     },
     "execution_count": 48,
     "metadata": {},
     "output_type": "execute_result"
    }
   ],
   "source": [
    "df.groupby('Rating').count()"
   ]
  },
  {
   "cell_type": "code",
   "execution_count": 49,
   "metadata": {},
   "outputs": [
    {
     "data": {
      "text/html": [
       "<div>\n",
       "<style scoped>\n",
       "    .dataframe tbody tr th:only-of-type {\n",
       "        vertical-align: middle;\n",
       "    }\n",
       "\n",
       "    .dataframe tbody tr th {\n",
       "        vertical-align: top;\n",
       "    }\n",
       "\n",
       "    .dataframe thead th {\n",
       "        text-align: right;\n",
       "    }\n",
       "</style>\n",
       "<table border=\"1\" class=\"dataframe\">\n",
       "  <thead>\n",
       "    <tr style=\"text-align: right;\">\n",
       "      <th></th>\n",
       "      <th>cool</th>\n",
       "      <th>funny</th>\n",
       "      <th>stars</th>\n",
       "      <th>text</th>\n",
       "      <th>useful</th>\n",
       "    </tr>\n",
       "  </thead>\n",
       "  <tbody>\n",
       "    <tr>\n",
       "      <th>0</th>\n",
       "      <td>15</td>\n",
       "      <td>10</td>\n",
       "      <td>3.0</td>\n",
       "      <td>Review #189 - 2016\\n\\nWe arrived at Hertz at a...</td>\n",
       "      <td>16</td>\n",
       "    </tr>\n",
       "    <tr>\n",
       "      <th>1</th>\n",
       "      <td>22</td>\n",
       "      <td>17</td>\n",
       "      <td>3.0</td>\n",
       "      <td>We were searching for a local Peruvian restaur...</td>\n",
       "      <td>28</td>\n",
       "    </tr>\n",
       "    <tr>\n",
       "      <th>2</th>\n",
       "      <td>5</td>\n",
       "      <td>8</td>\n",
       "      <td>1.0</td>\n",
       "      <td>Britney is one of the few stars that has ever ...</td>\n",
       "      <td>5</td>\n",
       "    </tr>\n",
       "    <tr>\n",
       "      <th>3</th>\n",
       "      <td>5</td>\n",
       "      <td>8</td>\n",
       "      <td>2.0</td>\n",
       "      <td>My gf suggested we eat here because they have ...</td>\n",
       "      <td>13</td>\n",
       "    </tr>\n",
       "    <tr>\n",
       "      <th>4</th>\n",
       "      <td>12</td>\n",
       "      <td>13</td>\n",
       "      <td>1.0</td>\n",
       "      <td>Service is terrible. \\n\\nThere were 2 of us, t...</td>\n",
       "      <td>22</td>\n",
       "    </tr>\n",
       "  </tbody>\n",
       "</table>\n",
       "</div>"
      ],
      "text/plain": [
       "   cool  funny  stars                                               text  \\\n",
       "0    15     10    3.0  Review #189 - 2016\\n\\nWe arrived at Hertz at a...   \n",
       "1    22     17    3.0  We were searching for a local Peruvian restaur...   \n",
       "2     5      8    1.0  Britney is one of the few stars that has ever ...   \n",
       "3     5      8    2.0  My gf suggested we eat here because they have ...   \n",
       "4    12     13    1.0  Service is terrible. \\n\\nThere were 2 of us, t...   \n",
       "\n",
       "   useful  \n",
       "0      16  \n",
       "1      28  \n",
       "2       5  \n",
       "3      13  \n",
       "4      22  "
      ]
     },
     "execution_count": 49,
     "metadata": {},
     "output_type": "execute_result"
    }
   ],
   "source": [
    "df2.head()"
   ]
  },
  {
   "cell_type": "code",
   "execution_count": 51,
   "metadata": {},
   "outputs": [
    {
     "data": {
      "text/html": [
       "<div>\n",
       "<style scoped>\n",
       "    .dataframe tbody tr th:only-of-type {\n",
       "        vertical-align: middle;\n",
       "    }\n",
       "\n",
       "    .dataframe tbody tr th {\n",
       "        vertical-align: top;\n",
       "    }\n",
       "\n",
       "    .dataframe thead th {\n",
       "        text-align: right;\n",
       "    }\n",
       "</style>\n",
       "<table border=\"1\" class=\"dataframe\">\n",
       "  <thead>\n",
       "    <tr style=\"text-align: right;\">\n",
       "      <th></th>\n",
       "      <th>cool</th>\n",
       "      <th>funny</th>\n",
       "      <th>text</th>\n",
       "      <th>useful</th>\n",
       "    </tr>\n",
       "    <tr>\n",
       "      <th>stars</th>\n",
       "      <th></th>\n",
       "      <th></th>\n",
       "      <th></th>\n",
       "      <th></th>\n",
       "    </tr>\n",
       "  </thead>\n",
       "  <tbody>\n",
       "    <tr>\n",
       "      <th>1.0</th>\n",
       "      <td>4790</td>\n",
       "      <td>4790</td>\n",
       "      <td>4790</td>\n",
       "      <td>4790</td>\n",
       "    </tr>\n",
       "    <tr>\n",
       "      <th>2.0</th>\n",
       "      <td>5497</td>\n",
       "      <td>5497</td>\n",
       "      <td>5497</td>\n",
       "      <td>5497</td>\n",
       "    </tr>\n",
       "    <tr>\n",
       "      <th>3.0</th>\n",
       "      <td>12785</td>\n",
       "      <td>12785</td>\n",
       "      <td>12785</td>\n",
       "      <td>12785</td>\n",
       "    </tr>\n",
       "  </tbody>\n",
       "</table>\n",
       "</div>"
      ],
      "text/plain": [
       "        cool  funny   text  useful\n",
       "stars                             \n",
       "1.0     4790   4790   4790    4790\n",
       "2.0     5497   5497   5497    5497\n",
       "3.0    12785  12785  12785   12785"
      ]
     },
     "execution_count": 51,
     "metadata": {},
     "output_type": "execute_result"
    }
   ],
   "source": [
    "df2.groupby('stars').count()"
   ]
  },
  {
   "cell_type": "markdown",
   "metadata": {},
   "source": [
    "# Based on the heads of the 2 dataframes above, I need to do the following:\n",
    "\n",
    "### 1. Change the column names to be consistent\n",
    "### 2. Drop the \"star rating\" part in my df"
   ]
  },
  {
   "cell_type": "code",
   "execution_count": 52,
   "metadata": {},
   "outputs": [],
   "source": [
    "df2.rename(columns={'cool':'Cool', 'funny':'Funny', 'stars':'Rating', 'text':'Text', 'useful':'Useful'}, inplace=True)"
   ]
  },
  {
   "cell_type": "code",
   "execution_count": 53,
   "metadata": {},
   "outputs": [
    {
     "data": {
      "text/html": [
       "<div>\n",
       "<style scoped>\n",
       "    .dataframe tbody tr th:only-of-type {\n",
       "        vertical-align: middle;\n",
       "    }\n",
       "\n",
       "    .dataframe tbody tr th {\n",
       "        vertical-align: top;\n",
       "    }\n",
       "\n",
       "    .dataframe thead th {\n",
       "        text-align: right;\n",
       "    }\n",
       "</style>\n",
       "<table border=\"1\" class=\"dataframe\">\n",
       "  <thead>\n",
       "    <tr style=\"text-align: right;\">\n",
       "      <th></th>\n",
       "      <th>Cool</th>\n",
       "      <th>Funny</th>\n",
       "      <th>Rating</th>\n",
       "      <th>Text</th>\n",
       "      <th>Useful</th>\n",
       "    </tr>\n",
       "  </thead>\n",
       "  <tbody>\n",
       "    <tr>\n",
       "      <th>0</th>\n",
       "      <td>15</td>\n",
       "      <td>10</td>\n",
       "      <td>3.0</td>\n",
       "      <td>Review #189 - 2016\\n\\nWe arrived at Hertz at a...</td>\n",
       "      <td>16</td>\n",
       "    </tr>\n",
       "    <tr>\n",
       "      <th>1</th>\n",
       "      <td>22</td>\n",
       "      <td>17</td>\n",
       "      <td>3.0</td>\n",
       "      <td>We were searching for a local Peruvian restaur...</td>\n",
       "      <td>28</td>\n",
       "    </tr>\n",
       "    <tr>\n",
       "      <th>2</th>\n",
       "      <td>5</td>\n",
       "      <td>8</td>\n",
       "      <td>1.0</td>\n",
       "      <td>Britney is one of the few stars that has ever ...</td>\n",
       "      <td>5</td>\n",
       "    </tr>\n",
       "    <tr>\n",
       "      <th>3</th>\n",
       "      <td>5</td>\n",
       "      <td>8</td>\n",
       "      <td>2.0</td>\n",
       "      <td>My gf suggested we eat here because they have ...</td>\n",
       "      <td>13</td>\n",
       "    </tr>\n",
       "    <tr>\n",
       "      <th>4</th>\n",
       "      <td>12</td>\n",
       "      <td>13</td>\n",
       "      <td>1.0</td>\n",
       "      <td>Service is terrible. \\n\\nThere were 2 of us, t...</td>\n",
       "      <td>22</td>\n",
       "    </tr>\n",
       "  </tbody>\n",
       "</table>\n",
       "</div>"
      ],
      "text/plain": [
       "   Cool  Funny  Rating                                               Text  \\\n",
       "0    15     10     3.0  Review #189 - 2016\\n\\nWe arrived at Hertz at a...   \n",
       "1    22     17     3.0  We were searching for a local Peruvian restaur...   \n",
       "2     5      8     1.0  Britney is one of the few stars that has ever ...   \n",
       "3     5      8     2.0  My gf suggested we eat here because they have ...   \n",
       "4    12     13     1.0  Service is terrible. \\n\\nThere were 2 of us, t...   \n",
       "\n",
       "   Useful  \n",
       "0      16  \n",
       "1      28  \n",
       "2       5  \n",
       "3      13  \n",
       "4      22  "
      ]
     },
     "execution_count": 53,
     "metadata": {},
     "output_type": "execute_result"
    }
   ],
   "source": [
    "df2.head()"
   ]
  },
  {
   "cell_type": "code",
   "execution_count": 54,
   "metadata": {},
   "outputs": [],
   "source": [
    "df['Rating']= df['Rating'].map(lambda x: x.strip('star rating'))"
   ]
  },
  {
   "cell_type": "markdown",
   "metadata": {},
   "source": [
    "# Some of my reviews will have blanks for Cool, Funny, or Useful so filling them with a 0"
   ]
  },
  {
   "cell_type": "code",
   "execution_count": 56,
   "metadata": {},
   "outputs": [],
   "source": [
    "df.fillna(0, inplace = True)"
   ]
  },
  {
   "cell_type": "code",
   "execution_count": 57,
   "metadata": {},
   "outputs": [
    {
     "data": {
      "text/html": [
       "<div>\n",
       "<style scoped>\n",
       "    .dataframe tbody tr th:only-of-type {\n",
       "        vertical-align: middle;\n",
       "    }\n",
       "\n",
       "    .dataframe tbody tr th {\n",
       "        vertical-align: top;\n",
       "    }\n",
       "\n",
       "    .dataframe thead th {\n",
       "        text-align: right;\n",
       "    }\n",
       "</style>\n",
       "<table border=\"1\" class=\"dataframe\">\n",
       "  <thead>\n",
       "    <tr style=\"text-align: right;\">\n",
       "      <th></th>\n",
       "      <th>Cool</th>\n",
       "      <th>Funny</th>\n",
       "      <th>Text</th>\n",
       "      <th>Useful</th>\n",
       "    </tr>\n",
       "    <tr>\n",
       "      <th>Rating</th>\n",
       "      <th></th>\n",
       "      <th></th>\n",
       "      <th></th>\n",
       "      <th></th>\n",
       "    </tr>\n",
       "  </thead>\n",
       "  <tbody>\n",
       "    <tr>\n",
       "      <th>1.0</th>\n",
       "      <td>3</td>\n",
       "      <td>3</td>\n",
       "      <td>3</td>\n",
       "      <td>3</td>\n",
       "    </tr>\n",
       "    <tr>\n",
       "      <th>2.0</th>\n",
       "      <td>7</td>\n",
       "      <td>7</td>\n",
       "      <td>7</td>\n",
       "      <td>7</td>\n",
       "    </tr>\n",
       "    <tr>\n",
       "      <th>3.0</th>\n",
       "      <td>187</td>\n",
       "      <td>187</td>\n",
       "      <td>187</td>\n",
       "      <td>187</td>\n",
       "    </tr>\n",
       "    <tr>\n",
       "      <th>4.0</th>\n",
       "      <td>1873</td>\n",
       "      <td>1873</td>\n",
       "      <td>1873</td>\n",
       "      <td>1873</td>\n",
       "    </tr>\n",
       "    <tr>\n",
       "      <th>5.0</th>\n",
       "      <td>2459</td>\n",
       "      <td>2459</td>\n",
       "      <td>2459</td>\n",
       "      <td>2459</td>\n",
       "    </tr>\n",
       "  </tbody>\n",
       "</table>\n",
       "</div>"
      ],
      "text/plain": [
       "        Cool  Funny  Text  Useful\n",
       "Rating                           \n",
       "1.0        3      3     3       3\n",
       "2.0        7      7     7       7\n",
       "3.0      187    187   187     187\n",
       "4.0     1873   1873  1873    1873\n",
       "5.0     2459   2459  2459    2459"
      ]
     },
     "execution_count": 57,
     "metadata": {},
     "output_type": "execute_result"
    }
   ],
   "source": [
    "df.groupby('Rating').count()"
   ]
  },
  {
   "cell_type": "markdown",
   "metadata": {},
   "source": [
    "# Want to make the datatypes consistent between my 2 dataframes before merge"
   ]
  },
  {
   "cell_type": "code",
   "execution_count": 58,
   "metadata": {},
   "outputs": [],
   "source": [
    "df['Cool']= df['Cool'].map(lambda x: int(x))\n",
    "df['Funny']= df['Funny'].map(lambda x: int(x))\n",
    "df['Useful']= df['Useful'].map(lambda x: int(x))\n",
    "df['Rating']= df['Rating'].map(lambda x: float(x))"
   ]
  },
  {
   "cell_type": "code",
   "execution_count": 59,
   "metadata": {},
   "outputs": [
    {
     "name": "stdout",
     "output_type": "stream",
     "text": [
      "<class 'pandas.core.frame.DataFrame'>\n",
      "RangeIndex: 4529 entries, 0 to 4528\n",
      "Data columns (total 5 columns):\n",
      "Cool      4529 non-null int64\n",
      "Funny     4529 non-null int64\n",
      "Rating    4529 non-null float64\n",
      "Text      4529 non-null object\n",
      "Useful    4529 non-null int64\n",
      "dtypes: float64(1), int64(3), object(1)\n",
      "memory usage: 177.0+ KB\n"
     ]
    }
   ],
   "source": [
    "df.info()"
   ]
  },
  {
   "cell_type": "code",
   "execution_count": 60,
   "metadata": {},
   "outputs": [
    {
     "name": "stdout",
     "output_type": "stream",
     "text": [
      "<class 'pandas.core.frame.DataFrame'>\n",
      "RangeIndex: 23072 entries, 0 to 23071\n",
      "Data columns (total 5 columns):\n",
      "Cool      23072 non-null int64\n",
      "Funny     23072 non-null int64\n",
      "Rating    23072 non-null float64\n",
      "Text      23072 non-null object\n",
      "Useful    23072 non-null int64\n",
      "dtypes: float64(1), int64(3), object(1)\n",
      "memory usage: 901.3+ KB\n"
     ]
    }
   ],
   "source": [
    "df2.info()"
   ]
  },
  {
   "cell_type": "code",
   "execution_count": 61,
   "metadata": {},
   "outputs": [],
   "source": [
    "df3 = pd.concat([df, df2])"
   ]
  },
  {
   "cell_type": "code",
   "execution_count": 62,
   "metadata": {},
   "outputs": [
    {
     "name": "stdout",
     "output_type": "stream",
     "text": [
      "<class 'pandas.core.frame.DataFrame'>\n",
      "Int64Index: 27601 entries, 0 to 23071\n",
      "Data columns (total 5 columns):\n",
      "Cool      27601 non-null int64\n",
      "Funny     27601 non-null int64\n",
      "Rating    27601 non-null float64\n",
      "Text      27601 non-null object\n",
      "Useful    27601 non-null int64\n",
      "dtypes: float64(1), int64(3), object(1)\n",
      "memory usage: 1.3+ MB\n"
     ]
    }
   ],
   "source": [
    "df3.info()"
   ]
  },
  {
   "cell_type": "code",
   "execution_count": 63,
   "metadata": {},
   "outputs": [],
   "source": [
    "df3.reset_index(inplace=True)"
   ]
  },
  {
   "cell_type": "code",
   "execution_count": 64,
   "metadata": {},
   "outputs": [
    {
     "data": {
      "text/html": [
       "<div>\n",
       "<style scoped>\n",
       "    .dataframe tbody tr th:only-of-type {\n",
       "        vertical-align: middle;\n",
       "    }\n",
       "\n",
       "    .dataframe tbody tr th {\n",
       "        vertical-align: top;\n",
       "    }\n",
       "\n",
       "    .dataframe thead th {\n",
       "        text-align: right;\n",
       "    }\n",
       "</style>\n",
       "<table border=\"1\" class=\"dataframe\">\n",
       "  <thead>\n",
       "    <tr style=\"text-align: right;\">\n",
       "      <th></th>\n",
       "      <th>index</th>\n",
       "      <th>Cool</th>\n",
       "      <th>Funny</th>\n",
       "      <th>Rating</th>\n",
       "      <th>Text</th>\n",
       "      <th>Useful</th>\n",
       "    </tr>\n",
       "  </thead>\n",
       "  <tbody>\n",
       "    <tr>\n",
       "      <th>27596</th>\n",
       "      <td>23067</td>\n",
       "      <td>5</td>\n",
       "      <td>6</td>\n",
       "      <td>2.0</td>\n",
       "      <td>In theory this place is a fun concept, food, b...</td>\n",
       "      <td>7</td>\n",
       "    </tr>\n",
       "    <tr>\n",
       "      <th>27597</th>\n",
       "      <td>23068</td>\n",
       "      <td>14</td>\n",
       "      <td>13</td>\n",
       "      <td>2.0</td>\n",
       "      <td>\"Six-foot, seven-foot, eight-foot BUNCH!\\nSix-...</td>\n",
       "      <td>12</td>\n",
       "    </tr>\n",
       "    <tr>\n",
       "      <th>27598</th>\n",
       "      <td>23069</td>\n",
       "      <td>10</td>\n",
       "      <td>9</td>\n",
       "      <td>3.0</td>\n",
       "      <td>When one is denied gnocchi, one makes do with ...</td>\n",
       "      <td>8</td>\n",
       "    </tr>\n",
       "    <tr>\n",
       "      <th>27599</th>\n",
       "      <td>23070</td>\n",
       "      <td>12</td>\n",
       "      <td>8</td>\n",
       "      <td>3.0</td>\n",
       "      <td>Not sure that I like the new comp system for d...</td>\n",
       "      <td>17</td>\n",
       "    </tr>\n",
       "    <tr>\n",
       "      <th>27600</th>\n",
       "      <td>23071</td>\n",
       "      <td>5</td>\n",
       "      <td>11</td>\n",
       "      <td>1.0</td>\n",
       "      <td>I think this owner and the owner of Amy's Baki...</td>\n",
       "      <td>13</td>\n",
       "    </tr>\n",
       "  </tbody>\n",
       "</table>\n",
       "</div>"
      ],
      "text/plain": [
       "       index  Cool  Funny  Rating  \\\n",
       "27596  23067     5      6     2.0   \n",
       "27597  23068    14     13     2.0   \n",
       "27598  23069    10      9     3.0   \n",
       "27599  23070    12      8     3.0   \n",
       "27600  23071     5     11     1.0   \n",
       "\n",
       "                                                    Text  Useful  \n",
       "27596  In theory this place is a fun concept, food, b...       7  \n",
       "27597  \"Six-foot, seven-foot, eight-foot BUNCH!\\nSix-...      12  \n",
       "27598  When one is denied gnocchi, one makes do with ...       8  \n",
       "27599  Not sure that I like the new comp system for d...      17  \n",
       "27600  I think this owner and the owner of Amy's Baki...      13  "
      ]
     },
     "execution_count": 64,
     "metadata": {},
     "output_type": "execute_result"
    }
   ],
   "source": [
    "df3.tail()"
   ]
  },
  {
   "cell_type": "code",
   "execution_count": 65,
   "metadata": {},
   "outputs": [
    {
     "data": {
      "text/html": [
       "<div>\n",
       "<style scoped>\n",
       "    .dataframe tbody tr th:only-of-type {\n",
       "        vertical-align: middle;\n",
       "    }\n",
       "\n",
       "    .dataframe tbody tr th {\n",
       "        vertical-align: top;\n",
       "    }\n",
       "\n",
       "    .dataframe thead th {\n",
       "        text-align: right;\n",
       "    }\n",
       "</style>\n",
       "<table border=\"1\" class=\"dataframe\">\n",
       "  <thead>\n",
       "    <tr style=\"text-align: right;\">\n",
       "      <th></th>\n",
       "      <th>index</th>\n",
       "      <th>Cool</th>\n",
       "      <th>Funny</th>\n",
       "      <th>Text</th>\n",
       "      <th>Useful</th>\n",
       "    </tr>\n",
       "    <tr>\n",
       "      <th>Rating</th>\n",
       "      <th></th>\n",
       "      <th></th>\n",
       "      <th></th>\n",
       "      <th></th>\n",
       "      <th></th>\n",
       "    </tr>\n",
       "  </thead>\n",
       "  <tbody>\n",
       "    <tr>\n",
       "      <th>1.0</th>\n",
       "      <td>4793</td>\n",
       "      <td>4793</td>\n",
       "      <td>4793</td>\n",
       "      <td>4793</td>\n",
       "      <td>4793</td>\n",
       "    </tr>\n",
       "    <tr>\n",
       "      <th>2.0</th>\n",
       "      <td>5504</td>\n",
       "      <td>5504</td>\n",
       "      <td>5504</td>\n",
       "      <td>5504</td>\n",
       "      <td>5504</td>\n",
       "    </tr>\n",
       "    <tr>\n",
       "      <th>3.0</th>\n",
       "      <td>12972</td>\n",
       "      <td>12972</td>\n",
       "      <td>12972</td>\n",
       "      <td>12972</td>\n",
       "      <td>12972</td>\n",
       "    </tr>\n",
       "    <tr>\n",
       "      <th>4.0</th>\n",
       "      <td>1873</td>\n",
       "      <td>1873</td>\n",
       "      <td>1873</td>\n",
       "      <td>1873</td>\n",
       "      <td>1873</td>\n",
       "    </tr>\n",
       "    <tr>\n",
       "      <th>5.0</th>\n",
       "      <td>2459</td>\n",
       "      <td>2459</td>\n",
       "      <td>2459</td>\n",
       "      <td>2459</td>\n",
       "      <td>2459</td>\n",
       "    </tr>\n",
       "  </tbody>\n",
       "</table>\n",
       "</div>"
      ],
      "text/plain": [
       "        index   Cool  Funny   Text  Useful\n",
       "Rating                                    \n",
       "1.0      4793   4793   4793   4793    4793\n",
       "2.0      5504   5504   5504   5504    5504\n",
       "3.0     12972  12972  12972  12972   12972\n",
       "4.0      1873   1873   1873   1873    1873\n",
       "5.0      2459   2459   2459   2459    2459"
      ]
     },
     "execution_count": 65,
     "metadata": {},
     "output_type": "execute_result"
    }
   ],
   "source": [
    "df3.groupby('Rating').count()"
   ]
  },
  {
   "cell_type": "code",
   "execution_count": 66,
   "metadata": {},
   "outputs": [],
   "source": [
    "df3.to_csv('Consolidated_Dataframe.csv')"
   ]
  },
  {
   "cell_type": "code",
   "execution_count": null,
   "metadata": {},
   "outputs": [],
   "source": []
  }
 ],
 "metadata": {
  "kernelspec": {
   "display_name": "Python 3",
   "language": "python",
   "name": "python3"
  },
  "language_info": {
   "codemirror_mode": {
    "name": "ipython",
    "version": 3
   },
   "file_extension": ".py",
   "mimetype": "text/x-python",
   "name": "python",
   "nbconvert_exporter": "python",
   "pygments_lexer": "ipython3",
   "version": "3.7.1"
  }
 },
 "nbformat": 4,
 "nbformat_minor": 2
}
