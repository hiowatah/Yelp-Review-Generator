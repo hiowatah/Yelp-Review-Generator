{
 "cells": [
  {
   "cell_type": "markdown",
   "metadata": {},
   "source": [
    "# Importing necessary libraries "
   ]
  },
  {
   "cell_type": "code",
   "execution_count": 144,
   "metadata": {},
   "outputs": [],
   "source": [
    "import pandas as pd\n",
    "import seaborn as sns\n",
    "import matplotlib.pyplot as plt\n",
    "from nltk import word_tokenize\n",
    "from sklearn.feature_extraction.text import CountVectorizer, TfidfVectorizer\n",
    "from nltk.sentiment.vader import SentimentIntensityAnalyzer"
   ]
  },
  {
   "cell_type": "code",
   "execution_count": 79,
   "metadata": {},
   "outputs": [],
   "source": [
    "df = pd.read_csv('Consolidated_Dataframe.csv')"
   ]
  },
  {
   "cell_type": "code",
   "execution_count": 80,
   "metadata": {},
   "outputs": [],
   "source": [
    "# Since reading from a csv, it will automatically have a Unnamed: 0 column. so dropping that\n",
    "df.drop(columns=['Unnamed: 0', 'index'], inplace = True)"
   ]
  },
  {
   "cell_type": "code",
   "execution_count": 81,
   "metadata": {},
   "outputs": [],
   "source": [
    "#want to be able to view all of the text, so increasing this to increase the character limit\n",
    "# pd.options.display.max_colwidth = 5000"
   ]
  },
  {
   "cell_type": "code",
   "execution_count": 82,
   "metadata": {},
   "outputs": [
    {
     "data": {
      "text/html": [
       "<div>\n",
       "<style scoped>\n",
       "    .dataframe tbody tr th:only-of-type {\n",
       "        vertical-align: middle;\n",
       "    }\n",
       "\n",
       "    .dataframe tbody tr th {\n",
       "        vertical-align: top;\n",
       "    }\n",
       "\n",
       "    .dataframe thead th {\n",
       "        text-align: right;\n",
       "    }\n",
       "</style>\n",
       "<table border=\"1\" class=\"dataframe\">\n",
       "  <thead>\n",
       "    <tr style=\"text-align: right;\">\n",
       "      <th></th>\n",
       "      <th>Cool</th>\n",
       "      <th>Funny</th>\n",
       "      <th>Rating</th>\n",
       "      <th>Text</th>\n",
       "      <th>Useful</th>\n",
       "    </tr>\n",
       "  </thead>\n",
       "  <tbody>\n",
       "    <tr>\n",
       "      <th>27596</th>\n",
       "      <td>5</td>\n",
       "      <td>6</td>\n",
       "      <td>2.0</td>\n",
       "      <td>In theory this place is a fun concept, food, bar, outdoor playground for adults including, lounging areas, large screen tvs, games and servers to bring you whichever cocktail and snacks you desire and the bonus of valet parking.\\nI came to join friends under a reservation for a birthday party, upon walking in overheard that the wait was at least 2 1/2 hours long, I thought wow this place must be amazing....\\nOur reserved seating space was LIMITED, but we managed a game of musical chairs, we're adults we know how to share, stand or wander around without getting lost, really not a big deal. \\nThe food, well if pretzel balls with cheesy fondue and chips is your idea of a meal then you're in luck! I heard they have a great menu although I was never handed one or asked if I wanted one.\\nService, well the one server we had for our entire group seemed to be running like a chicken with her head cut off! Too much for even an awesome server to handle &amp; for those who chose to try their luck at the bar the wait was loooonnnggg!\\nWe did manage to entertain ourselves since the place was jam packed, you couldn't hear the football game, barely heard eachother,  game tables were busy or too crowded to really play, there wasn't room or service to order a meal, drinks took so long your buzz faded in between drinks.\\nAs for the bonus of Valet parking, full before 6:30pm, but if you're willing to risk your life as was suggested by parking across the street and dodging busy traffic then this is the place for you! \\nP.S. Who came up with the concept of shared his and her bathrooms must have been an only child! Bad idea!!!</td>\n",
       "      <td>7</td>\n",
       "    </tr>\n",
       "    <tr>\n",
       "      <th>27597</th>\n",
       "      <td>14</td>\n",
       "      <td>13</td>\n",
       "      <td>2.0</td>\n",
       "      <td>\"Six-foot, seven-foot, eight-foot BUNCH!\\nSix-foot, seven-foot, eight-foot BUNCH!\\n\\n[Verse 1: Lil Wayne]\\n\\n\"Excuse my charisma, vodka with a spritzer...\\nSwagger down pat; call my sh!T Patricia.\\n\\nYoung Money militia and I am the Commissioner\\nYou no wan' start Weezy 'cause the 'F' is for finisher...\\n\\nSo misunderstood, but what's a world without enigma?...\"\\n______________ aNNNND CUT!\\n\\nWhat's the world without enigma?\\n\\n     Allow me to answer Wayne's question. \\n\\nThe world without enigma is hands down,....Grill 55!\\n\\nSadly, despite the eatery's name being over half way to a perfect score, it still falls overwhelmingly flaccid when weighed against its multiple surrounding contenders.\\n\\nNeed I say?, weeks after our meal(s), my partner, his colleague and I departed and are still no less \"weezy\".\\n\\n\"Lollipop'ing within The Renaissance Hotel roughly a block from the clusterphuk that is the LV \"Strip\"rests this classic American \"snitch\" of a comfort food purveyor that is ohhhh so \"Holly'weezy\".\\n\\nOf course and as always, booze from the bar was as \"fo 'sheezy\" upon checking in as \"the block is hot\". \\n\\nThe drive out from Cali' is no joke. \\n\\nI should've known I was in for another ride when 2 cocktails; a mai tai and a Patron margarita hit me up for almost the same price as the restaurant's pseudonym!\\n\\n$45 for 2 drinks is \"ignant sh!T\" as I see it and while they were certainly pivotal in getting me chocolate \"wasted\", had this not been a payday and I not been \"rich as f#ck\", I'd probably have had to \"phone home\" \"after that\"!\\n\\nWhere things waned to capacity was when we all emerged from our mid-afternoon slumbers. Veering against traveling out we descended by elevator arriving to this place only to be greeted by the sound of chirping crickets and tumbleweeds. \\n\\nNow I know I spotted a server in the corner. \\n\\n          *** Was her neglecting to make eye contact strategic???\\n\\nC'mon guRRRL'. \\n\\nNah', I know you see the 3 of us \"over here\" \"finessin'\" our wallets! Can't you see that \"dough is what we got\"???!\\n\\nCan a brutha' get a vodka with a spritzer???!\\n\\nJACKPOT!!!, as shortly after sitting were we enabled to FINALLLLLLLLLY place our orders. \\n\\nOne buh-nana.....\\n\\nOne buh-nana.....\\n\\nJust kidding-\\n\\nFrom medium prepared steaks to a wedge salad, sweet potato fries, mac and cheese (better titled \"mac and PLEASE) and a lackluster burger with bacon, .....EVERYTHING that we ordered fell COMPLETELY flat here. \\n\\nFlatter than boobies in a training bra - FLAT!\\n\\nI was even driven to break out the \"renegades\" and send my steak back......\\n\\n               Or so I thought-\\n\\n(***sighs***)\\n\\nNow where'd our little damned server girl go this  time? \\n\\n         ***  Did she \"bounce\" to re-\"lock and load\"?!! \\n\\n         ***  Was a b!tch in need of some of Kelly's \"Motivation\"?!!\\n\\nI swear, I'm normally not the one to get \"mad\" but adding how long this broad was MIA to the ultimate fact that we were LITERALLY the ONLY hoez' eating at the time and I was compelled to question whether or not if I returned my undone Delmonico, I'd have to \"pray to the Lord\" just for her to \"bring it back \"!\\n\\nThrough Hell and high water, perturbed and STILL HUNGRY we paid and parted ways. \\n\\n$130+/- for half azzed food and this place didn't even come close to \"making it rain\"!\\n\\nHardly worth traveling out of your way for, I'd humbly suggest those reading heed these words:\\n\\nWhen in town and famished, take your \"Georgia...Bush\" on overrrrr to Bellagio. There are FARRRRRRRRRRRRRRRRRR better places to donate your \"bling bling\"!\\n\\nHELL.\\n\\nI could've gotten \"2 prostitutes\" for the price of these 3 meals! Come here if you've got a \"Death Wish\"! \\n\\nNah, that's the \"gossip\" \"fo sheezy\". \"Watch my shoes\"!</td>\n",
       "      <td>12</td>\n",
       "    </tr>\n",
       "    <tr>\n",
       "      <th>27598</th>\n",
       "      <td>10</td>\n",
       "      <td>9</td>\n",
       "      <td>3.0</td>\n",
       "      <td>When one is denied gnocchi, one makes do with massuman curry...\\n\\nTHE SCENE:\\n-----------\\nMr. K reads on Yelp sometime this pm, \"EVERYONE! PASTA BAR IS OPEN!\"\\n\\n\"Holy ish!\" he thinks. \"Finally!\" \\n\\nMr. K doesn't think any further. He takes action.\\n\\n* Zing! *\\n\\nMr. K shows up downtown in his Batmobile. He is ready. And hungry.\\n\\nAnd....walks up to the place next door to Sens which looks like some cool-looking bar/restaurant, but nowhere near ready to open. \\n\\nMr. K feels punked (and now pissed at himself that he didn't bother walking further down the hallway, even thought he thought, \"Huh, I wonder what's down the hallway...\")\\n\\nNever mind pasta now. Mr. K is irate and starving. And decides it's time to finally hit Thai Hut.\\n\\nMr. K parks at a far spot on Walgreen's lot (even though he knows he shouldn't) because he needed to head to Burton-Barr after. He marches towards Thai Hut with conviction, but then he walks through the Cancer Survivor sculpture garden and gets distracted, takes out his camera, and lies down on the sidewalk trying to get a good angle at some of the pieces. Patrons within Thai Hut are staring at him, as if he is mad. And maybe he is. Who knows.\\n\\n20 minutes elapse. Mr. K realizes his stomach is growling. \"Eat, you bastard!\" it says. And so Mr. K puts his cameras away and heads towards Thai Hut and opens the door....\\n\\n* Boom! * \\n\\n\"And Iiiiiiiiiiiiiiiiiiiyaiiiiiiiiiiiiiiiiii will always love youuuuuohhhhhandaiiiiiiiii will always looove youuuuuuuuu...\"\\n\\nSeriously. That's what Mr.K hears the moment he sets his foot in. \\n\\nMr. K observes the scene before him. It is an obvious former diner, as if it was inherited from that 70's sitcom \"Alice\". But now with random Thai bits here and there, including the obligatory \"Thailand\" tourism poster. No pictures of the King and Queen though. Hmm....\\n\\nWhitney has now disappeared and it's \"Heart &amp; Soul\" by T'Pau Apparently they've got the station on Lite Rock/\"The Quiet Storm\"/Adult Soft Hits or something. I get it.\\n\\nFriendly hostess seats me at a booth and it's onto the food...\\n\\nTHE FOOD:\\n---------\\nIt's late lunchtime, and there is obvious hunger. But how much is too much for one guy? What the hey. Mr. K was denied pasta. He deserves to be consoled by an appetizer.\\n \\n\"Chicken satay and beef massuman curry, Thai spicy please.\"\\n\\nVerdict:\\n\\nThe chicken satay itself was pretty good, but the peanut sauce and the cucumber salad were missing a little something. Mr. K doesn't know what. What's Thai for \"oomph?\" The dish was served nicely, though.\\n\\n* Break between appetizer and entree blesses the establishment with the sounds of Jon Secada (\"Just Another Day\"), Christopher Cross (\"Arthur's Theme - The Best That You Can Do\"), and then it's onto a CD with some favorite Thai pop hits! *\\n\\nSo...the beef massuman curry. Presented nicely in a bowl and looked appetizing, although the mound of rice just sitting by itself in the middle of a large plate was a tad odd. No worries. Because hunger trumps aesthetics. Unfortunately, the curry didn't have the heat that was expected (Mr. K sad face), but with a bit of dried chili flakes and chopped Thai green chilis, a solution. Yes. The curry was still tasty and very generous in its portion size: the amount of beef, peanuts, potatoes, etc. Mr. K initially thought half of the dish was going to be dinner, but he ate the whole thing, \\n\\n* As meal ends, CD goes back to radio, for Peter Cetera's \"The Glory of Love\". Mr. K ponders doing The Crane in his booth *\\n\\nBoth dishes together come up to around $19-something with tax. A too-yellow fortune cookie accompanies the bill. Mr. K loves eating fortune cookies but this looks slightly radioactive. Ignore.\\n\\nSERVICE:\\n--------------\\nSurprised at all the complaints about bad service. Maybe the Thai Hutters read Yelp, because Mr. K was treated like a Bollywood superstar. \\n\\nOk, maybe more like a key grip, but they were still very friendly and efficient.\\n\\nSO MR. K DIDN'T HAVE PASTABAR.  HOW DOES HE FEEL NOW?:\\n--------------\\nPasta shmasta. That can wait. He definitely doesn't feel lunch was squandered. Thai Hut would rank somewhere in the middle of the Thai joints he's been to in Phoenix (and in the immediate vicinity, it was better than Wild Thaiger but a step below Thai Elephant).\\n\\nWOULD HE EAT THERE AGAIN?\\n--------------------------------------------\\nSure. He definitely wouldn't avoid it.\\n\\nANYTHING ELSE?\\n-------------------------\\nHad Thai Hut been just south of I-10, it would be in the perfect location to be the casual late night Thai restaurant so many people have been craving for. Or maybe what Mr. K is craving for. Heck, even at their current location, if they stayed open til midnight (or 2 am on weekends) and enough people knew about it,  they could be doing really well for themselves. \\n\\nAs for Pastabar, Mr. K thanks it for being hidden from plain view and not open at lunch anyway. \\n\\nFor today was the day Whitney gave him a g...</td>\n",
       "      <td>8</td>\n",
       "    </tr>\n",
       "    <tr>\n",
       "      <th>27599</th>\n",
       "      <td>12</td>\n",
       "      <td>8</td>\n",
       "      <td>3.0</td>\n",
       "      <td>Not sure that I like the new comp system for drinks, but I guess that's the wave of the future??? I long for the days where the casino bought you cocktails just for gambling.  (At the lobby bar, you gamble until a free drink ticket spits out).  The lobby bar was otherwise good and of course I'll be back on my next visit to the MGM.</td>\n",
       "      <td>17</td>\n",
       "    </tr>\n",
       "    <tr>\n",
       "      <th>27600</th>\n",
       "      <td>5</td>\n",
       "      <td>11</td>\n",
       "      <td>1.0</td>\n",
       "      <td>I think this owner and the owner of Amy's Baking Company are soul mates. That is all...</td>\n",
       "      <td>13</td>\n",
       "    </tr>\n",
       "  </tbody>\n",
       "</table>\n",
       "</div>"
      ],
      "text/plain": [
       "       Cool  Funny  Rating  \\\n",
       "27596     5      6     2.0   \n",
       "27597    14     13     2.0   \n",
       "27598    10      9     3.0   \n",
       "27599    12      8     3.0   \n",
       "27600     5     11     1.0   \n",
       "\n",
       "                                                                                                                                                                                                                                                                                                                                                                                                                                                                                                                                                                                                                                                                                                                                                                                                                                                                                                                                                                                                                                                                                                                                                                                                                                                                                                                                                                                                                                                                                                                                                                                                                                                                                                                                                                                                                                                                                                                                                                                                                                                                                                                                                                                                                                                                                                                                                                                                                                                                                                                                                                                                                                                                                                                                                                                                                                                                                                                                                                                                                                                                                                                                                                                                                                                                                                                                                                                                                                                                                                                                                                                                                                                                                                                                                                                                                                                                                                                                                                                                                                                                                                                                                                                                                                                                                                                                                                                                                                                                                                                                                                                                                                                                                                                                                                                                                                                                                                                                                                                                                                                                                                                                                                                                          Text  \\\n",
       "27596                                                                                                                                                                                                                                                                                                                                                                                                                                                                                                                                                                                                                                                                                                                                                                                                                                                                                                                                                                                                                                                                                                                                                                                                                                                                                                                                                                                                                                                                                                                                                                                                                                                                                                                                                                                                                                                                                                                                                                                                                                                                                                                                                                                                                                                                                                                                                                                                                                                                                                                                                                                                                                                                                                                                                                                                                                                                                                                                                                                                                                                                                                                                                                                                                                                                                                                                                                                                                                                                                                               In theory this place is a fun concept, food, bar, outdoor playground for adults including, lounging areas, large screen tvs, games and servers to bring you whichever cocktail and snacks you desire and the bonus of valet parking.\\nI came to join friends under a reservation for a birthday party, upon walking in overheard that the wait was at least 2 1/2 hours long, I thought wow this place must be amazing....\\nOur reserved seating space was LIMITED, but we managed a game of musical chairs, we're adults we know how to share, stand or wander around without getting lost, really not a big deal. \\nThe food, well if pretzel balls with cheesy fondue and chips is your idea of a meal then you're in luck! I heard they have a great menu although I was never handed one or asked if I wanted one.\\nService, well the one server we had for our entire group seemed to be running like a chicken with her head cut off! Too much for even an awesome server to handle & for those who chose to try their luck at the bar the wait was loooonnnggg!\\nWe did manage to entertain ourselves since the place was jam packed, you couldn't hear the football game, barely heard eachother,  game tables were busy or too crowded to really play, there wasn't room or service to order a meal, drinks took so long your buzz faded in between drinks.\\nAs for the bonus of Valet parking, full before 6:30pm, but if you're willing to risk your life as was suggested by parking across the street and dodging busy traffic then this is the place for you! \\nP.S. Who came up with the concept of shared his and her bathrooms must have been an only child! Bad idea!!!   \n",
       "27597                                                                                                                                                                                                                                                                                                                                                                                                                                                                                                                                                                                                                                                                                                                                                                                                                                                                                                                                                                                                                                                                                                                                                                                                                                                                                   \"Six-foot, seven-foot, eight-foot BUNCH!\\nSix-foot, seven-foot, eight-foot BUNCH!\\n\\n[Verse 1: Lil Wayne]\\n\\n\"Excuse my charisma, vodka with a spritzer...\\nSwagger down pat; call my sh!T Patricia.\\n\\nYoung Money militia and I am the Commissioner\\nYou no wan' start Weezy 'cause the 'F' is for finisher...\\n\\nSo misunderstood, but what's a world without enigma?...\"\\n______________ aNNNND CUT!\\n\\nWhat's the world without enigma?\\n\\n     Allow me to answer Wayne's question. \\n\\nThe world without enigma is hands down,....Grill 55!\\n\\nSadly, despite the eatery's name being over half way to a perfect score, it still falls overwhelmingly flaccid when weighed against its multiple surrounding contenders.\\n\\nNeed I say?, weeks after our meal(s), my partner, his colleague and I departed and are still no less \"weezy\".\\n\\n\"Lollipop'ing within The Renaissance Hotel roughly a block from the clusterphuk that is the LV \"Strip\"rests this classic American \"snitch\" of a comfort food purveyor that is ohhhh so \"Holly'weezy\".\\n\\nOf course and as always, booze from the bar was as \"fo 'sheezy\" upon checking in as \"the block is hot\". \\n\\nThe drive out from Cali' is no joke. \\n\\nI should've known I was in for another ride when 2 cocktails; a mai tai and a Patron margarita hit me up for almost the same price as the restaurant's pseudonym!\\n\\n$45 for 2 drinks is \"ignant sh!T\" as I see it and while they were certainly pivotal in getting me chocolate \"wasted\", had this not been a payday and I not been \"rich as f#ck\", I'd probably have had to \"phone home\" \"after that\"!\\n\\nWhere things waned to capacity was when we all emerged from our mid-afternoon slumbers. Veering against traveling out we descended by elevator arriving to this place only to be greeted by the sound of chirping crickets and tumbleweeds. \\n\\nNow I know I spotted a server in the corner. \\n\\n          *** Was her neglecting to make eye contact strategic???\\n\\nC'mon guRRRL'. \\n\\nNah', I know you see the 3 of us \"over here\" \"finessin'\" our wallets! Can't you see that \"dough is what we got\"???!\\n\\nCan a brutha' get a vodka with a spritzer???!\\n\\nJACKPOT!!!, as shortly after sitting were we enabled to FINALLLLLLLLLY place our orders. \\n\\nOne buh-nana.....\\n\\nOne buh-nana.....\\n\\nJust kidding-\\n\\nFrom medium prepared steaks to a wedge salad, sweet potato fries, mac and cheese (better titled \"mac and PLEASE) and a lackluster burger with bacon, .....EVERYTHING that we ordered fell COMPLETELY flat here. \\n\\nFlatter than boobies in a training bra - FLAT!\\n\\nI was even driven to break out the \"renegades\" and send my steak back......\\n\\n               Or so I thought-\\n\\n(***sighs***)\\n\\nNow where'd our little damned server girl go this  time? \\n\\n         ***  Did she \"bounce\" to re-\"lock and load\"?!! \\n\\n         ***  Was a b!tch in need of some of Kelly's \"Motivation\"?!!\\n\\nI swear, I'm normally not the one to get \"mad\" but adding how long this broad was MIA to the ultimate fact that we were LITERALLY the ONLY hoez' eating at the time and I was compelled to question whether or not if I returned my undone Delmonico, I'd have to \"pray to the Lord\" just for her to \"bring it back \"!\\n\\nThrough Hell and high water, perturbed and STILL HUNGRY we paid and parted ways. \\n\\n$130+/- for half azzed food and this place didn't even come close to \"making it rain\"!\\n\\nHardly worth traveling out of your way for, I'd humbly suggest those reading heed these words:\\n\\nWhen in town and famished, take your \"Georgia...Bush\" on overrrrr to Bellagio. There are FARRRRRRRRRRRRRRRRRR better places to donate your \"bling bling\"!\\n\\nHELL.\\n\\nI could've gotten \"2 prostitutes\" for the price of these 3 meals! Come here if you've got a \"Death Wish\"! \\n\\nNah, that's the \"gossip\" \"fo sheezy\". \"Watch my shoes\"!   \n",
       "27598  When one is denied gnocchi, one makes do with massuman curry...\\n\\nTHE SCENE:\\n-----------\\nMr. K reads on Yelp sometime this pm, \"EVERYONE! PASTA BAR IS OPEN!\"\\n\\n\"Holy ish!\" he thinks. \"Finally!\" \\n\\nMr. K doesn't think any further. He takes action.\\n\\n* Zing! *\\n\\nMr. K shows up downtown in his Batmobile. He is ready. And hungry.\\n\\nAnd....walks up to the place next door to Sens which looks like some cool-looking bar/restaurant, but nowhere near ready to open. \\n\\nMr. K feels punked (and now pissed at himself that he didn't bother walking further down the hallway, even thought he thought, \"Huh, I wonder what's down the hallway...\")\\n\\nNever mind pasta now. Mr. K is irate and starving. And decides it's time to finally hit Thai Hut.\\n\\nMr. K parks at a far spot on Walgreen's lot (even though he knows he shouldn't) because he needed to head to Burton-Barr after. He marches towards Thai Hut with conviction, but then he walks through the Cancer Survivor sculpture garden and gets distracted, takes out his camera, and lies down on the sidewalk trying to get a good angle at some of the pieces. Patrons within Thai Hut are staring at him, as if he is mad. And maybe he is. Who knows.\\n\\n20 minutes elapse. Mr. K realizes his stomach is growling. \"Eat, you bastard!\" it says. And so Mr. K puts his cameras away and heads towards Thai Hut and opens the door....\\n\\n* Boom! * \\n\\n\"And Iiiiiiiiiiiiiiiiiiiyaiiiiiiiiiiiiiiiiii will always love youuuuuohhhhhandaiiiiiiiii will always looove youuuuuuuuu...\"\\n\\nSeriously. That's what Mr.K hears the moment he sets his foot in. \\n\\nMr. K observes the scene before him. It is an obvious former diner, as if it was inherited from that 70's sitcom \"Alice\". But now with random Thai bits here and there, including the obligatory \"Thailand\" tourism poster. No pictures of the King and Queen though. Hmm....\\n\\nWhitney has now disappeared and it's \"Heart & Soul\" by T'Pau Apparently they've got the station on Lite Rock/\"The Quiet Storm\"/Adult Soft Hits or something. I get it.\\n\\nFriendly hostess seats me at a booth and it's onto the food...\\n\\nTHE FOOD:\\n---------\\nIt's late lunchtime, and there is obvious hunger. But how much is too much for one guy? What the hey. Mr. K was denied pasta. He deserves to be consoled by an appetizer.\\n \\n\"Chicken satay and beef massuman curry, Thai spicy please.\"\\n\\nVerdict:\\n\\nThe chicken satay itself was pretty good, but the peanut sauce and the cucumber salad were missing a little something. Mr. K doesn't know what. What's Thai for \"oomph?\" The dish was served nicely, though.\\n\\n* Break between appetizer and entree blesses the establishment with the sounds of Jon Secada (\"Just Another Day\"), Christopher Cross (\"Arthur's Theme - The Best That You Can Do\"), and then it's onto a CD with some favorite Thai pop hits! *\\n\\nSo...the beef massuman curry. Presented nicely in a bowl and looked appetizing, although the mound of rice just sitting by itself in the middle of a large plate was a tad odd. No worries. Because hunger trumps aesthetics. Unfortunately, the curry didn't have the heat that was expected (Mr. K sad face), but with a bit of dried chili flakes and chopped Thai green chilis, a solution. Yes. The curry was still tasty and very generous in its portion size: the amount of beef, peanuts, potatoes, etc. Mr. K initially thought half of the dish was going to be dinner, but he ate the whole thing, \\n\\n* As meal ends, CD goes back to radio, for Peter Cetera's \"The Glory of Love\". Mr. K ponders doing The Crane in his booth *\\n\\nBoth dishes together come up to around $19-something with tax. A too-yellow fortune cookie accompanies the bill. Mr. K loves eating fortune cookies but this looks slightly radioactive. Ignore.\\n\\nSERVICE:\\n--------------\\nSurprised at all the complaints about bad service. Maybe the Thai Hutters read Yelp, because Mr. K was treated like a Bollywood superstar. \\n\\nOk, maybe more like a key grip, but they were still very friendly and efficient.\\n\\nSO MR. K DIDN'T HAVE PASTABAR.  HOW DOES HE FEEL NOW?:\\n--------------\\nPasta shmasta. That can wait. He definitely doesn't feel lunch was squandered. Thai Hut would rank somewhere in the middle of the Thai joints he's been to in Phoenix (and in the immediate vicinity, it was better than Wild Thaiger but a step below Thai Elephant).\\n\\nWOULD HE EAT THERE AGAIN?\\n--------------------------------------------\\nSure. He definitely wouldn't avoid it.\\n\\nANYTHING ELSE?\\n-------------------------\\nHad Thai Hut been just south of I-10, it would be in the perfect location to be the casual late night Thai restaurant so many people have been craving for. Or maybe what Mr. K is craving for. Heck, even at their current location, if they stayed open til midnight (or 2 am on weekends) and enough people knew about it,  they could be doing really well for themselves. \\n\\nAs for Pastabar, Mr. K thanks it for being hidden from plain view and not open at lunch anyway. \\n\\nFor today was the day Whitney gave him a g...   \n",
       "27599                                                                                                                                                                                                                                                                                                                                                                                                                                                                                                                                                                                                                                                                                                                                                                                                                                                                                                                                                                                                                                                                                                                                                                                                                                                                                                                                                                                                                                                                                                                                                                                                                                                                                                                                                                                                                                                                                                                                                                                                                                                                                                                                                                                                                                                                                                                                                                                                                                                                                                                                                                                                                                                                                                                                                                                                                                                                                                                                                                                                                                                                                                                                                                                                                                                                                                                                                                                                                                                                                                                                                                                                                                                                                                                                                                                                                                                                                                                                                                                                                                                                                                                                                                                                                                                                                                                                                                                                                                                                                                                                                                                                                                                                                                                                                                                                                                                            Not sure that I like the new comp system for drinks, but I guess that's the wave of the future??? I long for the days where the casino bought you cocktails just for gambling.  (At the lobby bar, you gamble until a free drink ticket spits out).  The lobby bar was otherwise good and of course I'll be back on my next visit to the MGM.   \n",
       "27600                                                                                                                                                                                                                                                                                                                                                                                                                                                                                                                                                                                                                                                                                                                                                                                                                                                                                                                                                                                                                                                                                                                                                                                                                                                                                                                                                                                                                                                                                                                                                                                                                                                                                                                                                                                                                                                                                                                                                                                                                                                                                                                                                                                                                                                                                                                                                                                                                                                                                                                                                                                                                                                                                                                                                                                                                                                                                                                                                                                                                                                                                                                                                                                                                                                                                                                                                                                                                                                                                                                                                                                                                                                                                                                                                                                                                                                                                                                                                                                                                                                                                                                                                                                                                                                                                                                                                                                                                                                                                                                                                                                                                                                                                                                                                                                                                                                                                                                                                                                                                                                                                                                  I think this owner and the owner of Amy's Baking Company are soul mates. That is all...   \n",
       "\n",
       "       Useful  \n",
       "27596       7  \n",
       "27597      12  \n",
       "27598       8  \n",
       "27599      17  \n",
       "27600      13  "
      ]
     },
     "execution_count": 82,
     "metadata": {},
     "output_type": "execute_result"
    }
   ],
   "source": [
    "df.tail()"
   ]
  },
  {
   "cell_type": "markdown",
   "metadata": {},
   "source": [
    "## Vader is a lexicon and rule-based sentiment analysis tool that is designed based off of sentiments expressed in social media. Most yelp reviews are written in a style similar to that of social media, so using this analyzer makes the most sense for this project"
   ]
  },
  {
   "cell_type": "code",
   "execution_count": 83,
   "metadata": {},
   "outputs": [],
   "source": [
    "si = SentimentIntensityAnalyzer()"
   ]
  },
  {
   "cell_type": "code",
   "execution_count": 84,
   "metadata": {},
   "outputs": [],
   "source": [
    "# Making a new column in my consolidated dataframe getting the compound score (avg of pos, neutral, neg)\n",
    "df['Sentiment'] = df['Text'].map(lambda x: si.polarity_scores(x)['compound'])"
   ]
  },
  {
   "cell_type": "code",
   "execution_count": 85,
   "metadata": {},
   "outputs": [],
   "source": [
    "# Breaking out the giant dataframe into 5 dataframes broken based on the yelp rating\n",
    "df1 = df[df['Rating'] == 1]\n",
    "df2 = df[df['Rating'] == 2]\n",
    "df3 = df[df['Rating'] == 3]\n",
    "df4 = df[df['Rating'] == 4]\n",
    "df5 = df[df['Rating'] == 5]"
   ]
  },
  {
   "cell_type": "code",
   "execution_count": 86,
   "metadata": {},
   "outputs": [
    {
     "name": "stderr",
     "output_type": "stream",
     "text": [
      "/Users/hiowatah/anaconda3/lib/python3.7/site-packages/pandas/core/frame.py:3697: SettingWithCopyWarning: \n",
      "A value is trying to be set on a copy of a slice from a DataFrame\n",
      "\n",
      "See the caveats in the documentation: http://pandas.pydata.org/pandas-docs/stable/indexing.html#indexing-view-versus-copy\n",
      "  errors=errors)\n"
     ]
    }
   ],
   "source": [
    "# resetting the index for the new dataframes\n",
    "df1.reset_index(inplace=True)\n",
    "df1.drop(columns=['index'], inplace = True)\n",
    "\n",
    "df2.reset_index(inplace=True)\n",
    "df2.drop(columns=['index'], inplace = True)\n",
    "\n",
    "df3.reset_index(inplace=True)\n",
    "df3.drop(columns=['index'], inplace = True)\n",
    "\n",
    "df4.reset_index(inplace=True)\n",
    "df4.drop(columns=['index'], inplace = True)\n",
    "\n",
    "df5.reset_index(inplace=True)\n",
    "df5.drop(columns=['index'], inplace = True)"
   ]
  },
  {
   "cell_type": "code",
   "execution_count": 117,
   "metadata": {},
   "outputs": [
    {
     "data": {
      "text/html": [
       "<div>\n",
       "<style scoped>\n",
       "    .dataframe tbody tr th:only-of-type {\n",
       "        vertical-align: middle;\n",
       "    }\n",
       "\n",
       "    .dataframe tbody tr th {\n",
       "        vertical-align: top;\n",
       "    }\n",
       "\n",
       "    .dataframe thead th {\n",
       "        text-align: right;\n",
       "    }\n",
       "</style>\n",
       "<table border=\"1\" class=\"dataframe\">\n",
       "  <thead>\n",
       "    <tr style=\"text-align: right;\">\n",
       "      <th></th>\n",
       "      <th>Cool</th>\n",
       "      <th>Funny</th>\n",
       "      <th>Rating</th>\n",
       "      <th>Text</th>\n",
       "      <th>Useful</th>\n",
       "      <th>Sentiment</th>\n",
       "    </tr>\n",
       "  </thead>\n",
       "  <tbody>\n",
       "    <tr>\n",
       "      <th>4788</th>\n",
       "      <td>10</td>\n",
       "      <td>15</td>\n",
       "      <td>1.0</td>\n",
       "      <td>BEDBUGS!!!!!!!!!!!!!!!!!!!\\nDo you like bloodsucking parasites? No? Then AVOID ALL THINGS TRUMP. The worst thing is, you'll bring em home with you--YOU CAN'T ESCAPE THEM.It wasn't my choice to stay in a Trump hotel, but a few stupid people made the decision for me against my wishes. Now we're all paying for it! What a nasty place.</td>\n",
       "      <td>39</td>\n",
       "      <td>-0.9435</td>\n",
       "    </tr>\n",
       "    <tr>\n",
       "      <th>4789</th>\n",
       "      <td>8</td>\n",
       "      <td>16</td>\n",
       "      <td>1.0</td>\n",
       "      <td>Oh heavens! You're sporting a \"Got Vokda?\" slogan. You market yourself as a Polish restaurant, yes, but before that a craft cocktail bar specializing in vodka. \\n\\nYou use Sobieski in the majority of your cocktails. What the actual heck? Nothing small-batch. Not even something a little upscale. You use vodka that would only even pass as mid-shelf at a freaking Wal-Mart, but charge the same prices as places like Blue Hound or the rest of this city's premier watering holes.\\n\\nMy \"Napolean Complex\" tasted like rubbing alcohol. The alleged absinthe was not noticeable. It was icky all the way down. The \"Cactus Milk\" I tried tasted like someone panicked about not being able to fill the glass with ingredients that mattered, and topped it off with way too much soda water. It was diluted. If you're gonna take forever to get these drinks to us, make them with care! Or at least, better ingredients.\\n\\nOn the way out, we learned they don't take AMEX. Yes, in the 2010s. In a neighborhood in which we can be chauffeured about using smartphones, and bars are still unable to take certain cards. How gauche. \\n\\nSo yeah, this place is aesthetic. It looks and feels cooler than it actually is. The workers appear sharp. That's nice. I didn't try the pierogies, and perhaps I missed out. There are plenty of other Polish restaurants I can enjoy these in. As a bar, this messes up on a very fundamental level. If I'm going to splurge on my drinks, I'd be better served virtually anywhere else within a two-mile radius, so this will go in the books as a rare one-star review.</td>\n",
       "      <td>14</td>\n",
       "      <td>0.9796</td>\n",
       "    </tr>\n",
       "    <tr>\n",
       "      <th>4790</th>\n",
       "      <td>6</td>\n",
       "      <td>8</td>\n",
       "      <td>1.0</td>\n",
       "      <td>Pure scam no contract is bullshit and they do NOT want African Americans using their gym from what the treatment I've received as opposed to my Caucasian friends! I feel so belittled and beat up trying to cancel due to my situation I've been told i have no excuses as a single mother of three and that i have every excuse but they've made 7 months of payment from me without me even ENTERING their gym DO NOT GET SCAMMED. I'm reporting this treatment to the news</td>\n",
       "      <td>9</td>\n",
       "      <td>-0.7782</td>\n",
       "    </tr>\n",
       "    <tr>\n",
       "      <th>4791</th>\n",
       "      <td>13</td>\n",
       "      <td>12</td>\n",
       "      <td>1.0</td>\n",
       "      <td>They made it onto a segment called \"Dirty Dining\" with our local channel 13 and reporter Darcy Spears! I knew it!\\n11/7/18. Look it up on the internet. Health district claiming the most disgusting findings. I hope they clean this place up.  \\n\\nThis is not a review I like to post, but I feel that the owners should be aware. \\n\\nProbably the most disgusting place I have ever eaten at. Only reason we went was because my 8yr old nephew likes their macaroni pizza. And that's where he wanted to go for his birthday. \\n\\nFilthy, unsanitary, gross and completely neglected.\\nHow is a pizza place so gross? It should be shut down for dirty dining. \\n\\nSad to see that no one cares. It's that bad.</td>\n",
       "      <td>30</td>\n",
       "      <td>-0.9845</td>\n",
       "    </tr>\n",
       "    <tr>\n",
       "      <th>4792</th>\n",
       "      <td>5</td>\n",
       "      <td>11</td>\n",
       "      <td>1.0</td>\n",
       "      <td>I think this owner and the owner of Amy's Baking Company are soul mates. That is all...</td>\n",
       "      <td>13</td>\n",
       "      <td>0.0000</td>\n",
       "    </tr>\n",
       "  </tbody>\n",
       "</table>\n",
       "</div>"
      ],
      "text/plain": [
       "      Cool  Funny  Rating  \\\n",
       "4788    10     15     1.0   \n",
       "4789     8     16     1.0   \n",
       "4790     6      8     1.0   \n",
       "4791    13     12     1.0   \n",
       "4792     5     11     1.0   \n",
       "\n",
       "                                                                                                                                                                                                                                                                                                                                                                                                                                                                                                                                                                                                                                                                                                                                                                                                                                                                                                                                                                                                                                                                                                                                                                                                                                                                                                                                                                                                                                                                                                                                                                                                                                     Text  \\\n",
       "4788                                                                                                                                                                                                                                                                                                                                                                                                                                                                                                                                                                                                                                                                                                                                                                                                                                                                                                                                                                                                                                                                                                                                                                                                                                                                                         BEDBUGS!!!!!!!!!!!!!!!!!!!\\nDo you like bloodsucking parasites? No? Then AVOID ALL THINGS TRUMP. The worst thing is, you'll bring em home with you--YOU CAN'T ESCAPE THEM.It wasn't my choice to stay in a Trump hotel, but a few stupid people made the decision for me against my wishes. Now we're all paying for it! What a nasty place.   \n",
       "4789  Oh heavens! You're sporting a \"Got Vokda?\" slogan. You market yourself as a Polish restaurant, yes, but before that a craft cocktail bar specializing in vodka. \\n\\nYou use Sobieski in the majority of your cocktails. What the actual heck? Nothing small-batch. Not even something a little upscale. You use vodka that would only even pass as mid-shelf at a freaking Wal-Mart, but charge the same prices as places like Blue Hound or the rest of this city's premier watering holes.\\n\\nMy \"Napolean Complex\" tasted like rubbing alcohol. The alleged absinthe was not noticeable. It was icky all the way down. The \"Cactus Milk\" I tried tasted like someone panicked about not being able to fill the glass with ingredients that mattered, and topped it off with way too much soda water. It was diluted. If you're gonna take forever to get these drinks to us, make them with care! Or at least, better ingredients.\\n\\nOn the way out, we learned they don't take AMEX. Yes, in the 2010s. In a neighborhood in which we can be chauffeured about using smartphones, and bars are still unable to take certain cards. How gauche. \\n\\nSo yeah, this place is aesthetic. It looks and feels cooler than it actually is. The workers appear sharp. That's nice. I didn't try the pierogies, and perhaps I missed out. There are plenty of other Polish restaurants I can enjoy these in. As a bar, this messes up on a very fundamental level. If I'm going to splurge on my drinks, I'd be better served virtually anywhere else within a two-mile radius, so this will go in the books as a rare one-star review.   \n",
       "4790                                                                                                                                                                                                                                                                                                                                                                                                                                                                                                                                                                                                                                                                                                                                                                                                                                                                                                                                                                                                                                                                                                                                                       Pure scam no contract is bullshit and they do NOT want African Americans using their gym from what the treatment I've received as opposed to my Caucasian friends! I feel so belittled and beat up trying to cancel due to my situation I've been told i have no excuses as a single mother of three and that i have every excuse but they've made 7 months of payment from me without me even ENTERING their gym DO NOT GET SCAMMED. I'm reporting this treatment to the news   \n",
       "4791                                                                                                                                                                                                                                                                                                                                                                                                                                                                                                                                                                                                                                                                                                                                                                                                                                                                                                                They made it onto a segment called \"Dirty Dining\" with our local channel 13 and reporter Darcy Spears! I knew it!\\n11/7/18. Look it up on the internet. Health district claiming the most disgusting findings. I hope they clean this place up.  \\n\\nThis is not a review I like to post, but I feel that the owners should be aware. \\n\\nProbably the most disgusting place I have ever eaten at. Only reason we went was because my 8yr old nephew likes their macaroni pizza. And that's where he wanted to go for his birthday. \\n\\nFilthy, unsanitary, gross and completely neglected.\\nHow is a pizza place so gross? It should be shut down for dirty dining. \\n\\nSad to see that no one cares. It's that bad.   \n",
       "4792                                                                                                                                                                                                                                                                                                                                                                                                                                                                                                                                                                                                                                                                                                                                                                                                                                                                                                                                                                                                                                                                                                                                                                                                                                                                                                                                                                                                                                                                                                                                              I think this owner and the owner of Amy's Baking Company are soul mates. That is all...   \n",
       "\n",
       "      Useful  Sentiment  \n",
       "4788      39    -0.9435  \n",
       "4789      14     0.9796  \n",
       "4790       9    -0.7782  \n",
       "4791      30    -0.9845  \n",
       "4792      13     0.0000  "
      ]
     },
     "execution_count": 117,
     "metadata": {},
     "output_type": "execute_result"
    }
   ],
   "source": [
    "df1.tail()"
   ]
  },
  {
   "cell_type": "markdown",
   "metadata": {},
   "source": [
    "# The worst 1 star review"
   ]
  },
  {
   "cell_type": "code",
   "execution_count": 101,
   "metadata": {},
   "outputs": [
    {
     "data": {
      "text/html": [
       "<div>\n",
       "<style scoped>\n",
       "    .dataframe tbody tr th:only-of-type {\n",
       "        vertical-align: middle;\n",
       "    }\n",
       "\n",
       "    .dataframe tbody tr th {\n",
       "        vertical-align: top;\n",
       "    }\n",
       "\n",
       "    .dataframe thead th {\n",
       "        text-align: right;\n",
       "    }\n",
       "</style>\n",
       "<table border=\"1\" class=\"dataframe\">\n",
       "  <thead>\n",
       "    <tr style=\"text-align: right;\">\n",
       "      <th></th>\n",
       "      <th>Cool</th>\n",
       "      <th>Funny</th>\n",
       "      <th>Rating</th>\n",
       "      <th>Text</th>\n",
       "      <th>Useful</th>\n",
       "      <th>Sentiment</th>\n",
       "    </tr>\n",
       "  </thead>\n",
       "  <tbody>\n",
       "    <tr>\n",
       "      <th>1868</th>\n",
       "      <td>21</td>\n",
       "      <td>23</td>\n",
       "      <td>1.0</td>\n",
       "      <td>a sham &amp; a farce - charlatans cashing in on the health food market! \\n   only the salads are worth eating - a gamble! the help are nice, but clueless, we took our food to go, couldn't wait to leave, it's a bogus health food joint, fake food! artificial sugars! garbage condiments - all chemicals! \\n   the fish is \"farm raised\" that's toxic, only eat wild!\\nfarm raised feed is toxic that they give farm raised fish, all over, farm raised is bad!  it's bs bad quality fish &amp; harmful to you!\\n  stay away from farm raised fish! it's cheap for businesses to buy, and they charge you the same high price as the good wild fish.\\n     the condiments are all artificial chemicals, loaded w/sugar, fake food chemical dye food colorings, preservatives that equates to \"toxic cancer\"! \\nthey have smuckers, heinz mustard &amp; heinz ketchup, all artificial crap. what a joke! this is ludicrous &amp; unhealthy crap!\\n   also they cook and have sriracha  on the counter with smuckers and heinz in the condiment box tray to use. all toxic! \\npeople living near the sriracha plant in ca. all got seriously sick just from breathing the fumes emanating from the plant. it's toxic poison! stay away! this place is capitalizing on the health food market with fake, nasty, sickly food &amp; preparations! help wipes tables down, deals with credit cards, money and your food, never washing hands!\\n\\n  all ingredients with artificial, preservatives and chemical food colorings in your food and drink, act as acid on your bones, slowly burning away your bones, causing arthritis, parkinson's, dementia, alzheimer's and many other diseases, sickness and ailments, its true!\\n    make healthy choices! this place is despicable and a disgrace. a menace and tarnishes the health food industry! \\nthis place is a con job. fake &amp; disgraceful! total scam!\\n   fake health food &amp; sugar drinks! \\ndummycrats must be pushing this place for the mindless automaton sheep to stay braindead, and dumb. only the simpletons eat here. you r what u eat!\\n   read ingredients, stop being meatheads! take charge, take control of your health, or, enjoy a life long series of doctor visits and illnesses, that's your life you can bet on it. or you can make healthy choices, for a healthy you! \\n   don't be a fool following the soft on intellect zombie robots &amp; simple simons.  this place is a sham selling lies &amp; cashing in on your stupidity!  a sellout with low grade food!\\n wake up now, or later on the operating table! your choice.\\n   red wave coming!  everyone\"s waking up!  MAGA\\n\\nTHEY CAN\"T HANDLE THE TRUTH!  FAKE w/VERY UNHEALTHY CRAP!  CLUELESS ON HEALTH &amp; NUTRITION! TOXIC JUNK!\\nall automaton clueless sheep flock here! all garbage condiments, artificial. toxic fake garbage - total crap.  poison!  \\nfake bs snake oil salesman selling lies! THEY USE ARTIFICIAL CRAP!\\n fake food - charlatans selling crap! crappola=junk!\\n   not healthy - artificial toxic garbage - lies, a deceitful disgrace - a sham! unhealthy - a mockery! dishonest dive! MICRO WAVE USED!\\nthis place is a joke!  don't eat here, toxic garbage ingredients!\\n    \\n \"NEVER PUT ANYTHING ARTIFICIAL IN YOUR BODY\"!\\nClueless Claud, Doctors &amp; nurses study &amp; push DRUGS &amp; serve up micro waved junk fake food in hospitals. Clueless on nutrition, most obese &amp; lethargic out of shape in poor health, DRUG PUSHING QUACKS! BLOODSUCKER$! WAKE UP!  What a clown!  NUKED FOOD HERE!  NO NUTRITIONAL VALUE!  FAKE &amp; TOXIC!</td>\n",
       "      <td>31</td>\n",
       "      <td>-0.9995</td>\n",
       "    </tr>\n",
       "  </tbody>\n",
       "</table>\n",
       "</div>"
      ],
      "text/plain": [
       "      Cool  Funny  Rating  \\\n",
       "1868    21     23     1.0   \n",
       "\n",
       "                                                                                                                                                                                                                                                                                                                                                                                                                                                                                                                                                                                                                                                                                                                                                                                                                                                                                                                                                                                                                                                                                                                                                                                                                                                                                                                                                                                                                                                                                                                                                                                                                                                                                                                                                                                                                                                                                                                                                                                                                                                                                                                                                                                                                                                                                                                                                                                                                                                                                                                                                                                                                                                                                                                                                                                                                                                                                                                                                                                                                                                                                                                                                                                                                                                                                                                                                                                                                                                                                                                                                                               Text  \\\n",
       "1868  a sham & a farce - charlatans cashing in on the health food market! \\n   only the salads are worth eating - a gamble! the help are nice, but clueless, we took our food to go, couldn't wait to leave, it's a bogus health food joint, fake food! artificial sugars! garbage condiments - all chemicals! \\n   the fish is \"farm raised\" that's toxic, only eat wild!\\nfarm raised feed is toxic that they give farm raised fish, all over, farm raised is bad!  it's bs bad quality fish & harmful to you!\\n  stay away from farm raised fish! it's cheap for businesses to buy, and they charge you the same high price as the good wild fish.\\n     the condiments are all artificial chemicals, loaded w/sugar, fake food chemical dye food colorings, preservatives that equates to \"toxic cancer\"! \\nthey have smuckers, heinz mustard & heinz ketchup, all artificial crap. what a joke! this is ludicrous & unhealthy crap!\\n   also they cook and have sriracha  on the counter with smuckers and heinz in the condiment box tray to use. all toxic! \\npeople living near the sriracha plant in ca. all got seriously sick just from breathing the fumes emanating from the plant. it's toxic poison! stay away! this place is capitalizing on the health food market with fake, nasty, sickly food & preparations! help wipes tables down, deals with credit cards, money and your food, never washing hands!\\n\\n  all ingredients with artificial, preservatives and chemical food colorings in your food and drink, act as acid on your bones, slowly burning away your bones, causing arthritis, parkinson's, dementia, alzheimer's and many other diseases, sickness and ailments, its true!\\n    make healthy choices! this place is despicable and a disgrace. a menace and tarnishes the health food industry! \\nthis place is a con job. fake & disgraceful! total scam!\\n   fake health food & sugar drinks! \\ndummycrats must be pushing this place for the mindless automaton sheep to stay braindead, and dumb. only the simpletons eat here. you r what u eat!\\n   read ingredients, stop being meatheads! take charge, take control of your health, or, enjoy a life long series of doctor visits and illnesses, that's your life you can bet on it. or you can make healthy choices, for a healthy you! \\n   don't be a fool following the soft on intellect zombie robots & simple simons.  this place is a sham selling lies & cashing in on your stupidity!  a sellout with low grade food!\\n wake up now, or later on the operating table! your choice.\\n   red wave coming!  everyone\"s waking up!  MAGA\\n\\nTHEY CAN\"T HANDLE THE TRUTH!  FAKE w/VERY UNHEALTHY CRAP!  CLUELESS ON HEALTH & NUTRITION! TOXIC JUNK!\\nall automaton clueless sheep flock here! all garbage condiments, artificial. toxic fake garbage - total crap.  poison!  \\nfake bs snake oil salesman selling lies! THEY USE ARTIFICIAL CRAP!\\n fake food - charlatans selling crap! crappola=junk!\\n   not healthy - artificial toxic garbage - lies, a deceitful disgrace - a sham! unhealthy - a mockery! dishonest dive! MICRO WAVE USED!\\nthis place is a joke!  don't eat here, toxic garbage ingredients!\\n    \\n \"NEVER PUT ANYTHING ARTIFICIAL IN YOUR BODY\"!\\nClueless Claud, Doctors & nurses study & push DRUGS & serve up micro waved junk fake food in hospitals. Clueless on nutrition, most obese & lethargic out of shape in poor health, DRUG PUSHING QUACKS! BLOODSUCKER$! WAKE UP!  What a clown!  NUKED FOOD HERE!  NO NUTRITIONAL VALUE!  FAKE & TOXIC!   \n",
       "\n",
       "      Useful  Sentiment  \n",
       "1868      31    -0.9995  "
      ]
     },
     "execution_count": 101,
     "metadata": {},
     "output_type": "execute_result"
    }
   ],
   "source": [
    "df1[df1.Sentiment == df1['Sentiment'].min()]"
   ]
  },
  {
   "cell_type": "markdown",
   "metadata": {},
   "source": [
    "# The best 5 star reviews"
   ]
  },
  {
   "cell_type": "code",
   "execution_count": 122,
   "metadata": {},
   "outputs": [],
   "source": [
    "# To make the text more readable, can replace the number in the loc below to the index value\n",
    "# print(df5.loc[1274, 'Text'])"
   ]
  },
  {
   "cell_type": "code",
   "execution_count": 109,
   "metadata": {},
   "outputs": [
    {
     "data": {
      "text/html": [
       "<div>\n",
       "<style scoped>\n",
       "    .dataframe tbody tr th:only-of-type {\n",
       "        vertical-align: middle;\n",
       "    }\n",
       "\n",
       "    .dataframe tbody tr th {\n",
       "        vertical-align: top;\n",
       "    }\n",
       "\n",
       "    .dataframe thead th {\n",
       "        text-align: right;\n",
       "    }\n",
       "</style>\n",
       "<table border=\"1\" class=\"dataframe\">\n",
       "  <thead>\n",
       "    <tr style=\"text-align: right;\">\n",
       "      <th></th>\n",
       "      <th>Cool</th>\n",
       "      <th>Funny</th>\n",
       "      <th>Rating</th>\n",
       "      <th>Text</th>\n",
       "      <th>Useful</th>\n",
       "      <th>Sentiment</th>\n",
       "    </tr>\n",
       "  </thead>\n",
       "  <tbody>\n",
       "    <tr>\n",
       "      <th>515</th>\n",
       "      <td>34</td>\n",
       "      <td>24</td>\n",
       "      <td>5.0</td>\n",
       "      <td>Using up characters by saying I'm going to run out of characters. The eternal struggle. That's the only negativity you'll hear from me in this review, though. Yerba Buena has been on my list for ages before I finally dined here on Thursday night. So my expectations were very high. Usually that doesn't work out so well for me, but not the case here. The cocktails were superb, the food was even better, and the service was on another level. This place is all kinds of fabulous.YB is located in one of the hotter areas of the city--straddles the LES and the East Village in the most platonic way. A friend and I made reservations because the space itself, though lovely, is pretty small. Though the place was filled with parties of friends on this particular night, I'd say it's just as viable for a date spot--especially if you decide to dine tapas-style. Despite YB being a smaller restaurant, they happily accommodate larger groups. We were very surprised to find a group of maybe 12 guys celebrating someone's birthday. Surprising, because how many guys do you know that can successfully rally ALL of the troops for a birthday dinner at a fun restaurant? Maybe I'm ignorant, but my friend was just as intrigued as I was. Anyway.Though the prices at YB are pretty typical for Spanish spots, the hospitality and decor here are that of a much nicer restaurant. Everything is beautifully polished and refined, which was a pleasant surprise. Being the twentysomethings that we are, we were totally floored when several members of the waitstaff promptly offered to remove our jackets as we sat down. Not mad at it. As it turns out, we got double the love, because we had to switch tables soon after getting settled at our table. The host told us that he needed our space for a party of four but that he'd seat us in a booth right away. As we swapped, he told us that we shouldn't worry, for he'd personally take care of us for the rest of the night. And this didn't seem forced or overkill or anything like that. The dude was just all kinds of classy. When words like \"decorum\" and \"etiquette\" are thrown around, well, this was that.Onto the drinks. I had the Poquito Picante (gin + jalapeño + cilantro + cucumber + combier + fresh lemon juice) and the Desert Rose (rose infused gin + prickly pear purée + lemon juice). The Poquito Picante, though not as aesthetically pleasing as the Desert Rose, is my ideal cocktail. If you've read my other cocktail reviews, you know that spicy cocktails are my jam (do people still say that?). This drink is thoughtful, creative, well-balanced and supremely satisfying. It's apparently their most popular drink, which doesn't surprise me one bit (sorry, I think I've used that word a lot in this review). The Desert Rose pretty much tastes like you're drinking a posh English garden, minus the dirt. It's not bad, but I'd pass on it if I got a do-over. Still appreciate the creativity though.Our food damage was as follows:Hojas de Salmon (black truffle vinaigrette, quinoa, green onion-jalapeño salsa, yuzu): AThe black truffle vinaigrette sold us. This was the perfect dish to start off our meal. Light but plenty flavorful, texturally interesting and more conducive to sharing than some of the over options. Chicharron de Calamar (blue corn meal-crusted calamari, sweet plantains, tamarind vinaigrette): A+I don't order calamari when I'm out unless there's some kind of twist. In my opinion, there's always something more interesting to order. Whoever decided to experiment with ways to bread calamari hit the jackpot with this one. The blue corn meal added fantastic flavor and texture which made for one of the best calamari dishes I've ever had. Both the calamari and the plantains are dressed in equally tasty tamarind vinaigrette. For those wary about trying ceviche but are craving seafood, this is your baby.Brisket tacos (chipotle braised brisket, corn tortillas, avocado, chipotle salsa): A+What could be bad? Look at the ingredients and it's pretty damn obvious how drool-worthy these babies are. Sure, it's not the most creative dish on the menu, but who needs creative when you have perfectly-braised brisket, avo AND all the chipotle. Come on friends, make the right move.Toro Taquitos (tuna tartar, peanut butter aioli, chile de arbol, cilantro chimichurri): A+For whatever reason, I didn't expect these to come in \"taco\" form, despite the name. If you're hesitant to order to ceviche dishes, this is nothing like any ceviche you've have before. You get three thin, crispy tacos filled with all the fixin's here. They pair peanut butter and tuna in two dishes here, a venture I'm in full support of. Somehow it works. These are fresh, rich, herbaceous and satisfying. Seriously yum.$100 bill. Standard for tapas in NYC.As we were in the process of paying, the host approached us with two champagne flutes and poured us each a glass for a complimentary toast.\"I told you I'd take care of you,\" he said. Mic drop.</td>\n",
       "      <td>35</td>\n",
       "      <td>0.9997</td>\n",
       "    </tr>\n",
       "    <tr>\n",
       "      <th>921</th>\n",
       "      <td>9</td>\n",
       "      <td>10</td>\n",
       "      <td>5.0</td>\n",
       "      <td>Piora was simply amazing and I had a wonderful time at this cozy restaurant in West Village with my friends. The restaurant newly opened under the command of Simon Kim, the restaurateur and Chris Cipollone, an amazing chef. Our experiences here could not have been better. The staff was extremely friendly and accommodating providing an impeccable service, the bartenders were amazing (gotta try the Sake Nog!), and the food was fantastic. No wonder why Piora received so much publicity and was raved on magazines, restaurant reviews, and newspapers by so many! The ambience was just perfect for a small party, not too loud, but intimate enough to really have a nice meal with friends. With the beautiful lighting in the back of the restaurant, I would highly recommend this place to couples as well. For those who want a meal under a more casual setting, please feel free to sit at the bar to enjoy your meal with a friend or even by yourself. In any way, this small restaurant can fit all! Our meal started with the complementary starter potato truffle soup, which was tasty and followed by Monkey Bread, Sweet Potato, Barbeque Octopus, and Carrots. My favorite was the carrot, which was so unexpected. The yogurt sauce blended well with the carrot and created perfect harmony. It was certainly a new taste, simple and elegant. Barbeque Octopus was also amazing with an interesting twist. I definitely sensed the Korean element in this dish, which was done in a contemporary approach. The texture of the octopus was great, sauce blended well, and wonderfully presented. Sweet Potato, which is common in Korea, was perfect, just the way it should be and it brought out the nostalgic feeling in me. Monkey Bread with seaweed and rosemary lardo butter really kicked the door open for our demanding appetites.Our main dishes were Bucatini and Rohan duck, which were both out of this world. Bucatini with dungeness crab, black garlic and chili added a light scent of spiciness to the dish, while elevating the beautiful mixture of garlic and crab taste into a perfected crafted pasta. Rohan duck was quite possibly the best duck dish I've had in New York. The jujube sauce and the tangy flavor created harmony with the richness of the duck. It was just perfect. We finished our dinner with a Mango sorbet w/ cotton candy that was not only beautiful in presentation, but also heavenly in taste. Mango pieces chopped with mango sorbet, basil sauce, creme, and small meringue pieces was delightfully light and refreshing. I am looking forward to come back here to try out other dishes as well. My dining experience here was amazing and I can't wait to see the new menus that will be rolling out as the year goes. Also, Shinya Yamao is also a key attribute to this wonderful place as his charismatic presence parallels his skills for the most wondrous drinks. If you are not looking for a meal, feel free to swing by and sit at the bar for drinks. You will be pleasantly surprised. Thank you Piora!</td>\n",
       "      <td>9</td>\n",
       "      <td>0.9997</td>\n",
       "    </tr>\n",
       "    <tr>\n",
       "      <th>1274</th>\n",
       "      <td>6</td>\n",
       "      <td>6</td>\n",
       "      <td>5.0</td>\n",
       "      <td>Excellent meal with the Bloomspot pre fixe menu! My bf bought a deal for $78 and we left very satisfied and full.. feeling like we got to sample BondSt's best dishes. Our rez was for Sat at 7:30- they didn't have anything after until 10:30. When we arrived, it was pretty quiet but started bustling at 8pm. The space is really beautiful (except the bathroom is very small) but note that with this deal, you can only eat in the lounge (which is a separate space- downstairs). If you can, try to eat at the bar because honestly the lounge tables are so low, you need to hunch down. The seats are nice plum benches with pillow...everything looks Japanese zen. We took a peak at the restaurant- the space above, which looked also very sleek, trendy with flowery decor. On the service: our waitress was so sweet, polite, and refilled our waters on time. She was not stingy about the deal at all and kept saying it was a sampling of the best dishes. She gave good recommendations as well and paced our meal nicely. Of course, every dish had the most beautiful presentation.We had: 1. 2 cocktails- $14-15 each. I had the St Germaine- which was very good. I love Shochu because it's not strong.. I get pretty drunk off it. Otherwise, there was a hint of lemon, and elderflower..not sure what that tastes like but it was very sweet. My bf got The Maurice, which he said he didn't like. I liked it- it had a very rice-y aftertaste and wasn't as easy to go down as the St Germaine because it was less sweet. Other suggestions our waitress made was the lychee martini and the dry saketini. 2. The tuna tarts- AWESOME. my favorite dish!! It was so buttery because it was thin slices of delicious fleshy tuna soaked in truffles and butter...with some kind of green leaf atop (cloves?)..on a crispy thin rice cracker.. cut into two small pizzas. So yummy. 3. The red snapper tacos- I loved how crispy the taco shells were; very freshly fried. The snapper was soft and flaky..and the guac and lime were great accompanists. I would say that this was probably my least favorite dish- though excellent- the flavors weren't as complex (I've had this kind of fish taco before) 4. The sea bass skewer- 2nd favorite. AMAZING! I'm glad we got to try this because people like the sea bass at BondSt. It was perfectly charred on the outside without being overcooked- and the bass was so buttery, with a yummy sweet sauce. The mung bean salad that came with it was also great- crispy with a touch of salt. 5. Main dish: 2 rolls of sushi, and 4 sashimi. The menu gave us a great taste of BondSt's sushi and apps. Our rolls were spicy tuna and shrimp tempura. I didn't love the shrimp tempura but then again i am a sushi purist and think anything sushi tempura was made for fake sushi fans. The shrimp was very breaded and fried- differently from the typical panko batter. It was so fried it sort of drown the flavor. The spicy mayo that came with this roll had a curry accent. The second roll was excellent- spicy tuna. I could tell the tuna was very rich..pretty sure it might have been the toro (belly). I especially loved the RICE- it was packed with flavor; with black sesame, which was great! The sashimi- was very fresh, but not the freshest. It was firm and had good texture- not too goopy (hate sashimi that's goopy and cold.. meaning it was frozen). We had 2 slices of: big eye tuna, salmon and yellowtail. Yellowtail was my favorite- but it usually is; very clean. 6. Dessert- chocolate meltdown which was a molten lava cake. Very delicious but my all time fav molten cake is that of JeanGeroge's. The outside layers were on the drier side (not bad just fyi) but the middle was very melty. It came with espresso ice cream, which had a strong flavor and had a bottom cookie crunch. They were no pressure to upsell anything; we paid 20% tip for excellent service on our pre discounted amount. Def. get this deal if you see it- it's a steal! Deal or no deal, I'd come back when I want some yummy Japanese... this place is kind of like EN (equally amazing) but a bit trendier.</td>\n",
       "      <td>13</td>\n",
       "      <td>0.9997</td>\n",
       "    </tr>\n",
       "    <tr>\n",
       "      <th>1492</th>\n",
       "      <td>18</td>\n",
       "      <td>10</td>\n",
       "      <td>5.0</td>\n",
       "      <td>Red Rooster is one of the hottest restaurants in town. A reservation 3 weeks in advance will still have you eating after 9pm, and even then you may get \"bumped\" by a celebrity patron. In our case, it was Questlove. In all honesty, these are not the kind of places that I am inclined to like very much, but this place offers up amazing food at a really affordable price, so like every mere mortal, I anxiously await my turn in the very long line to eat here. It really is worth the effort. The restaurant is small, and the space is nearly evenly divided between the animated bar up front and a choice collection of tables (some communal) in the rear all set before an open view kitchen. The bar doesn't require reservations, so it is considerably more crowded. The clientele are generally well-heeled, smartly dressed, and squarely middle-aged. The bartenders mix up an intriguing list of cocktails, that are delicious and worthy of attention. The eponymous \"Big Red Rooster\" ($14) was surprisingly smooth and astoundingly good. Who can error with cinnamon-infused bourbon? Add to that Dolin Rouge, Averna Amaro, and orange bitters, and you have an instant classic. Eventually we were called to our seats, and had a gander at the menu. It is notably short, but the selections are strong. We decided to begin with 2 appetizers: the oysters with ginger mignonette ($10) and the corn tacos and tostadas ($10). The oysters were fresh and delicious! Interestingly enough, they were served with a surprise vodka shooter which I have not encountered before. Better yet were the tacos and tostadas. They are quite small and easily managed with a mere two bites apiece, but what amazing bites! The yellowtail and salmon contained within were very fresh. It's strange, the preparations were conventional, but the taste was anything but. That is what is great about a skilled chef, able to make the most of every bite. Great texture and flavors throughout, leaving you wanting more. For the main course, I had the blackened catfish ($23). This was an exceptionally well crafted dish that was engaging on several levels and looked beautiful. The catfish had great color and texture and was well seasoned in such a way as to enhance the dish without obfuscation or dominance. It rested on a bed of black eyed peas that were mixed with celery root. Great idea. Another surprise? The use of fried pickles. I loved the delicate walk between comfort food and fine dining exemplified in this dish. The flavors harmonized, and it was simply a joy to eat. Clearly with this run-up, dessert could not be missed. So we decided to share the Black and White Mud ($8). Even this was amazing! Chocolate cookie crust, chocolate fudge, vanilla fudge coming together to make for a rather rich dessert. That much would have made it good, and perhaps forgettable. Garnish it with coarse sea salt and candied ginger, and it becomes wondrous. Honestly, my first bite registered a sweet, rich dessert, then there was a second wave with the salt coming through, and then two seconds later, that wow moment when my mind registered the dish as a whole. Oh my goodness, this is really quite good. How do you top an amazing meal with amazing cocktails? Well, Marcus Samuelsson himself came over and shook my hand and posed for a photo with my girlfriend. We also saw him actively working in the kitchen which is a rarity for known chefs these days. As good as it gets folks, reserve a table at your earliest opportunity. Strongly recommend.</td>\n",
       "      <td>18</td>\n",
       "      <td>0.9997</td>\n",
       "    </tr>\n",
       "    <tr>\n",
       "      <th>1630</th>\n",
       "      <td>18</td>\n",
       "      <td>7</td>\n",
       "      <td>5.0</td>\n",
       "      <td>Soto is a Michelin starred sushi house just off of west 4th street. How I have never been here before or have heard about this place is beyond me! It's a nice find.I made a reservation for one, but that was ultimately unnecessary since there was only one other person at the entire sushi bar on my visit. I was seated in front of Sotohiro Kusugi himself -- nice. A third generation sushi chef, I found him to be affable, in control, and always professional.   The restaurant itself was the essence of Japanese minimalism, comically taken to the point of not even having a sign outside of the restaurant. You will likely need the street address to find the place as I have walked by it for years unaware. For dinner, I opted for the 12 piece nigiri omakase at an attractively priced $58. I was warned that it would take some time to prepare the sushi and was strongly encouraged to try some appetizers in the mean time. I found this strange, but I quickly relented. I additionally ordered the miso soup which, surprisingly, is not included in the sushi dinner. To drink, I went with the Koshihikari Echigo beer. The miso came in at a pricey $10 for a small bowl (all of the other menu selections were considerably more expensive and equally appetizer sized).  As far as miso goes though, this was considerably better than the usual offering. It was jazzed up by mixing in a lobster broth with the white miso and including chunks of lobster as well as chives and ginger shoots for flavoring. I appreciated the sophistication, but I was not overcome by the broth. The flavors did not meld as well as I would have liked. Also, the lobster was too sparse to justify the price point. Now for the sushi, the part that really matters. The selection was impressive with some uncommon choices in the mix. Definitely no salmon and hamachi here. This omakase was designed for the enthusiast. - The first selection was completely unfamiliar to me. It sounded like enamae. It had a characteristic green marking in its flesh and hailed from Japan. A nice beginning, the rice was quite good, soft, and served at the right temperature (a sign of a good sushi house). The fish was fresh and melted in my mouth. - Squid. Very nice. I was surprised by how tender it was. Another good selection.- Tasmanian ocean trout. A less common selection, but one I was pleased with. Great color. The flavor and texture were wonderful. - Aji (horse mackerel). Fine, if otherwise unremarkable.- Stripejack. This was brought out only moments after the placing of the horse mackerel. At this point, I noticed the tempo of the meal picking up, though I understood why these two sushi might be paired together. I did not have the presence of mind to ask if it was wild or farm raised. It was quite tasty, making me wonder if it was the wild version which is known to be rare. - Ama ebi (live sweet shrimp). Yes, raw shrimp, not that dreadful cooked shrimp that you will find at discount sushi houses. This was so amazingly good. The natural sweetness, the texture, it was all wonderful. I even said as much to the itamae, to which he politely smiled and nodded. - Saba bakno? (more mackerel). I wasn't sure what type of mackerel this was, but it was enjoyable. - Toro. No proper omakase can exclude toro. This example was deliciously fatty and fresh.- Maine sea scallop with sea salt and yuzu zest. A regional selection! Akin to the raw shrimp, this too was naturally sweet and delicious. Good scallops are like that -- never a miss.- Japanese sea bream with pickled wasabi inside. The wasabi was especially noticeable with its lovely piquancy. This was especially good. Another great selection.- Uni. Noticeably large and generous in portion size. This was clearly a high grade uni. It too had natural sweetness. Good uni can be so decadent.- Unagi (freshwater eel). This was fine, but I was surprised that this was the final course. Swapping the order with the uni would have been more memorable, for example.  A wonderful sushi experience. I did not find it to be the best sushi in the city, but it does easily place in my top five. The ease of getting a seat with the master sushi chef, and the rich diversity in the selection are distinctive points of note. The place is definitely on par with Ushiwakamaru if not a touch better. Recommend.</td>\n",
       "      <td>23</td>\n",
       "      <td>0.9997</td>\n",
       "    </tr>\n",
       "  </tbody>\n",
       "</table>\n",
       "</div>"
      ],
      "text/plain": [
       "      Cool  Funny  Rating  \\\n",
       "515     34     24     5.0   \n",
       "921      9     10     5.0   \n",
       "1274     6      6     5.0   \n",
       "1492    18     10     5.0   \n",
       "1630    18      7     5.0   \n",
       "\n",
       "                                                                                                                                                                                                                                                                                                                                                                                                                                                                                                                                                                                                                                                                                                                                                                                                                                                                                                                                                                                                                                                                                                                                                                                                                                                                                                                                                                                                                                                                                                                                                                                                                                                                                                                                                                                                                                                                                                                                                                                                                                                                                                                                                                                                                                                                                                                                                                                                                                                                                                                                                                                                                                                                                                                                                                                                                                                                                                                                                                                                                                                                                                                                                                                                                                                                                                                                                                                                                                                                                                                                                                                                                                                                                                                                                                                                                                                                                                                                                                                                                                                                                                                                                                                                                                                                                                                                                                                                                                                                                                                                                                                                                                                                                                                                                                                                                                                                                                                                                                                                                                                                                                                                                                      Text  \\\n",
       "515   Using up characters by saying I'm going to run out of characters. The eternal struggle. That's the only negativity you'll hear from me in this review, though. Yerba Buena has been on my list for ages before I finally dined here on Thursday night. So my expectations were very high. Usually that doesn't work out so well for me, but not the case here. The cocktails were superb, the food was even better, and the service was on another level. This place is all kinds of fabulous.YB is located in one of the hotter areas of the city--straddles the LES and the East Village in the most platonic way. A friend and I made reservations because the space itself, though lovely, is pretty small. Though the place was filled with parties of friends on this particular night, I'd say it's just as viable for a date spot--especially if you decide to dine tapas-style. Despite YB being a smaller restaurant, they happily accommodate larger groups. We were very surprised to find a group of maybe 12 guys celebrating someone's birthday. Surprising, because how many guys do you know that can successfully rally ALL of the troops for a birthday dinner at a fun restaurant? Maybe I'm ignorant, but my friend was just as intrigued as I was. Anyway.Though the prices at YB are pretty typical for Spanish spots, the hospitality and decor here are that of a much nicer restaurant. Everything is beautifully polished and refined, which was a pleasant surprise. Being the twentysomethings that we are, we were totally floored when several members of the waitstaff promptly offered to remove our jackets as we sat down. Not mad at it. As it turns out, we got double the love, because we had to switch tables soon after getting settled at our table. The host told us that he needed our space for a party of four but that he'd seat us in a booth right away. As we swapped, he told us that we shouldn't worry, for he'd personally take care of us for the rest of the night. And this didn't seem forced or overkill or anything like that. The dude was just all kinds of classy. When words like \"decorum\" and \"etiquette\" are thrown around, well, this was that.Onto the drinks. I had the Poquito Picante (gin + jalapeño + cilantro + cucumber + combier + fresh lemon juice) and the Desert Rose (rose infused gin + prickly pear purée + lemon juice). The Poquito Picante, though not as aesthetically pleasing as the Desert Rose, is my ideal cocktail. If you've read my other cocktail reviews, you know that spicy cocktails are my jam (do people still say that?). This drink is thoughtful, creative, well-balanced and supremely satisfying. It's apparently their most popular drink, which doesn't surprise me one bit (sorry, I think I've used that word a lot in this review). The Desert Rose pretty much tastes like you're drinking a posh English garden, minus the dirt. It's not bad, but I'd pass on it if I got a do-over. Still appreciate the creativity though.Our food damage was as follows:Hojas de Salmon (black truffle vinaigrette, quinoa, green onion-jalapeño salsa, yuzu): AThe black truffle vinaigrette sold us. This was the perfect dish to start off our meal. Light but plenty flavorful, texturally interesting and more conducive to sharing than some of the over options. Chicharron de Calamar (blue corn meal-crusted calamari, sweet plantains, tamarind vinaigrette): A+I don't order calamari when I'm out unless there's some kind of twist. In my opinion, there's always something more interesting to order. Whoever decided to experiment with ways to bread calamari hit the jackpot with this one. The blue corn meal added fantastic flavor and texture which made for one of the best calamari dishes I've ever had. Both the calamari and the plantains are dressed in equally tasty tamarind vinaigrette. For those wary about trying ceviche but are craving seafood, this is your baby.Brisket tacos (chipotle braised brisket, corn tortillas, avocado, chipotle salsa): A+What could be bad? Look at the ingredients and it's pretty damn obvious how drool-worthy these babies are. Sure, it's not the most creative dish on the menu, but who needs creative when you have perfectly-braised brisket, avo AND all the chipotle. Come on friends, make the right move.Toro Taquitos (tuna tartar, peanut butter aioli, chile de arbol, cilantro chimichurri): A+For whatever reason, I didn't expect these to come in \"taco\" form, despite the name. If you're hesitant to order to ceviche dishes, this is nothing like any ceviche you've have before. You get three thin, crispy tacos filled with all the fixin's here. They pair peanut butter and tuna in two dishes here, a venture I'm in full support of. Somehow it works. These are fresh, rich, herbaceous and satisfying. Seriously yum.$100 bill. Standard for tapas in NYC.As we were in the process of paying, the host approached us with two champagne flutes and poured us each a glass for a complimentary toast.\"I told you I'd take care of you,\" he said. Mic drop.   \n",
       "921                                                                                                                                                                                                                                                                                                                                                                                                                                                                                                                                                                                                                                                                                                                                                                                                                                                                                                                                                                                                                                                                                                                                                                                                                                                                                                                                                                                                                                                                                                                                                                                                                                                                                                                                                                                                                                                                                                                                                                                                                                                        Piora was simply amazing and I had a wonderful time at this cozy restaurant in West Village with my friends. The restaurant newly opened under the command of Simon Kim, the restaurateur and Chris Cipollone, an amazing chef. Our experiences here could not have been better. The staff was extremely friendly and accommodating providing an impeccable service, the bartenders were amazing (gotta try the Sake Nog!), and the food was fantastic. No wonder why Piora received so much publicity and was raved on magazines, restaurant reviews, and newspapers by so many! The ambience was just perfect for a small party, not too loud, but intimate enough to really have a nice meal with friends. With the beautiful lighting in the back of the restaurant, I would highly recommend this place to couples as well. For those who want a meal under a more casual setting, please feel free to sit at the bar to enjoy your meal with a friend or even by yourself. In any way, this small restaurant can fit all! Our meal started with the complementary starter potato truffle soup, which was tasty and followed by Monkey Bread, Sweet Potato, Barbeque Octopus, and Carrots. My favorite was the carrot, which was so unexpected. The yogurt sauce blended well with the carrot and created perfect harmony. It was certainly a new taste, simple and elegant. Barbeque Octopus was also amazing with an interesting twist. I definitely sensed the Korean element in this dish, which was done in a contemporary approach. The texture of the octopus was great, sauce blended well, and wonderfully presented. Sweet Potato, which is common in Korea, was perfect, just the way it should be and it brought out the nostalgic feeling in me. Monkey Bread with seaweed and rosemary lardo butter really kicked the door open for our demanding appetites.Our main dishes were Bucatini and Rohan duck, which were both out of this world. Bucatini with dungeness crab, black garlic and chili added a light scent of spiciness to the dish, while elevating the beautiful mixture of garlic and crab taste into a perfected crafted pasta. Rohan duck was quite possibly the best duck dish I've had in New York. The jujube sauce and the tangy flavor created harmony with the richness of the duck. It was just perfect. We finished our dinner with a Mango sorbet w/ cotton candy that was not only beautiful in presentation, but also heavenly in taste. Mango pieces chopped with mango sorbet, basil sauce, creme, and small meringue pieces was delightfully light and refreshing. I am looking forward to come back here to try out other dishes as well. My dining experience here was amazing and I can't wait to see the new menus that will be rolling out as the year goes. Also, Shinya Yamao is also a key attribute to this wonderful place as his charismatic presence parallels his skills for the most wondrous drinks. If you are not looking for a meal, feel free to swing by and sit at the bar for drinks. You will be pleasantly surprised. Thank you Piora!   \n",
       "1274                                                                                                                                                                                                                                                                                                                                                                                                                                                                                                                                                                                                                                                                                                                                                                                                                                                                                                                                                Excellent meal with the Bloomspot pre fixe menu! My bf bought a deal for $78 and we left very satisfied and full.. feeling like we got to sample BondSt's best dishes. Our rez was for Sat at 7:30- they didn't have anything after until 10:30. When we arrived, it was pretty quiet but started bustling at 8pm. The space is really beautiful (except the bathroom is very small) but note that with this deal, you can only eat in the lounge (which is a separate space- downstairs). If you can, try to eat at the bar because honestly the lounge tables are so low, you need to hunch down. The seats are nice plum benches with pillow...everything looks Japanese zen. We took a peak at the restaurant- the space above, which looked also very sleek, trendy with flowery decor. On the service: our waitress was so sweet, polite, and refilled our waters on time. She was not stingy about the deal at all and kept saying it was a sampling of the best dishes. She gave good recommendations as well and paced our meal nicely. Of course, every dish had the most beautiful presentation.We had: 1. 2 cocktails- $14-15 each. I had the St Germaine- which was very good. I love Shochu because it's not strong.. I get pretty drunk off it. Otherwise, there was a hint of lemon, and elderflower..not sure what that tastes like but it was very sweet. My bf got The Maurice, which he said he didn't like. I liked it- it had a very rice-y aftertaste and wasn't as easy to go down as the St Germaine because it was less sweet. Other suggestions our waitress made was the lychee martini and the dry saketini. 2. The tuna tarts- AWESOME. my favorite dish!! It was so buttery because it was thin slices of delicious fleshy tuna soaked in truffles and butter...with some kind of green leaf atop (cloves?)..on a crispy thin rice cracker.. cut into two small pizzas. So yummy. 3. The red snapper tacos- I loved how crispy the taco shells were; very freshly fried. The snapper was soft and flaky..and the guac and lime were great accompanists. I would say that this was probably my least favorite dish- though excellent- the flavors weren't as complex (I've had this kind of fish taco before) 4. The sea bass skewer- 2nd favorite. AMAZING! I'm glad we got to try this because people like the sea bass at BondSt. It was perfectly charred on the outside without being overcooked- and the bass was so buttery, with a yummy sweet sauce. The mung bean salad that came with it was also great- crispy with a touch of salt. 5. Main dish: 2 rolls of sushi, and 4 sashimi. The menu gave us a great taste of BondSt's sushi and apps. Our rolls were spicy tuna and shrimp tempura. I didn't love the shrimp tempura but then again i am a sushi purist and think anything sushi tempura was made for fake sushi fans. The shrimp was very breaded and fried- differently from the typical panko batter. It was so fried it sort of drown the flavor. The spicy mayo that came with this roll had a curry accent. The second roll was excellent- spicy tuna. I could tell the tuna was very rich..pretty sure it might have been the toro (belly). I especially loved the RICE- it was packed with flavor; with black sesame, which was great! The sashimi- was very fresh, but not the freshest. It was firm and had good texture- not too goopy (hate sashimi that's goopy and cold.. meaning it was frozen). We had 2 slices of: big eye tuna, salmon and yellowtail. Yellowtail was my favorite- but it usually is; very clean. 6. Dessert- chocolate meltdown which was a molten lava cake. Very delicious but my all time fav molten cake is that of JeanGeroge's. The outside layers were on the drier side (not bad just fyi) but the middle was very melty. It came with espresso ice cream, which had a strong flavor and had a bottom cookie crunch. They were no pressure to upsell anything; we paid 20% tip for excellent service on our pre discounted amount. Def. get this deal if you see it- it's a steal! Deal or no deal, I'd come back when I want some yummy Japanese... this place is kind of like EN (equally amazing) but a bit trendier.   \n",
       "1492                                                                                                                                                                                                                                                                                                                                                                                                                                                                                                                                                                                                                                                                                                                                                                                                                                                                                                                                                                                                                                                                                                                                                                                                                                                                                                                                                                                                                                                                                                                          Red Rooster is one of the hottest restaurants in town. A reservation 3 weeks in advance will still have you eating after 9pm, and even then you may get \"bumped\" by a celebrity patron. In our case, it was Questlove. In all honesty, these are not the kind of places that I am inclined to like very much, but this place offers up amazing food at a really affordable price, so like every mere mortal, I anxiously await my turn in the very long line to eat here. It really is worth the effort. The restaurant is small, and the space is nearly evenly divided between the animated bar up front and a choice collection of tables (some communal) in the rear all set before an open view kitchen. The bar doesn't require reservations, so it is considerably more crowded. The clientele are generally well-heeled, smartly dressed, and squarely middle-aged. The bartenders mix up an intriguing list of cocktails, that are delicious and worthy of attention. The eponymous \"Big Red Rooster\" ($14) was surprisingly smooth and astoundingly good. Who can error with cinnamon-infused bourbon? Add to that Dolin Rouge, Averna Amaro, and orange bitters, and you have an instant classic. Eventually we were called to our seats, and had a gander at the menu. It is notably short, but the selections are strong. We decided to begin with 2 appetizers: the oysters with ginger mignonette ($10) and the corn tacos and tostadas ($10). The oysters were fresh and delicious! Interestingly enough, they were served with a surprise vodka shooter which I have not encountered before. Better yet were the tacos and tostadas. They are quite small and easily managed with a mere two bites apiece, but what amazing bites! The yellowtail and salmon contained within were very fresh. It's strange, the preparations were conventional, but the taste was anything but. That is what is great about a skilled chef, able to make the most of every bite. Great texture and flavors throughout, leaving you wanting more. For the main course, I had the blackened catfish ($23). This was an exceptionally well crafted dish that was engaging on several levels and looked beautiful. The catfish had great color and texture and was well seasoned in such a way as to enhance the dish without obfuscation or dominance. It rested on a bed of black eyed peas that were mixed with celery root. Great idea. Another surprise? The use of fried pickles. I loved the delicate walk between comfort food and fine dining exemplified in this dish. The flavors harmonized, and it was simply a joy to eat. Clearly with this run-up, dessert could not be missed. So we decided to share the Black and White Mud ($8). Even this was amazing! Chocolate cookie crust, chocolate fudge, vanilla fudge coming together to make for a rather rich dessert. That much would have made it good, and perhaps forgettable. Garnish it with coarse sea salt and candied ginger, and it becomes wondrous. Honestly, my first bite registered a sweet, rich dessert, then there was a second wave with the salt coming through, and then two seconds later, that wow moment when my mind registered the dish as a whole. Oh my goodness, this is really quite good. How do you top an amazing meal with amazing cocktails? Well, Marcus Samuelsson himself came over and shook my hand and posed for a photo with my girlfriend. We also saw him actively working in the kitchen which is a rarity for known chefs these days. As good as it gets folks, reserve a table at your earliest opportunity. Strongly recommend.   \n",
       "1630                                                                                                                                                                                                                                                                                                                                                                                                                                                                                                                                                                                                                                                                                  Soto is a Michelin starred sushi house just off of west 4th street. How I have never been here before or have heard about this place is beyond me! It's a nice find.I made a reservation for one, but that was ultimately unnecessary since there was only one other person at the entire sushi bar on my visit. I was seated in front of Sotohiro Kusugi himself -- nice. A third generation sushi chef, I found him to be affable, in control, and always professional.   The restaurant itself was the essence of Japanese minimalism, comically taken to the point of not even having a sign outside of the restaurant. You will likely need the street address to find the place as I have walked by it for years unaware. For dinner, I opted for the 12 piece nigiri omakase at an attractively priced $58. I was warned that it would take some time to prepare the sushi and was strongly encouraged to try some appetizers in the mean time. I found this strange, but I quickly relented. I additionally ordered the miso soup which, surprisingly, is not included in the sushi dinner. To drink, I went with the Koshihikari Echigo beer. The miso came in at a pricey $10 for a small bowl (all of the other menu selections were considerably more expensive and equally appetizer sized).  As far as miso goes though, this was considerably better than the usual offering. It was jazzed up by mixing in a lobster broth with the white miso and including chunks of lobster as well as chives and ginger shoots for flavoring. I appreciated the sophistication, but I was not overcome by the broth. The flavors did not meld as well as I would have liked. Also, the lobster was too sparse to justify the price point. Now for the sushi, the part that really matters. The selection was impressive with some uncommon choices in the mix. Definitely no salmon and hamachi here. This omakase was designed for the enthusiast. - The first selection was completely unfamiliar to me. It sounded like enamae. It had a characteristic green marking in its flesh and hailed from Japan. A nice beginning, the rice was quite good, soft, and served at the right temperature (a sign of a good sushi house). The fish was fresh and melted in my mouth. - Squid. Very nice. I was surprised by how tender it was. Another good selection.- Tasmanian ocean trout. A less common selection, but one I was pleased with. Great color. The flavor and texture were wonderful. - Aji (horse mackerel). Fine, if otherwise unremarkable.- Stripejack. This was brought out only moments after the placing of the horse mackerel. At this point, I noticed the tempo of the meal picking up, though I understood why these two sushi might be paired together. I did not have the presence of mind to ask if it was wild or farm raised. It was quite tasty, making me wonder if it was the wild version which is known to be rare. - Ama ebi (live sweet shrimp). Yes, raw shrimp, not that dreadful cooked shrimp that you will find at discount sushi houses. This was so amazingly good. The natural sweetness, the texture, it was all wonderful. I even said as much to the itamae, to which he politely smiled and nodded. - Saba bakno? (more mackerel). I wasn't sure what type of mackerel this was, but it was enjoyable. - Toro. No proper omakase can exclude toro. This example was deliciously fatty and fresh.- Maine sea scallop with sea salt and yuzu zest. A regional selection! Akin to the raw shrimp, this too was naturally sweet and delicious. Good scallops are like that -- never a miss.- Japanese sea bream with pickled wasabi inside. The wasabi was especially noticeable with its lovely piquancy. This was especially good. Another great selection.- Uni. Noticeably large and generous in portion size. This was clearly a high grade uni. It too had natural sweetness. Good uni can be so decadent.- Unagi (freshwater eel). This was fine, but I was surprised that this was the final course. Swapping the order with the uni would have been more memorable, for example.  A wonderful sushi experience. I did not find it to be the best sushi in the city, but it does easily place in my top five. The ease of getting a seat with the master sushi chef, and the rich diversity in the selection are distinctive points of note. The place is definitely on par with Ushiwakamaru if not a touch better. Recommend.   \n",
       "\n",
       "      Useful  Sentiment  \n",
       "515       35     0.9997  \n",
       "921        9     0.9997  \n",
       "1274      13     0.9997  \n",
       "1492      18     0.9997  \n",
       "1630      23     0.9997  "
      ]
     },
     "execution_count": 109,
     "metadata": {},
     "output_type": "execute_result"
    }
   ],
   "source": [
    "df5[df5.Sentiment == df5['Sentiment'].max()]"
   ]
  },
  {
   "cell_type": "code",
   "execution_count": 137,
   "metadata": {},
   "outputs": [
    {
     "data": {
      "text/plain": [
       "-0.009837137492176077"
      ]
     },
     "execution_count": 137,
     "metadata": {},
     "output_type": "execute_result"
    }
   ],
   "source": [
    "df1.Sentiment.mean()"
   ]
  },
  {
   "cell_type": "code",
   "execution_count": 133,
   "metadata": {},
   "outputs": [
    {
     "data": {
      "text/plain": [
       "0.4465568495639523"
      ]
     },
     "execution_count": 133,
     "metadata": {},
     "output_type": "execute_result"
    }
   ],
   "source": [
    "df2.Sentiment.mean()"
   ]
  },
  {
   "cell_type": "code",
   "execution_count": 134,
   "metadata": {},
   "outputs": [
    {
     "data": {
      "text/plain": [
       "0.77314033302498"
      ]
     },
     "execution_count": 134,
     "metadata": {},
     "output_type": "execute_result"
    }
   ],
   "source": [
    "df3.Sentiment.mean()"
   ]
  },
  {
   "cell_type": "code",
   "execution_count": 135,
   "metadata": {},
   "outputs": [
    {
     "data": {
      "text/plain": [
       "0.8844520555258933"
      ]
     },
     "execution_count": 135,
     "metadata": {},
     "output_type": "execute_result"
    }
   ],
   "source": [
    "df4.Sentiment.mean()"
   ]
  },
  {
   "cell_type": "code",
   "execution_count": 136,
   "metadata": {},
   "outputs": [
    {
     "data": {
      "text/plain": [
       "0.8994694997966628"
      ]
     },
     "execution_count": 136,
     "metadata": {},
     "output_type": "execute_result"
    }
   ],
   "source": [
    "df5.Sentiment.mean()"
   ]
  },
  {
   "cell_type": "code",
   "execution_count": 142,
   "metadata": {},
   "outputs": [],
   "source": [
    "x = list(range(1,6))\n",
    "y = [df1.Sentiment.mean(), df2.Sentiment.mean(),df3.Sentiment.mean(), df4.Sentiment.mean(), df5.Sentiment.mean()]"
   ]
  },
  {
   "cell_type": "markdown",
   "metadata": {},
   "source": [
    "# Average Vader Sentiment Scores per Yelp rating"
   ]
  },
  {
   "cell_type": "code",
   "execution_count": 161,
   "metadata": {},
   "outputs": [
    {
     "data": {
      "image/png": "[encoded data removed]",
      "text/plain": [
       "<Figure size 432x288 with 1 Axes>"
      ]
     },
     "metadata": {
      "needs_background": "light"
     },
     "output_type": "display_data"
    }
   ],
   "source": [
    "fig = plt.figure()\n",
    "sns.barplot(x, y);\n",
    "plt.ylim(0,1);\n",
    "plt.xlabel('Yelp Rating');\n",
    "plt.ylabel('Sentiment Score');\n",
    "plt.title('Vader Compound Score Per Yelp Rating');"
   ]
  },
  {
   "cell_type": "code",
   "execution_count": null,
   "metadata": {},
   "outputs": [],
   "source": []
  }
 ],
 "metadata": {
  "kernelspec": {
   "display_name": "Python 3",
   "language": "python",
   "name": "python3"
  },
  "language_info": {
   "codemirror_mode": {
    "name": "ipython",
    "version": 3
   },
   "file_extension": ".py",
   "mimetype": "text/x-python",
   "name": "python",
   "nbconvert_exporter": "python",
   "pygments_lexer": "ipython3",
   "version": "3.7.1"
  }
 },
 "nbformat": 4,
 "nbformat_minor": 2
}
