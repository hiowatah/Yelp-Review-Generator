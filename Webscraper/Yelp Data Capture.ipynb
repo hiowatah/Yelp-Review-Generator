{
 "cells": [
  {
   "cell_type": "code",
   "execution_count": 1,
   "metadata": {},
   "outputs": [],
   "source": [
    "from bs4 import BeautifulSoup\n",
    "import requests\n",
    "import pandas as pd\n",
    "from selenium import webdriver\n",
    "from selenium.webdriver.common.keys import Keys\n",
    "import time"
   ]
  },
  {
   "cell_type": "code",
   "execution_count": 52,
   "metadata": {},
   "outputs": [],
   "source": [
    "url = 'https://www.yelp.com/browse/reviews/picks?edition_id=RU7bd3h2f6pBlf8BfAyxGQ&start={}'.format(0)"
   ]
  },
  {
   "cell_type": "code",
   "execution_count": 53,
   "metadata": {},
   "outputs": [
    {
     "data": {
      "text/plain": [
       "'https://www.yelp.com/browse/reviews/picks?edition_id=RU7bd3h2f6pBlf8BfAyxGQ&start=0'"
      ]
     },
     "execution_count": 53,
     "metadata": {},
     "output_type": "execute_result"
    }
   ],
   "source": [
    "url"
   ]
  },
  {
   "cell_type": "markdown",
   "metadata": {},
   "source": [
    "# Steps broken out to capture the necessary data before combining into one function"
   ]
  },
  {
   "cell_type": "markdown",
   "metadata": {},
   "source": [
    "### For Loop below will iterate through the URL to scrap the 10 reviews per page."
   ]
  },
  {
   "cell_type": "code",
   "execution_count": 6,
   "metadata": {},
   "outputs": [
    {
     "name": "stdout",
     "output_type": "stream",
     "text": [
      "0\n",
      "10\n",
      "20\n",
      "30\n",
      "40\n",
      "50\n",
      "60\n",
      "70\n",
      "80\n",
      "90\n"
     ]
    }
   ],
   "source": [
    "for num in range(0, 452):\n",
    "    num *=10"
   ]
  },
  {
   "cell_type": "code",
   "execution_count": 194,
   "metadata": {},
   "outputs": [
    {
     "name": "stdout",
     "output_type": "stream",
     "text": [
      "0\n",
      "1\n",
      "2\n",
      "3\n",
      "4\n",
      "5\n",
      "6\n",
      "7\n",
      "8\n",
      "9\n"
     ]
    }
   ],
   "source": [
    "for num in range(0,10):\n",
    "    print(num)"
   ]
  },
  {
   "cell_type": "code",
   "execution_count": 188,
   "metadata": {},
   "outputs": [],
   "source": [
    "page = requests.get(url)\n",
    "soup = BeautifulSoup(page.content, 'html.parser')\n",
    "# print(soup.prettify())"
   ]
  },
  {
   "cell_type": "markdown",
   "metadata": {},
   "source": [
    "### Getting the star rating"
   ]
  },
  {
   "cell_type": "code",
   "execution_count": 150,
   "metadata": {},
   "outputs": [
    {
     "data": {
      "text/plain": [
       "'5.0 star rating'"
      ]
     },
     "execution_count": 150,
     "metadata": {},
     "output_type": "execute_result"
    }
   ],
   "source": [
    "soup.find_all('div', class_=\"review-wrapper\")[0].find('div', class_='i-stars').find('img', alt=True)['alt']"
   ]
  },
  {
   "cell_type": "markdown",
   "metadata": {},
   "source": [
    "### Getting the text"
   ]
  },
  {
   "cell_type": "code",
   "execution_count": 84,
   "metadata": {},
   "outputs": [
    {
     "data": {
      "text/plain": [
       "'They were \"temporarily closed\" for over a year due to a catastrophic fire, and my poor heart was continually tormented by the evil foreboding that they might never open again, which is the fate common to so many restaurants that are temporarily closed for an extended period of time, and lose their regular patrons to competitors. If ever mortal felt jubilant at being proved wrong, that was my state when Sarge\\'s reopened a couple of months ago, dispelling all my irrational fears, and I was proud to be humbled [**oxymoron alert**] by the triumph of my beloved deli over the calamitous fire that had interrupted its operations. The pastrami is generous in portion and its texture is every bit as buttery as I remembered it. The chopped liver is smooth and tasty. The complimentary cole slaw is light and balanced, not too vinegary, not too sweet, just right. The corned beef hash is a prodigious portion and comes with three eggs. I am never able to finish it even though I tend to overeat every time I am at Sarge\\'s. Oh, and the crinkle-cut fries are just right, with a crispy exterior and soft inside. The decor (or lack thereof) is unassuming and reminiscent of old school diners that are so hard to find these days. The service is friendly, familial even, if you dine here frequently and they start to recognize you. I used to live on the same block as Sarge\\'s, and this used to be my haunt for a late night indulgence. Having long moved away from the neighborhood, I still make the urban trek to eat here every now and again. The fact that they\\'re open 24 hours does not hurt. Eating here at the wee hours of the night also provides some interesting people-watching opportunities. Be aware that this is a kosher-style, not kosher, deli. I continue to be the heinous heretic who prefers Sarge\\'s over 2nd Avenue Deli and Katz\\'s.'"
      ]
     },
     "execution_count": 84,
     "metadata": {},
     "output_type": "execute_result"
    }
   ],
   "source": [
    "soup.find_all('div', class_=\"review-wrapper\")[9].find('p', lang='en').text.replace('\\xa0', '')"
   ]
  },
  {
   "cell_type": "markdown",
   "metadata": {},
   "source": [
    "### Getting other user votes for the review"
   ]
  },
  {
   "cell_type": "code",
   "execution_count": 187,
   "metadata": {},
   "outputs": [
    {
     "data": {
      "text/plain": [
       "'Useful'"
      ]
     },
     "execution_count": 187,
     "metadata": {},
     "output_type": "execute_result"
    }
   ],
   "source": [
    "soup.find_all('div', class_=\"review-wrapper\")[0].find('ul', class_='voting-buttons').find_all('span')[1].text"
   ]
  },
  {
   "cell_type": "code",
   "execution_count": 191,
   "metadata": {},
   "outputs": [
    {
     "data": {
      "text/plain": [
       "'43'"
      ]
     },
     "execution_count": 191,
     "metadata": {},
     "output_type": "execute_result"
    }
   ],
   "source": [
    "soup.find_all('div', class_=\"review-wrapper\")[9].find('ul', class_='voting-buttons').find_all('span')[2].text"
   ]
  },
  {
   "cell_type": "code",
   "execution_count": 179,
   "metadata": {},
   "outputs": [
    {
     "data": {
      "text/plain": [
       "'Funny'"
      ]
     },
     "execution_count": 179,
     "metadata": {},
     "output_type": "execute_result"
    }
   ],
   "source": [
    "soup.find_all('div', class_=\"review-wrapper\")[0].find('ul', class_='voting-buttons').find_all('span')[4].text"
   ]
  },
  {
   "cell_type": "code",
   "execution_count": 180,
   "metadata": {},
   "outputs": [
    {
     "data": {
      "text/plain": [
       "'4'"
      ]
     },
     "execution_count": 180,
     "metadata": {},
     "output_type": "execute_result"
    }
   ],
   "source": [
    "soup.find_all('div', class_=\"review-wrapper\")[0].find('ul', class_='voting-buttons').find_all('span')[5].text"
   ]
  },
  {
   "cell_type": "code",
   "execution_count": 181,
   "metadata": {},
   "outputs": [
    {
     "data": {
      "text/plain": [
       "'Cool'"
      ]
     },
     "execution_count": 181,
     "metadata": {},
     "output_type": "execute_result"
    }
   ],
   "source": [
    "soup.find_all('div', class_=\"review-wrapper\")[0].find('ul', class_='voting-buttons').find_all('span')[7].text"
   ]
  },
  {
   "cell_type": "code",
   "execution_count": 183,
   "metadata": {},
   "outputs": [
    {
     "data": {
      "text/plain": [
       "'17'"
      ]
     },
     "execution_count": 183,
     "metadata": {},
     "output_type": "execute_result"
    }
   ],
   "source": [
    "soup.find_all('div', class_=\"review-wrapper\")[0].find('ul', class_='voting-buttons').find_all('span')[8].text"
   ]
  },
  {
   "cell_type": "markdown",
   "metadata": {},
   "source": [
    "# Putting it all together"
   ]
  },
  {
   "cell_type": "code",
   "execution_count": 206,
   "metadata": {},
   "outputs": [],
   "source": [
    "#global variable to consolidate the results of my scrape. Easier to put into a dataframe\n",
    "list_of_dicts = []\n",
    "\n",
    "def review_scraper():\n",
    "    # To iterate through the webpages - 10 reviews per page, 453 pages\n",
    "    for num in range(0, 453):\n",
    "        num *=10\n",
    "        \n",
    "        #getting the yelp webpage using beautifulsoup\n",
    "        url = 'https://www.yelp.com/browse/reviews/picks?edition_id=RU7bd3h2f6pBlf8BfAyxGQ&start={}'.format(num)\n",
    "        page = requests.get(url)\n",
    "        soup = BeautifulSoup(page.content, 'html.parser')\n",
    "        # The last page does not have 10 reviews, so using a try to make sure function does not break\n",
    "\n",
    "        try:\n",
    "            for nums in range(0,10):\n",
    "                rating = soup.find_all('div', class_=\"review-wrapper\")[nums].find('div', class_='i-stars').find('img', alt=True)['alt']\n",
    "                text = soup.find_all('div', class_=\"review-wrapper\")[nums].find('p', lang='en').text.replace('\\xa0', '')\n",
    "                useful_score = soup.find_all('div', class_=\"review-wrapper\")[nums].find('ul', class_='voting-buttons').find_all('span')[2].text\n",
    "                funny_score = soup.find_all('div', class_=\"review-wrapper\")[nums].find('ul', class_='voting-buttons').find_all('span')[5].text\n",
    "                cool_score = soup.find_all('div', class_=\"review-wrapper\")[nums].find('ul', class_='voting-buttons').find_all('span')[8].text\n",
    "                \n",
    "                review_dict = {}\n",
    "                review_dict['Rating'] = rating\n",
    "                review_dict['Text'] = text\n",
    "                review_dict['Useful'] = useful_score\n",
    "                review_dict['Funny'] = funny_score\n",
    "                review_dict['Cool'] = cool_score\n",
    "                list_of_dicts.append(review_dict)\n",
    "        except:\n",
    "            pass\n",
    "        \n",
    "    return"
   ]
  },
  {
   "cell_type": "code",
   "execution_count": 207,
   "metadata": {},
   "outputs": [],
   "source": [
    "review_scraper()"
   ]
  },
  {
   "cell_type": "markdown",
   "metadata": {},
   "source": [
    "# Checking last item in list to the last review on website"
   ]
  },
  {
   "cell_type": "code",
   "execution_count": 209,
   "metadata": {},
   "outputs": [
    {
     "data": {
      "text/plain": [
       "{'Rating': '3.0 star rating',\n",
       " 'Text': \"Rink Bar is located in the ice skating rink at Rockefeller Center, in front of the famous golden statue. It is a NYC hotspot during the summer, especially during happy hour where they have daily specials ranging from $3 beers to $6 Peachtinis. While easy on the wallet, it's also a pain in the ass because it takes forever to get a drink. Ahhh the Big Apple.\",\n",
       " 'Useful': '1',\n",
       " 'Funny': '',\n",
       " 'Cool': ''}"
      ]
     },
     "execution_count": 209,
     "metadata": {},
     "output_type": "execute_result"
    }
   ],
   "source": [
    "# Captured everything!\n",
    "list_of_dicts[-1]"
   ]
  },
  {
   "cell_type": "code",
   "execution_count": 210,
   "metadata": {},
   "outputs": [],
   "source": [
    "df = pd.DataFrame(list_of_dicts)"
   ]
  },
  {
   "cell_type": "code",
   "execution_count": 214,
   "metadata": {},
   "outputs": [],
   "source": [
    "#want to be able to view all of the text, so increasing this to increase the character limit\n",
    "pd.options.display.max_colwidth = 20000"
   ]
  },
  {
   "cell_type": "code",
   "execution_count": 215,
   "metadata": {},
   "outputs": [
    {
     "data": {
      "text/html": [
       "<div>\n",
       "<style scoped>\n",
       "    .dataframe tbody tr th:only-of-type {\n",
       "        vertical-align: middle;\n",
       "    }\n",
       "\n",
       "    .dataframe tbody tr th {\n",
       "        vertical-align: top;\n",
       "    }\n",
       "\n",
       "    .dataframe thead th {\n",
       "        text-align: right;\n",
       "    }\n",
       "</style>\n",
       "<table border=\"1\" class=\"dataframe\">\n",
       "  <thead>\n",
       "    <tr style=\"text-align: right;\">\n",
       "      <th></th>\n",
       "      <th>Cool</th>\n",
       "      <th>Funny</th>\n",
       "      <th>Rating</th>\n",
       "      <th>Text</th>\n",
       "      <th>Useful</th>\n",
       "    </tr>\n",
       "  </thead>\n",
       "  <tbody>\n",
       "    <tr>\n",
       "      <th>0</th>\n",
       "      <td>19</td>\n",
       "      <td>5</td>\n",
       "      <td>5.0 star rating</td>\n",
       "      <td>Talk about WOW. If anyone ever asked me what my favorite cookie in NYC was, it's from Levains Bakery. Coming from a person who has tried almost every dessert in this city, these cookies are out of this world. Just the right amount of gooey-crisp ratio in every bite. When you're finished, these cookies will have you on your knees begging for more. My favorite would have to be Levain's Chocolate Chip Walnut Cookie. Even though $4 may be steep to spend on only one cookie, you'll understand why after just one bite. Since Levain's has become such a popular establishment, it does get pretty busy. I would say avoid weekend lines and go during the morning or a random weekday. Even if you do end up going during their busy hours, it will be worth the wait :)</td>\n",
       "      <td>12</td>\n",
       "    </tr>\n",
       "    <tr>\n",
       "      <th>1</th>\n",
       "      <td>14</td>\n",
       "      <td>3</td>\n",
       "      <td>5.0 star rating</td>\n",
       "      <td>Mighty Quinn's is a fast-casual barbecue chain with locations across Manhattan.Calling it the Chipotle of BBQ isn't quite accurate given how brisk their delivery business seems to be versus take-out, but I'll take it for the general \"high quality, low price point, good enough\" level that most locations seem to put out. The food stands up pretty well to delivery, and if you're getting it from the comfort of Seamless, I predict an average to positive experience. But if you're willing to make the trek to East Village flagship, which apparently makes the food for the other locations, you can find some truly standout barbecue.I first ventured here via Jane D's suggestion to try the ribs. These are probably their best: tender, just short of fall-off-the-bone, and not at all greasy. The pulled pork is also exceptional-- a fattier blend than typical, resulting in a sloppy and gluttonous sandwich, cut with crisp cucumbers and sharp pickled red onions.Other meat (brisket, chicken) has been high quality but on the dry side. Their barbecue sauce isn't anything out of the ordinary, but it's satisfying and works with all of their options. I haven't explored the sides too much yet, being a small human typically sated with their single-portion meat serving. The kale salad is pretty average; the sweet potatoes are splendid.Prices are good; I typically spend under $15 here including tax and tip. Service varies in terms of attitude but it's always efficient. There's a bathroom with a lock code.Overall, I found the meat here to be better than expected given the corporate vibe and mass production. A reliable pick for NYC barbecue and an increasing part of my diet.</td>\n",
       "      <td>21</td>\n",
       "    </tr>\n",
       "    <tr>\n",
       "      <th>2</th>\n",
       "      <td>113</td>\n",
       "      <td>59</td>\n",
       "      <td>5.0 star rating</td>\n",
       "      <td>Phenomenal Restaurant !!! We came here Monday during lunch rush. We didn't wait, the table was ready for us. This restaurant is kind of small , not to many tables so be aware that if you are coming during the weekend the lines will be long !! the wait time will be more than 30 minutes ! The menu is not long but it's exactly what you need for this kind of Restaurant , hamburgers, drinks and shakes ! The service was very fast ! . We started with drinks, One Mule and one beer. You can choose between draft , can or bottle beer. Drinks !1- Mule - Tito's Vodka! 4 of 5 , It's good but is very light ! Bartender ! please!! pour more vodka! lol 2- Jalapeño Margarita - 5 of 5 ! Excellent !!!! Spicy drink!!!! 3- 21st Amendment Brew Free or Die IPA - 5 of 5 !! Excellent Can Beer !!!Food!!1- The Spicy Mexican - 10 OF10 !!!!!!!!! Excellent spicy burger !! Chorizo Burger With Jack Cheese, Pico De Gallo &amp; Chipotle Mayo 2- Turkey burger Salad! - 10 of 10 !!! Apple, Blue Cheese, Avocado, Dried Cranberries, House Buttermilk-Dill Dressing .. I added raw onions and mushrooms ! 1 dollar extra for onions and 2 for mushrooms ! Superb Salad !! wow! its extremely good !!!Service is very good! Place is clean ! Extremely recommended !</td>\n",
       "      <td>107</td>\n",
       "    </tr>\n",
       "    <tr>\n",
       "      <th>3</th>\n",
       "      <td>18</td>\n",
       "      <td>7</td>\n",
       "      <td>5.0 star rating</td>\n",
       "      <td>Did I just eat THE burger in New York City? The double stack burger was absolute perfection on a plate! It had that \"umami\" factor and albeit steep price, it just felt so satisfying to bite into it.There was dimension and tons of flavor. I loved the sauteed onions, the sweet bun, and pickles. The overall flavor was just very memorable. I was eating it unmodified and just the way they usually serve it and it was satisfying and I did not finish it - so portion is great for the price! (At least for me).I would love to come back for the pizza, and definitely could see myself coming back here in general. Service was good - my only pet peeve was that our group of 9 all ordered burgers and it took a very long time to get all of them out. Some of us felt too awkward to eat ours (it was a corporate lunch), and waiting made things soggy.</td>\n",
       "      <td>14</td>\n",
       "    </tr>\n",
       "    <tr>\n",
       "      <th>4</th>\n",
       "      <td>14</td>\n",
       "      <td>6</td>\n",
       "      <td>5.0 star rating</td>\n",
       "      <td>So places like this really do exist.Like many of us, I grew up romanticizing New York. I watched Saturday Night Fever and Desperately Seeking Susan and Goodfellas and most importantly, Sex in the City (and like many of us, was probably far too young for the content at the time). I saw a swanky, luxurious life filled with unthinkable embellishments. Then I moved here and realized that there's a thing called rent and another thing called student loans and another thing called taxes and I started to resent Carrie Bradshaw and her ridiculous and impossible apartment. Well, I digress. That world of splendor I pined for with every cell of my being does exist--albeit on a different scale--at Manhatta. It starts from the moment you walk in: a well-groomed host in the lobby leads you to an elevator that makes one stop only: Floor 60. You float up into paradise, into a world where people bring you things you didn't know you wanted and you can pretend for a night that this is the norm now, that you while always dine amongst the stars...Manhatta has done a magical thing: it manages to perfectly package Ideal Manhattan Experience. This is a place for a special occasion. A sweeping dining room bound by floor-to-ceiling windows that look out on the entire city. With a prix fixe-only menu, timing is executed perfectly and servers twirl in with your next course just as you start thinking you'd like to move to the next thing. It's seasonal, refined American fare with a top-notch mixology program as well. We did something very out of the ordinary for me, which is drop in to a very popular venue without a reservation. I never heed the whole \"we accept walk-ins at our bar / full dinner menu\", but this past Saturday, I the fire in my belly was strong enough. As if this place wasn't already magical enough, we exited the elevator and found ourselves staring at two empty seats at the bar. Dream it and believe it, friends.Perhaps the view wasn't *quite* as spectacular sitting at the bar, but we had an added bonus of watching our bartender fix up some fantastic drinks. We both stuck with cocktails here despite the impressive wine list, and I'm glad we did. The drink menu changes frequently so sadly I can't report much of what we had, but I can speak to two on the current online menu: the Castle Garden (Gin, Benedictine, Honey, Lime, Angostura) the Manhatta (New York Distilling Ragtime Rye, Punt e Mes, Lustau East India Sherry, Bitters). Both well-executed a yummy. My favorite drink of the night was a stirred vodka cocktail brand new to the menu. I don't like vodka so the idea of a *stirred* vodka drink sounds awful at first, but the bartender convinced me as a fellow vodka-disenthusiast. It's worth your time. We came during Valentine's Day weekend (the actual day was 2/16) so the bar was offering its usual a la carte menu (most dishes are totally different than the tasting menu) as well as a four-course meal for $188. Pretty steep considering their three-courser is $88, but the dishes looked so good, we couldn't pass it up. That's the last time we ball out for a while, but it was worth it. Our eats, below:Citrus Salad w/ Labneh, Roasted Beets &amp; Hazelnut: ALight and refreshing, sophisticated an elegant. The ideal first course, kind of served as an amuse bouche. Great use of both texture and flavor.Lobster Quenelle w/ Mushrooms &amp; Roasted Lobster Emulsion: A+Oh man, this is where it started to get decadent. I had never heard of this particular lobster preparation before but it was just divine. Rich and warming, lobster two-ways is luxurious and comforting, very unique.Soft Scrambled Eggs w/ Uni: AI had a similar preparation once at a restaurant in Philly which was out of this world, so everything else pales in comparison. So this didn't blow me away given the reference I had, but it's still delicious. Rich and creamy, you'll want to take a bath in it. Foie Gras: AMore luxury, in the form of liver. Served with some sort of mustard and maybe some sort of kraut (this isn't on the online menu so I'm doing my best), all components meshed well.Bites, compliments of the kitchen, brought out during our first course:Chicken Liver Mousse w/ Everything Bagel Seasoning: A+ Eat this with bread, eat this plain, delicacy after delicacy will greet you here.Oysters: A+Can't remember the accompaniments but these were fresh and delicious, a nice interlude before the rest of the meal.Crescent Duck w/ Offal Sausage, Confit, Endive &amp; Prunes: A+Cooked perfectly, a beautiful winter entree. Rich, subtle sweet-and-savory melody going on, served in some yummy sauce and punctuated with candied nuts and more citrus.Wagyu Coulotte w/ Mushrooms, Celeriac, Turnips &amp; Beet Jus: A+Another beautifully seasonal dish, excellent cook on the meat. I almost never eat red meat but our meal and Manhatta proved to be an ideal opportunity to splurge (though I do feel I'll need a steady diet of veggies and quinoa for the next week as a result).</td>\n",
       "      <td>15</td>\n",
       "    </tr>\n",
       "  </tbody>\n",
       "</table>\n",
       "</div>"
      ],
      "text/plain": [
       "  Cool Funny           Rating  \\\n",
       "0   19     5  5.0 star rating   \n",
       "1   14     3  5.0 star rating   \n",
       "2  113    59  5.0 star rating   \n",
       "3   18     7  5.0 star rating   \n",
       "4   14     6  5.0 star rating   \n",
       "\n",
       "                                                                                                                                                                                                                                                                                                                                                                                                                                                                                                                                                                                                                                                                                                                                                                                                                                                                                                                                                                                                                                                                                                                                                                                                                                                                                                                                                                                                                                                                                                                                                                                                                                                                                                                                                                                                                                                                                                                                                                                                                                                                                                                                                                                                                                                                                                                                                                                                                                                                                                                                                                                                                                                                                                                                                                                                                                                                                                                                                                                                                                                                                                                                                                                                                                                                                                                                                                                                                                                                                                                                                                                                                                                                                                                                                                                                                                                                                                                                                                                                                                                                                                                                                                                                                                                                                                                                                                                                                                                                                                                                                                                                                                                                                                                                                                                                                                                                                                                                                                                                                                                                                                                                                                 Text  \\\n",
       "0                                                                                                                                                                                                                                                                                                                                                                                                                                                                                                                                                                                                                                                                                                                                                                                                                                                                                                                                                                                                                                                                                                                                                                                                                                                                                                                                                                                                                                                                                                                                                                                                                                                                                                                                                                                                                                                                                                                                                                                                                                                                                                                                                                                                                                                                                                                                                                                                                                                                                                                                                                                                                                                                                                                                                                                                                                                                                                                                                                                                                                                                                                                                                                                                                                                                                                                                                                                                                                                                                                                                                                                                                                                                                                                                                                                                                                                                                                                                                                                                                                                                                                                                                                                                                                                                                                                                                                              Talk about WOW. If anyone ever asked me what my favorite cookie in NYC was, it's from Levains Bakery. Coming from a person who has tried almost every dessert in this city, these cookies are out of this world. Just the right amount of gooey-crisp ratio in every bite. When you're finished, these cookies will have you on your knees begging for more. My favorite would have to be Levain's Chocolate Chip Walnut Cookie. Even though $4 may be steep to spend on only one cookie, you'll understand why after just one bite. Since Levain's has become such a popular establishment, it does get pretty busy. I would say avoid weekend lines and go during the morning or a random weekday. Even if you do end up going during their busy hours, it will be worth the wait :)   \n",
       "1                                                                                                                                                                                                                                                                                                                                                                                                                                                                                                                                                                                                                                                                                                                                                                                                                                                                                                                                                                                                                                                                                                                                                                                                                                                                                                                                                                                                                                                                                                                                                                                                                                                                                                                                                                                                                                                                                                                                                                                                                                                                                                                                                                                                                                                                                                                                                                                                                                                                                                                                                                                                                                                                                                                                                                                                                                                                                                                                                                                                                                                                                                                                                                                                                                                                                                                                                                                                                             Mighty Quinn's is a fast-casual barbecue chain with locations across Manhattan.Calling it the Chipotle of BBQ isn't quite accurate given how brisk their delivery business seems to be versus take-out, but I'll take it for the general \"high quality, low price point, good enough\" level that most locations seem to put out. The food stands up pretty well to delivery, and if you're getting it from the comfort of Seamless, I predict an average to positive experience. But if you're willing to make the trek to East Village flagship, which apparently makes the food for the other locations, you can find some truly standout barbecue.I first ventured here via Jane D's suggestion to try the ribs. These are probably their best: tender, just short of fall-off-the-bone, and not at all greasy. The pulled pork is also exceptional-- a fattier blend than typical, resulting in a sloppy and gluttonous sandwich, cut with crisp cucumbers and sharp pickled red onions.Other meat (brisket, chicken) has been high quality but on the dry side. Their barbecue sauce isn't anything out of the ordinary, but it's satisfying and works with all of their options. I haven't explored the sides too much yet, being a small human typically sated with their single-portion meat serving. The kale salad is pretty average; the sweet potatoes are splendid.Prices are good; I typically spend under $15 here including tax and tip. Service varies in terms of attitude but it's always efficient. There's a bathroom with a lock code.Overall, I found the meat here to be better than expected given the corporate vibe and mass production. A reliable pick for NYC barbecue and an increasing part of my diet.   \n",
       "2                                                                                                                                                                                                                                                                                                                                                                                                                                                                                                                                                                                                                                                                                                                                                                                                                                                                                                                                                                                                                                                                                                                                                                                                                                                                                                                                                                                                                                                                                                                                                                                                                                                                                                                                                                                                                                                                                                                                                                                                                                                                                                                                                                                                                                                                                                                                                                                                                                                                                                                                                                                                                                                                                                                                                                                                                                                                                                                                                                                                                                                                                                                                                                                                                                                                                                                                                                                                                                                                                                                                                                                                                                                                                                                                                                                                                                                                                           Phenomenal Restaurant !!! We came here Monday during lunch rush. We didn't wait, the table was ready for us. This restaurant is kind of small , not to many tables so be aware that if you are coming during the weekend the lines will be long !! the wait time will be more than 30 minutes ! The menu is not long but it's exactly what you need for this kind of Restaurant , hamburgers, drinks and shakes ! The service was very fast ! . We started with drinks, One Mule and one beer. You can choose between draft , can or bottle beer. Drinks !1- Mule - Tito's Vodka! 4 of 5 , It's good but is very light ! Bartender ! please!! pour more vodka! lol 2- Jalapeño Margarita - 5 of 5 ! Excellent !!!! Spicy drink!!!! 3- 21st Amendment Brew Free or Die IPA - 5 of 5 !! Excellent Can Beer !!!Food!!1- The Spicy Mexican - 10 OF10 !!!!!!!!! Excellent spicy burger !! Chorizo Burger With Jack Cheese, Pico De Gallo & Chipotle Mayo 2- Turkey burger Salad! - 10 of 10 !!! Apple, Blue Cheese, Avocado, Dried Cranberries, House Buttermilk-Dill Dressing .. I added raw onions and mushrooms ! 1 dollar extra for onions and 2 for mushrooms ! Superb Salad !! wow! its extremely good !!!Service is very good! Place is clean ! Extremely recommended !   \n",
       "3                                                                                                                                                                                                                                                                                                                                                                                                                                                                                                                                                                                                                                                                                                                                                                                                                                                                                                                                                                                                                                                                                                                                                                                                                                                                                                                                                                                                                                                                                                                                                                                                                                                                                                                                                                                                                                                                                                                                                                                                                                                                                                                                                                                                                                                                                                                                                                                                                                                                                                                                                                                                                                                                                                                                                                                                                                                                                                                                                                                                                                                                                                                                                                                                                                                                                                                                                                                                                                                                                                                                                                                                                                                                                                                                                                                                                                                                                                                                                                                                                                                                                                                                                                                                                                                                                             Did I just eat THE burger in New York City? The double stack burger was absolute perfection on a plate! It had that \"umami\" factor and albeit steep price, it just felt so satisfying to bite into it.There was dimension and tons of flavor. I loved the sauteed onions, the sweet bun, and pickles. The overall flavor was just very memorable. I was eating it unmodified and just the way they usually serve it and it was satisfying and I did not finish it - so portion is great for the price! (At least for me).I would love to come back for the pizza, and definitely could see myself coming back here in general. Service was good - my only pet peeve was that our group of 9 all ordered burgers and it took a very long time to get all of them out. Some of us felt too awkward to eat ours (it was a corporate lunch), and waiting made things soggy.   \n",
       "4  So places like this really do exist.Like many of us, I grew up romanticizing New York. I watched Saturday Night Fever and Desperately Seeking Susan and Goodfellas and most importantly, Sex in the City (and like many of us, was probably far too young for the content at the time). I saw a swanky, luxurious life filled with unthinkable embellishments. Then I moved here and realized that there's a thing called rent and another thing called student loans and another thing called taxes and I started to resent Carrie Bradshaw and her ridiculous and impossible apartment. Well, I digress. That world of splendor I pined for with every cell of my being does exist--albeit on a different scale--at Manhatta. It starts from the moment you walk in: a well-groomed host in the lobby leads you to an elevator that makes one stop only: Floor 60. You float up into paradise, into a world where people bring you things you didn't know you wanted and you can pretend for a night that this is the norm now, that you while always dine amongst the stars...Manhatta has done a magical thing: it manages to perfectly package Ideal Manhattan Experience. This is a place for a special occasion. A sweeping dining room bound by floor-to-ceiling windows that look out on the entire city. With a prix fixe-only menu, timing is executed perfectly and servers twirl in with your next course just as you start thinking you'd like to move to the next thing. It's seasonal, refined American fare with a top-notch mixology program as well. We did something very out of the ordinary for me, which is drop in to a very popular venue without a reservation. I never heed the whole \"we accept walk-ins at our bar / full dinner menu\", but this past Saturday, I the fire in my belly was strong enough. As if this place wasn't already magical enough, we exited the elevator and found ourselves staring at two empty seats at the bar. Dream it and believe it, friends.Perhaps the view wasn't *quite* as spectacular sitting at the bar, but we had an added bonus of watching our bartender fix up some fantastic drinks. We both stuck with cocktails here despite the impressive wine list, and I'm glad we did. The drink menu changes frequently so sadly I can't report much of what we had, but I can speak to two on the current online menu: the Castle Garden (Gin, Benedictine, Honey, Lime, Angostura) the Manhatta (New York Distilling Ragtime Rye, Punt e Mes, Lustau East India Sherry, Bitters). Both well-executed a yummy. My favorite drink of the night was a stirred vodka cocktail brand new to the menu. I don't like vodka so the idea of a *stirred* vodka drink sounds awful at first, but the bartender convinced me as a fellow vodka-disenthusiast. It's worth your time. We came during Valentine's Day weekend (the actual day was 2/16) so the bar was offering its usual a la carte menu (most dishes are totally different than the tasting menu) as well as a four-course meal for $188. Pretty steep considering their three-courser is $88, but the dishes looked so good, we couldn't pass it up. That's the last time we ball out for a while, but it was worth it. Our eats, below:Citrus Salad w/ Labneh, Roasted Beets & Hazelnut: ALight and refreshing, sophisticated an elegant. The ideal first course, kind of served as an amuse bouche. Great use of both texture and flavor.Lobster Quenelle w/ Mushrooms & Roasted Lobster Emulsion: A+Oh man, this is where it started to get decadent. I had never heard of this particular lobster preparation before but it was just divine. Rich and warming, lobster two-ways is luxurious and comforting, very unique.Soft Scrambled Eggs w/ Uni: AI had a similar preparation once at a restaurant in Philly which was out of this world, so everything else pales in comparison. So this didn't blow me away given the reference I had, but it's still delicious. Rich and creamy, you'll want to take a bath in it. Foie Gras: AMore luxury, in the form of liver. Served with some sort of mustard and maybe some sort of kraut (this isn't on the online menu so I'm doing my best), all components meshed well.Bites, compliments of the kitchen, brought out during our first course:Chicken Liver Mousse w/ Everything Bagel Seasoning: A+ Eat this with bread, eat this plain, delicacy after delicacy will greet you here.Oysters: A+Can't remember the accompaniments but these were fresh and delicious, a nice interlude before the rest of the meal.Crescent Duck w/ Offal Sausage, Confit, Endive & Prunes: A+Cooked perfectly, a beautiful winter entree. Rich, subtle sweet-and-savory melody going on, served in some yummy sauce and punctuated with candied nuts and more citrus.Wagyu Coulotte w/ Mushrooms, Celeriac, Turnips & Beet Jus: A+Another beautifully seasonal dish, excellent cook on the meat. I almost never eat red meat but our meal and Manhatta proved to be an ideal opportunity to splurge (though I do feel I'll need a steady diet of veggies and quinoa for the next week as a result).   \n",
       "\n",
       "  Useful  \n",
       "0     12  \n",
       "1     21  \n",
       "2    107  \n",
       "3     14  \n",
       "4     15  "
      ]
     },
     "execution_count": 215,
     "metadata": {},
     "output_type": "execute_result"
    }
   ],
   "source": [
    "df.head()"
   ]
  },
  {
   "cell_type": "code",
   "execution_count": 216,
   "metadata": {},
   "outputs": [],
   "source": [
    "df.to_csv('Scraped_Yelp_Reviews.csv')"
   ]
  },
  {
   "cell_type": "code",
   "execution_count": null,
   "metadata": {},
   "outputs": [],
   "source": []
  }
 ],
 "metadata": {
  "kernelspec": {
   "display_name": "Python 3",
   "language": "python",
   "name": "python3"
  },
  "language_info": {
   "codemirror_mode": {
    "name": "ipython",
    "version": 3
   },
   "file_extension": ".py",
   "mimetype": "text/x-python",
   "name": "python",
   "nbconvert_exporter": "python",
   "pygments_lexer": "ipython3",
   "version": "3.7.1"
  }
 },
 "nbformat": 4,
 "nbformat_minor": 2
}
