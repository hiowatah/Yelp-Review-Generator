{
 "cells": [
  {
   "cell_type": "markdown",
   "metadata": {},
   "source": [
    "# Because other dataset did not have enough 3, 2, and 1 star reviews, I obtained an additional data source to capture these reviews"
   ]
  },
  {
   "cell_type": "code",
   "execution_count": 5,
   "metadata": {},
   "outputs": [],
   "source": [
    "import json\n",
    "import pandas as pd\n",
    "businesses = []\n",
    "for line in open('yelp_dataset/review.json', 'r'):\n",
    "    businesses.append(json.loads(line))"
   ]
  },
  {
   "cell_type": "code",
   "execution_count": 6,
   "metadata": {},
   "outputs": [],
   "source": [
    "df = pd.DataFrame(businesses)"
   ]
  },
  {
   "cell_type": "code",
   "execution_count": 7,
   "metadata": {},
   "outputs": [
    {
     "data": {
      "text/html": [
       "<div>\n",
       "<style scoped>\n",
       "    .dataframe tbody tr th:only-of-type {\n",
       "        vertical-align: middle;\n",
       "    }\n",
       "\n",
       "    .dataframe tbody tr th {\n",
       "        vertical-align: top;\n",
       "    }\n",
       "\n",
       "    .dataframe thead th {\n",
       "        text-align: right;\n",
       "    }\n",
       "</style>\n",
       "<table border=\"1\" class=\"dataframe\">\n",
       "  <thead>\n",
       "    <tr style=\"text-align: right;\">\n",
       "      <th></th>\n",
       "      <th>business_id</th>\n",
       "      <th>cool</th>\n",
       "      <th>date</th>\n",
       "      <th>funny</th>\n",
       "      <th>review_id</th>\n",
       "      <th>stars</th>\n",
       "      <th>text</th>\n",
       "      <th>useful</th>\n",
       "      <th>user_id</th>\n",
       "    </tr>\n",
       "  </thead>\n",
       "  <tbody>\n",
       "    <tr>\n",
       "      <th>6685895</th>\n",
       "      <td>RXBFk3tVBxiTf3uOt9KExQ</td>\n",
       "      <td>0</td>\n",
       "      <td>2018-07-03 12:17:27</td>\n",
       "      <td>0</td>\n",
       "      <td>0pCaq1hqAViS2N6ldlp_sQ</td>\n",
       "      <td>5.0</td>\n",
       "      <td>I have been coming here for years and this pla...</td>\n",
       "      <td>1</td>\n",
       "      <td>Xu_YazIajfsc7SRj1wJ6Mg</td>\n",
       "    </tr>\n",
       "    <tr>\n",
       "      <th>6685896</th>\n",
       "      <td>yA6dKNm_zl1ucZCnwW8ZCg</td>\n",
       "      <td>5</td>\n",
       "      <td>2013-05-22 15:32:08</td>\n",
       "      <td>11</td>\n",
       "      <td>jPCXuSBbI_cPocgoNBhdkg</td>\n",
       "      <td>1.0</td>\n",
       "      <td>I think this owner and the owner of Amy's Baki...</td>\n",
       "      <td>13</td>\n",
       "      <td>V6BjjQICDO4q7TT3ZhaPWw</td>\n",
       "    </tr>\n",
       "    <tr>\n",
       "      <th>6685897</th>\n",
       "      <td>a192hdM0_UVCYLwPJv1Qwg</td>\n",
       "      <td>0</td>\n",
       "      <td>2018-11-13 21:15:20</td>\n",
       "      <td>0</td>\n",
       "      <td>zwzO3yPdGbdgGy3-XQ0SWg</td>\n",
       "      <td>5.0</td>\n",
       "      <td>Off the grid Mexican in Vegas. Very tasty, qua...</td>\n",
       "      <td>0</td>\n",
       "      <td>PFiIECX8wuvi7P-1mCvIjA</td>\n",
       "    </tr>\n",
       "    <tr>\n",
       "      <th>6685898</th>\n",
       "      <td>kOo4ZY2UQAX4j312mzQ8mA</td>\n",
       "      <td>1</td>\n",
       "      <td>2018-08-13 18:09:16</td>\n",
       "      <td>1</td>\n",
       "      <td>o8Nc2BJhKJXM6tRHJDRuPA</td>\n",
       "      <td>5.0</td>\n",
       "      <td>We hired Taco Naco to cater our family party a...</td>\n",
       "      <td>1</td>\n",
       "      <td>wu5R5_N7q5iqCBh6NBX26Q</td>\n",
       "    </tr>\n",
       "    <tr>\n",
       "      <th>6685899</th>\n",
       "      <td>PkqN5st3zZ_Xce_5QlBtNQ</td>\n",
       "      <td>0</td>\n",
       "      <td>2018-11-12 20:25:32</td>\n",
       "      <td>0</td>\n",
       "      <td>OKmOLFwtI-NjofTHAGzv1Q</td>\n",
       "      <td>3.0</td>\n",
       "      <td>Having just come back from Hawaii a few months...</td>\n",
       "      <td>2</td>\n",
       "      <td>Ej3mCvjcwVXCSPB_avIfjQ</td>\n",
       "    </tr>\n",
       "  </tbody>\n",
       "</table>\n",
       "</div>"
      ],
      "text/plain": [
       "                    business_id  cool                 date  funny  \\\n",
       "6685895  RXBFk3tVBxiTf3uOt9KExQ     0  2018-07-03 12:17:27      0   \n",
       "6685896  yA6dKNm_zl1ucZCnwW8ZCg     5  2013-05-22 15:32:08     11   \n",
       "6685897  a192hdM0_UVCYLwPJv1Qwg     0  2018-11-13 21:15:20      0   \n",
       "6685898  kOo4ZY2UQAX4j312mzQ8mA     1  2018-08-13 18:09:16      1   \n",
       "6685899  PkqN5st3zZ_Xce_5QlBtNQ     0  2018-11-12 20:25:32      0   \n",
       "\n",
       "                      review_id  stars  \\\n",
       "6685895  0pCaq1hqAViS2N6ldlp_sQ    5.0   \n",
       "6685896  jPCXuSBbI_cPocgoNBhdkg    1.0   \n",
       "6685897  zwzO3yPdGbdgGy3-XQ0SWg    5.0   \n",
       "6685898  o8Nc2BJhKJXM6tRHJDRuPA    5.0   \n",
       "6685899  OKmOLFwtI-NjofTHAGzv1Q    3.0   \n",
       "\n",
       "                                                      text  useful  \\\n",
       "6685895  I have been coming here for years and this pla...       1   \n",
       "6685896  I think this owner and the owner of Amy's Baki...      13   \n",
       "6685897  Off the grid Mexican in Vegas. Very tasty, qua...       0   \n",
       "6685898  We hired Taco Naco to cater our family party a...       1   \n",
       "6685899  Having just come back from Hawaii a few months...       2   \n",
       "\n",
       "                        user_id  \n",
       "6685895  Xu_YazIajfsc7SRj1wJ6Mg  \n",
       "6685896  V6BjjQICDO4q7TT3ZhaPWw  \n",
       "6685897  PFiIECX8wuvi7P-1mCvIjA  \n",
       "6685898  wu5R5_N7q5iqCBh6NBX26Q  \n",
       "6685899  Ej3mCvjcwVXCSPB_avIfjQ  "
      ]
     },
     "execution_count": 7,
     "metadata": {},
     "output_type": "execute_result"
    }
   ],
   "source": [
    "df.tail()"
   ]
  },
  {
   "cell_type": "markdown",
   "metadata": {},
   "source": [
    "# Dropping columns to make this dataframe look like the other to be able to seamlessly merge the 2"
   ]
  },
  {
   "cell_type": "code",
   "execution_count": 8,
   "metadata": {},
   "outputs": [],
   "source": [
    "df.drop(columns=['business_id', 'date', 'review_id', 'user_id'], inplace=True)"
   ]
  },
  {
   "cell_type": "code",
   "execution_count": 9,
   "metadata": {},
   "outputs": [
    {
     "data": {
      "text/html": [
       "<div>\n",
       "<style scoped>\n",
       "    .dataframe tbody tr th:only-of-type {\n",
       "        vertical-align: middle;\n",
       "    }\n",
       "\n",
       "    .dataframe tbody tr th {\n",
       "        vertical-align: top;\n",
       "    }\n",
       "\n",
       "    .dataframe thead th {\n",
       "        text-align: right;\n",
       "    }\n",
       "</style>\n",
       "<table border=\"1\" class=\"dataframe\">\n",
       "  <thead>\n",
       "    <tr style=\"text-align: right;\">\n",
       "      <th></th>\n",
       "      <th>cool</th>\n",
       "      <th>funny</th>\n",
       "      <th>stars</th>\n",
       "      <th>text</th>\n",
       "      <th>useful</th>\n",
       "    </tr>\n",
       "  </thead>\n",
       "  <tbody>\n",
       "    <tr>\n",
       "      <th>0</th>\n",
       "      <td>0</td>\n",
       "      <td>1</td>\n",
       "      <td>1.0</td>\n",
       "      <td>Total bill for this horrible service? Over $8G...</td>\n",
       "      <td>6</td>\n",
       "    </tr>\n",
       "    <tr>\n",
       "      <th>1</th>\n",
       "      <td>0</td>\n",
       "      <td>0</td>\n",
       "      <td>5.0</td>\n",
       "      <td>I *adore* Travis at the Hard Rock's new Kelly ...</td>\n",
       "      <td>0</td>\n",
       "    </tr>\n",
       "    <tr>\n",
       "      <th>2</th>\n",
       "      <td>0</td>\n",
       "      <td>0</td>\n",
       "      <td>5.0</td>\n",
       "      <td>I have to say that this office really has it t...</td>\n",
       "      <td>3</td>\n",
       "    </tr>\n",
       "    <tr>\n",
       "      <th>3</th>\n",
       "      <td>0</td>\n",
       "      <td>0</td>\n",
       "      <td>5.0</td>\n",
       "      <td>Went in for a lunch. Steak sandwich was delici...</td>\n",
       "      <td>0</td>\n",
       "    </tr>\n",
       "    <tr>\n",
       "      <th>4</th>\n",
       "      <td>0</td>\n",
       "      <td>0</td>\n",
       "      <td>1.0</td>\n",
       "      <td>Today was my second out of three sessions I ha...</td>\n",
       "      <td>7</td>\n",
       "    </tr>\n",
       "  </tbody>\n",
       "</table>\n",
       "</div>"
      ],
      "text/plain": [
       "   cool  funny  stars                                               text  \\\n",
       "0     0      1    1.0  Total bill for this horrible service? Over $8G...   \n",
       "1     0      0    5.0  I *adore* Travis at the Hard Rock's new Kelly ...   \n",
       "2     0      0    5.0  I have to say that this office really has it t...   \n",
       "3     0      0    5.0  Went in for a lunch. Steak sandwich was delici...   \n",
       "4     0      0    1.0  Today was my second out of three sessions I ha...   \n",
       "\n",
       "   useful  \n",
       "0       6  \n",
       "1       0  \n",
       "2       3  \n",
       "3       0  \n",
       "4       7  "
      ]
     },
     "execution_count": 9,
     "metadata": {},
     "output_type": "execute_result"
    }
   ],
   "source": [
    "df.head()"
   ]
  },
  {
   "cell_type": "markdown",
   "metadata": {},
   "source": [
    "# I only want reviews that are helpful. Since the other dataset were the official 'Review of the Day' I know the quality of those reviews are high. In order to make this datset at a high quality, I filter out based on user ratings for the review"
   ]
  },
  {
   "cell_type": "code",
   "execution_count": 10,
   "metadata": {},
   "outputs": [],
   "source": [
    "df = df[(df['cool'] >= 5) & (df['funny'] >= 5) & (df['useful'] >=5)]"
   ]
  },
  {
   "cell_type": "markdown",
   "metadata": {},
   "source": [
    "# Only need reviews that are 3 stars or below to supplement my data scrape"
   ]
  },
  {
   "cell_type": "code",
   "execution_count": 11,
   "metadata": {},
   "outputs": [],
   "source": [
    "df = df[df['stars']<=3]"
   ]
  },
  {
   "cell_type": "code",
   "execution_count": 15,
   "metadata": {},
   "outputs": [
    {
     "name": "stdout",
     "output_type": "stream",
     "text": [
      "<class 'pandas.core.frame.DataFrame'>\n",
      "Int64Index: 23072 entries, 325 to 6685896\n",
      "Data columns (total 5 columns):\n",
      "cool      23072 non-null int64\n",
      "funny     23072 non-null int64\n",
      "stars     23072 non-null float64\n",
      "text      23072 non-null object\n",
      "useful    23072 non-null int64\n",
      "dtypes: float64(1), int64(3), object(1)\n",
      "memory usage: 1.1+ MB\n"
     ]
    }
   ],
   "source": [
    "df.info()"
   ]
  },
  {
   "cell_type": "code",
   "execution_count": 16,
   "metadata": {},
   "outputs": [],
   "source": [
    "df.to_csv('Yelp_Dataset_Reviews.csv')"
   ]
  },
  {
   "cell_type": "code",
   "execution_count": null,
   "metadata": {},
   "outputs": [],
   "source": []
  }
 ],
 "metadata": {
  "kernelspec": {
   "display_name": "Python 3",
   "language": "python",
   "name": "python3"
  },
  "language_info": {
   "codemirror_mode": {
    "name": "ipython",
    "version": 3
   },
   "file_extension": ".py",
   "mimetype": "text/x-python",
   "name": "python",
   "nbconvert_exporter": "python",
   "pygments_lexer": "ipython3",
   "version": "3.7.1"
  }
 },
 "nbformat": 4,
 "nbformat_minor": 2
}
