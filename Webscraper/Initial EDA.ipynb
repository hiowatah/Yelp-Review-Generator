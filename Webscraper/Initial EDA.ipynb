{
 "cells": [
  {
   "cell_type": "code",
   "execution_count": 2,
   "metadata": {},
   "outputs": [],
   "source": [
    "import pandas as pd"
   ]
  },
  {
   "cell_type": "code",
   "execution_count": 3,
   "metadata": {},
   "outputs": [],
   "source": [
    "df = pd.read_csv('Scraped_Yelp_Reviews.csv')\n",
    "df2 = pd.read_csv('Yelp_Dataset_Reviews.csv')"
   ]
  },
  {
   "cell_type": "code",
   "execution_count": 4,
   "metadata": {},
   "outputs": [],
   "source": [
    "#want to be able to view all of the text, so increasing this to increase the character limit\n",
    "pd.options.display.max_colwidth = 20000"
   ]
  },
  {
   "cell_type": "code",
   "execution_count": 5,
   "metadata": {},
   "outputs": [],
   "source": [
    "df.drop(columns=['Unnamed: 0'], inplace=True)\n",
    "df2.drop(columns=['Unnamed: 0'], inplace=True)"
   ]
  },
  {
   "cell_type": "code",
   "execution_count": 6,
   "metadata": {},
   "outputs": [
    {
     "data": {
      "text/html": [
       "<div>\n",
       "<style scoped>\n",
       "    .dataframe tbody tr th:only-of-type {\n",
       "        vertical-align: middle;\n",
       "    }\n",
       "\n",
       "    .dataframe tbody tr th {\n",
       "        vertical-align: top;\n",
       "    }\n",
       "\n",
       "    .dataframe thead th {\n",
       "        text-align: right;\n",
       "    }\n",
       "</style>\n",
       "<table border=\"1\" class=\"dataframe\">\n",
       "  <thead>\n",
       "    <tr style=\"text-align: right;\">\n",
       "      <th></th>\n",
       "      <th>Cool</th>\n",
       "      <th>Funny</th>\n",
       "      <th>Rating</th>\n",
       "      <th>Text</th>\n",
       "      <th>Useful</th>\n",
       "    </tr>\n",
       "  </thead>\n",
       "  <tbody>\n",
       "    <tr>\n",
       "      <th>0</th>\n",
       "      <td>19.0</td>\n",
       "      <td>5.0</td>\n",
       "      <td>5.0 star rating</td>\n",
       "      <td>Talk about WOW. If anyone ever asked me what my favorite cookie in NYC was, it's from Levains Bakery. Coming from a person who has tried almost every dessert in this city, these cookies are out of this world. Just the right amount of gooey-crisp ratio in every bite. When you're finished, these cookies will have you on your knees begging for more. My favorite would have to be Levain's Chocolate Chip Walnut Cookie. Even though $4 may be steep to spend on only one cookie, you'll understand why after just one bite. Since Levain's has become such a popular establishment, it does get pretty busy. I would say avoid weekend lines and go during the morning or a random weekday. Even if you do end up going during their busy hours, it will be worth the wait :)</td>\n",
       "      <td>12.0</td>\n",
       "    </tr>\n",
       "    <tr>\n",
       "      <th>1</th>\n",
       "      <td>14.0</td>\n",
       "      <td>3.0</td>\n",
       "      <td>5.0 star rating</td>\n",
       "      <td>Mighty Quinn's is a fast-casual barbecue chain with locations across Manhattan.Calling it the Chipotle of BBQ isn't quite accurate given how brisk their delivery business seems to be versus take-out, but I'll take it for the general \"high quality, low price point, good enough\" level that most locations seem to put out. The food stands up pretty well to delivery, and if you're getting it from the comfort of Seamless, I predict an average to positive experience. But if you're willing to make the trek to East Village flagship, which apparently makes the food for the other locations, you can find some truly standout barbecue.I first ventured here via Jane D's suggestion to try the ribs. These are probably their best: tender, just short of fall-off-the-bone, and not at all greasy. The pulled pork is also exceptional-- a fattier blend than typical, resulting in a sloppy and gluttonous sandwich, cut with crisp cucumbers and sharp pickled red onions.Other meat (brisket, chicken) has been high quality but on the dry side. Their barbecue sauce isn't anything out of the ordinary, but it's satisfying and works with all of their options. I haven't explored the sides too much yet, being a small human typically sated with their single-portion meat serving. The kale salad is pretty average; the sweet potatoes are splendid.Prices are good; I typically spend under $15 here including tax and tip. Service varies in terms of attitude but it's always efficient. There's a bathroom with a lock code.Overall, I found the meat here to be better than expected given the corporate vibe and mass production. A reliable pick for NYC barbecue and an increasing part of my diet.</td>\n",
       "      <td>21.0</td>\n",
       "    </tr>\n",
       "    <tr>\n",
       "      <th>2</th>\n",
       "      <td>113.0</td>\n",
       "      <td>59.0</td>\n",
       "      <td>5.0 star rating</td>\n",
       "      <td>Phenomenal Restaurant !!! We came here Monday during lunch rush. We didn't wait, the table was ready for us. This restaurant is kind of small , not to many tables so be aware that if you are coming during the weekend the lines will be long !! the wait time will be more than 30 minutes ! The menu is not long but it's exactly what you need for this kind of Restaurant , hamburgers, drinks and shakes ! The service was very fast ! . We started with drinks, One Mule and one beer. You can choose between draft , can or bottle beer. Drinks !1- Mule - Tito's Vodka! 4 of 5 , It's good but is very light ! Bartender ! please!! pour more vodka! lol 2- Jalapeño Margarita - 5 of 5 ! Excellent !!!! Spicy drink!!!! 3- 21st Amendment Brew Free or Die IPA - 5 of 5 !! Excellent Can Beer !!!Food!!1- The Spicy Mexican - 10 OF10 !!!!!!!!! Excellent spicy burger !! Chorizo Burger With Jack Cheese, Pico De Gallo &amp; Chipotle Mayo 2- Turkey burger Salad! - 10 of 10 !!! Apple, Blue Cheese, Avocado, Dried Cranberries, House Buttermilk-Dill Dressing .. I added raw onions and mushrooms ! 1 dollar extra for onions and 2 for mushrooms ! Superb Salad !! wow! its extremely good !!!Service is very good! Place is clean ! Extremely recommended !</td>\n",
       "      <td>107.0</td>\n",
       "    </tr>\n",
       "    <tr>\n",
       "      <th>3</th>\n",
       "      <td>18.0</td>\n",
       "      <td>7.0</td>\n",
       "      <td>5.0 star rating</td>\n",
       "      <td>Did I just eat THE burger in New York City? The double stack burger was absolute perfection on a plate! It had that \"umami\" factor and albeit steep price, it just felt so satisfying to bite into it.There was dimension and tons of flavor. I loved the sauteed onions, the sweet bun, and pickles. The overall flavor was just very memorable. I was eating it unmodified and just the way they usually serve it and it was satisfying and I did not finish it - so portion is great for the price! (At least for me).I would love to come back for the pizza, and definitely could see myself coming back here in general. Service was good - my only pet peeve was that our group of 9 all ordered burgers and it took a very long time to get all of them out. Some of us felt too awkward to eat ours (it was a corporate lunch), and waiting made things soggy.</td>\n",
       "      <td>14.0</td>\n",
       "    </tr>\n",
       "    <tr>\n",
       "      <th>4</th>\n",
       "      <td>14.0</td>\n",
       "      <td>6.0</td>\n",
       "      <td>5.0 star rating</td>\n",
       "      <td>So places like this really do exist.Like many of us, I grew up romanticizing New York. I watched Saturday Night Fever and Desperately Seeking Susan and Goodfellas and most importantly, Sex in the City (and like many of us, was probably far too young for the content at the time). I saw a swanky, luxurious life filled with unthinkable embellishments. Then I moved here and realized that there's a thing called rent and another thing called student loans and another thing called taxes and I started to resent Carrie Bradshaw and her ridiculous and impossible apartment. Well, I digress. That world of splendor I pined for with every cell of my being does exist--albeit on a different scale--at Manhatta. It starts from the moment you walk in: a well-groomed host in the lobby leads you to an elevator that makes one stop only: Floor 60. You float up into paradise, into a world where people bring you things you didn't know you wanted and you can pretend for a night that this is the norm now, that you while always dine amongst the stars...Manhatta has done a magical thing: it manages to perfectly package Ideal Manhattan Experience. This is a place for a special occasion. A sweeping dining room bound by floor-to-ceiling windows that look out on the entire city. With a prix fixe-only menu, timing is executed perfectly and servers twirl in with your next course just as you start thinking you'd like to move to the next thing. It's seasonal, refined American fare with a top-notch mixology program as well. We did something very out of the ordinary for me, which is drop in to a very popular venue without a reservation. I never heed the whole \"we accept walk-ins at our bar / full dinner menu\", but this past Saturday, I the fire in my belly was strong enough. As if this place wasn't already magical enough, we exited the elevator and found ourselves staring at two empty seats at the bar. Dream it and believe it, friends.Perhaps the view wasn't *quite* as spectacular sitting at the bar, but we had an added bonus of watching our bartender fix up some fantastic drinks. We both stuck with cocktails here despite the impressive wine list, and I'm glad we did. The drink menu changes frequently so sadly I can't report much of what we had, but I can speak to two on the current online menu: the Castle Garden (Gin, Benedictine, Honey, Lime, Angostura) the Manhatta (New York Distilling Ragtime Rye, Punt e Mes, Lustau East India Sherry, Bitters). Both well-executed a yummy. My favorite drink of the night was a stirred vodka cocktail brand new to the menu. I don't like vodka so the idea of a *stirred* vodka drink sounds awful at first, but the bartender convinced me as a fellow vodka-disenthusiast. It's worth your time. We came during Valentine's Day weekend (the actual day was 2/16) so the bar was offering its usual a la carte menu (most dishes are totally different than the tasting menu) as well as a four-course meal for $188. Pretty steep considering their three-courser is $88, but the dishes looked so good, we couldn't pass it up. That's the last time we ball out for a while, but it was worth it. Our eats, below:Citrus Salad w/ Labneh, Roasted Beets &amp; Hazelnut: ALight and refreshing, sophisticated an elegant. The ideal first course, kind of served as an amuse bouche. Great use of both texture and flavor.Lobster Quenelle w/ Mushrooms &amp; Roasted Lobster Emulsion: A+Oh man, this is where it started to get decadent. I had never heard of this particular lobster preparation before but it was just divine. Rich and warming, lobster two-ways is luxurious and comforting, very unique.Soft Scrambled Eggs w/ Uni: AI had a similar preparation once at a restaurant in Philly which was out of this world, so everything else pales in comparison. So this didn't blow me away given the reference I had, but it's still delicious. Rich and creamy, you'll want to take a bath in it. Foie Gras: AMore luxury, in the form of liver. Served with some sort of mustard and maybe some sort of kraut (this isn't on the online menu so I'm doing my best), all components meshed well.Bites, compliments of the kitchen, brought out during our first course:Chicken Liver Mousse w/ Everything Bagel Seasoning: A+ Eat this with bread, eat this plain, delicacy after delicacy will greet you here.Oysters: A+Can't remember the accompaniments but these were fresh and delicious, a nice interlude before the rest of the meal.Crescent Duck w/ Offal Sausage, Confit, Endive &amp; Prunes: A+Cooked perfectly, a beautiful winter entree. Rich, subtle sweet-and-savory melody going on, served in some yummy sauce and punctuated with candied nuts and more citrus.Wagyu Coulotte w/ Mushrooms, Celeriac, Turnips &amp; Beet Jus: A+Another beautifully seasonal dish, excellent cook on the meat. I almost never eat red meat but our meal and Manhatta proved to be an ideal opportunity to splurge (though I do feel I'll need a steady diet of veggies and quinoa for the next week as a result).</td>\n",
       "      <td>15.0</td>\n",
       "    </tr>\n",
       "  </tbody>\n",
       "</table>\n",
       "</div>"
      ],
      "text/plain": [
       "    Cool  Funny           Rating  \\\n",
       "0   19.0    5.0  5.0 star rating   \n",
       "1   14.0    3.0  5.0 star rating   \n",
       "2  113.0   59.0  5.0 star rating   \n",
       "3   18.0    7.0  5.0 star rating   \n",
       "4   14.0    6.0  5.0 star rating   \n",
       "\n",
       "                                                                                                                                                                                                                                                                                                                                                                                                                                                                                                                                                                                                                                                                                                                                                                                                                                                                                                                                                                                                                                                                                                                                                                                                                                                                                                                                                                                                                                                                                                                                                                                                                                                                                                                                                                                                                                                                                                                                                                                                                                                                                                                                                                                                                                                                                                                                                                                                                                                                                                                                                                                                                                                                                                                                                                                                                                                                                                                                                                                                                                                                                                                                                                                                                                                                                                                                                                                                                                                                                                                                                                                                                                                                                                                                                                                                                                                                                                                                                                                                                                                                                                                                                                                                                                                                                                                                                                                                                                                                                                                                                                                                                                                                                                                                                                                                                                                                                                                                                                                                                                                                                                                                                                 Text  \\\n",
       "0                                                                                                                                                                                                                                                                                                                                                                                                                                                                                                                                                                                                                                                                                                                                                                                                                                                                                                                                                                                                                                                                                                                                                                                                                                                                                                                                                                                                                                                                                                                                                                                                                                                                                                                                                                                                                                                                                                                                                                                                                                                                                                                                                                                                                                                                                                                                                                                                                                                                                                                                                                                                                                                                                                                                                                                                                                                                                                                                                                                                                                                                                                                                                                                                                                                                                                                                                                                                                                                                                                                                                                                                                                                                                                                                                                                                                                                                                                                                                                                                                                                                                                                                                                                                                                                                                                                                                                              Talk about WOW. If anyone ever asked me what my favorite cookie in NYC was, it's from Levains Bakery. Coming from a person who has tried almost every dessert in this city, these cookies are out of this world. Just the right amount of gooey-crisp ratio in every bite. When you're finished, these cookies will have you on your knees begging for more. My favorite would have to be Levain's Chocolate Chip Walnut Cookie. Even though $4 may be steep to spend on only one cookie, you'll understand why after just one bite. Since Levain's has become such a popular establishment, it does get pretty busy. I would say avoid weekend lines and go during the morning or a random weekday. Even if you do end up going during their busy hours, it will be worth the wait :)   \n",
       "1                                                                                                                                                                                                                                                                                                                                                                                                                                                                                                                                                                                                                                                                                                                                                                                                                                                                                                                                                                                                                                                                                                                                                                                                                                                                                                                                                                                                                                                                                                                                                                                                                                                                                                                                                                                                                                                                                                                                                                                                                                                                                                                                                                                                                                                                                                                                                                                                                                                                                                                                                                                                                                                                                                                                                                                                                                                                                                                                                                                                                                                                                                                                                                                                                                                                                                                                                                                                                             Mighty Quinn's is a fast-casual barbecue chain with locations across Manhattan.Calling it the Chipotle of BBQ isn't quite accurate given how brisk their delivery business seems to be versus take-out, but I'll take it for the general \"high quality, low price point, good enough\" level that most locations seem to put out. The food stands up pretty well to delivery, and if you're getting it from the comfort of Seamless, I predict an average to positive experience. But if you're willing to make the trek to East Village flagship, which apparently makes the food for the other locations, you can find some truly standout barbecue.I first ventured here via Jane D's suggestion to try the ribs. These are probably their best: tender, just short of fall-off-the-bone, and not at all greasy. The pulled pork is also exceptional-- a fattier blend than typical, resulting in a sloppy and gluttonous sandwich, cut with crisp cucumbers and sharp pickled red onions.Other meat (brisket, chicken) has been high quality but on the dry side. Their barbecue sauce isn't anything out of the ordinary, but it's satisfying and works with all of their options. I haven't explored the sides too much yet, being a small human typically sated with their single-portion meat serving. The kale salad is pretty average; the sweet potatoes are splendid.Prices are good; I typically spend under $15 here including tax and tip. Service varies in terms of attitude but it's always efficient. There's a bathroom with a lock code.Overall, I found the meat here to be better than expected given the corporate vibe and mass production. A reliable pick for NYC barbecue and an increasing part of my diet.   \n",
       "2                                                                                                                                                                                                                                                                                                                                                                                                                                                                                                                                                                                                                                                                                                                                                                                                                                                                                                                                                                                                                                                                                                                                                                                                                                                                                                                                                                                                                                                                                                                                                                                                                                                                                                                                                                                                                                                                                                                                                                                                                                                                                                                                                                                                                                                                                                                                                                                                                                                                                                                                                                                                                                                                                                                                                                                                                                                                                                                                                                                                                                                                                                                                                                                                                                                                                                                                                                                                                                                                                                                                                                                                                                                                                                                                                                                                                                                                                           Phenomenal Restaurant !!! We came here Monday during lunch rush. We didn't wait, the table was ready for us. This restaurant is kind of small , not to many tables so be aware that if you are coming during the weekend the lines will be long !! the wait time will be more than 30 minutes ! The menu is not long but it's exactly what you need for this kind of Restaurant , hamburgers, drinks and shakes ! The service was very fast ! . We started with drinks, One Mule and one beer. You can choose between draft , can or bottle beer. Drinks !1- Mule - Tito's Vodka! 4 of 5 , It's good but is very light ! Bartender ! please!! pour more vodka! lol 2- Jalapeño Margarita - 5 of 5 ! Excellent !!!! Spicy drink!!!! 3- 21st Amendment Brew Free or Die IPA - 5 of 5 !! Excellent Can Beer !!!Food!!1- The Spicy Mexican - 10 OF10 !!!!!!!!! Excellent spicy burger !! Chorizo Burger With Jack Cheese, Pico De Gallo & Chipotle Mayo 2- Turkey burger Salad! - 10 of 10 !!! Apple, Blue Cheese, Avocado, Dried Cranberries, House Buttermilk-Dill Dressing .. I added raw onions and mushrooms ! 1 dollar extra for onions and 2 for mushrooms ! Superb Salad !! wow! its extremely good !!!Service is very good! Place is clean ! Extremely recommended !   \n",
       "3                                                                                                                                                                                                                                                                                                                                                                                                                                                                                                                                                                                                                                                                                                                                                                                                                                                                                                                                                                                                                                                                                                                                                                                                                                                                                                                                                                                                                                                                                                                                                                                                                                                                                                                                                                                                                                                                                                                                                                                                                                                                                                                                                                                                                                                                                                                                                                                                                                                                                                                                                                                                                                                                                                                                                                                                                                                                                                                                                                                                                                                                                                                                                                                                                                                                                                                                                                                                                                                                                                                                                                                                                                                                                                                                                                                                                                                                                                                                                                                                                                                                                                                                                                                                                                                                                             Did I just eat THE burger in New York City? The double stack burger was absolute perfection on a plate! It had that \"umami\" factor and albeit steep price, it just felt so satisfying to bite into it.There was dimension and tons of flavor. I loved the sauteed onions, the sweet bun, and pickles. The overall flavor was just very memorable. I was eating it unmodified and just the way they usually serve it and it was satisfying and I did not finish it - so portion is great for the price! (At least for me).I would love to come back for the pizza, and definitely could see myself coming back here in general. Service was good - my only pet peeve was that our group of 9 all ordered burgers and it took a very long time to get all of them out. Some of us felt too awkward to eat ours (it was a corporate lunch), and waiting made things soggy.   \n",
       "4  So places like this really do exist.Like many of us, I grew up romanticizing New York. I watched Saturday Night Fever and Desperately Seeking Susan and Goodfellas and most importantly, Sex in the City (and like many of us, was probably far too young for the content at the time). I saw a swanky, luxurious life filled with unthinkable embellishments. Then I moved here and realized that there's a thing called rent and another thing called student loans and another thing called taxes and I started to resent Carrie Bradshaw and her ridiculous and impossible apartment. Well, I digress. That world of splendor I pined for with every cell of my being does exist--albeit on a different scale--at Manhatta. It starts from the moment you walk in: a well-groomed host in the lobby leads you to an elevator that makes one stop only: Floor 60. You float up into paradise, into a world where people bring you things you didn't know you wanted and you can pretend for a night that this is the norm now, that you while always dine amongst the stars...Manhatta has done a magical thing: it manages to perfectly package Ideal Manhattan Experience. This is a place for a special occasion. A sweeping dining room bound by floor-to-ceiling windows that look out on the entire city. With a prix fixe-only menu, timing is executed perfectly and servers twirl in with your next course just as you start thinking you'd like to move to the next thing. It's seasonal, refined American fare with a top-notch mixology program as well. We did something very out of the ordinary for me, which is drop in to a very popular venue without a reservation. I never heed the whole \"we accept walk-ins at our bar / full dinner menu\", but this past Saturday, I the fire in my belly was strong enough. As if this place wasn't already magical enough, we exited the elevator and found ourselves staring at two empty seats at the bar. Dream it and believe it, friends.Perhaps the view wasn't *quite* as spectacular sitting at the bar, but we had an added bonus of watching our bartender fix up some fantastic drinks. We both stuck with cocktails here despite the impressive wine list, and I'm glad we did. The drink menu changes frequently so sadly I can't report much of what we had, but I can speak to two on the current online menu: the Castle Garden (Gin, Benedictine, Honey, Lime, Angostura) the Manhatta (New York Distilling Ragtime Rye, Punt e Mes, Lustau East India Sherry, Bitters). Both well-executed a yummy. My favorite drink of the night was a stirred vodka cocktail brand new to the menu. I don't like vodka so the idea of a *stirred* vodka drink sounds awful at first, but the bartender convinced me as a fellow vodka-disenthusiast. It's worth your time. We came during Valentine's Day weekend (the actual day was 2/16) so the bar was offering its usual a la carte menu (most dishes are totally different than the tasting menu) as well as a four-course meal for $188. Pretty steep considering their three-courser is $88, but the dishes looked so good, we couldn't pass it up. That's the last time we ball out for a while, but it was worth it. Our eats, below:Citrus Salad w/ Labneh, Roasted Beets & Hazelnut: ALight and refreshing, sophisticated an elegant. The ideal first course, kind of served as an amuse bouche. Great use of both texture and flavor.Lobster Quenelle w/ Mushrooms & Roasted Lobster Emulsion: A+Oh man, this is where it started to get decadent. I had never heard of this particular lobster preparation before but it was just divine. Rich and warming, lobster two-ways is luxurious and comforting, very unique.Soft Scrambled Eggs w/ Uni: AI had a similar preparation once at a restaurant in Philly which was out of this world, so everything else pales in comparison. So this didn't blow me away given the reference I had, but it's still delicious. Rich and creamy, you'll want to take a bath in it. Foie Gras: AMore luxury, in the form of liver. Served with some sort of mustard and maybe some sort of kraut (this isn't on the online menu so I'm doing my best), all components meshed well.Bites, compliments of the kitchen, brought out during our first course:Chicken Liver Mousse w/ Everything Bagel Seasoning: A+ Eat this with bread, eat this plain, delicacy after delicacy will greet you here.Oysters: A+Can't remember the accompaniments but these were fresh and delicious, a nice interlude before the rest of the meal.Crescent Duck w/ Offal Sausage, Confit, Endive & Prunes: A+Cooked perfectly, a beautiful winter entree. Rich, subtle sweet-and-savory melody going on, served in some yummy sauce and punctuated with candied nuts and more citrus.Wagyu Coulotte w/ Mushrooms, Celeriac, Turnips & Beet Jus: A+Another beautifully seasonal dish, excellent cook on the meat. I almost never eat red meat but our meal and Manhatta proved to be an ideal opportunity to splurge (though I do feel I'll need a steady diet of veggies and quinoa for the next week as a result).   \n",
       "\n",
       "   Useful  \n",
       "0    12.0  \n",
       "1    21.0  \n",
       "2   107.0  \n",
       "3    14.0  \n",
       "4    15.0  "
      ]
     },
     "execution_count": 6,
     "metadata": {},
     "output_type": "execute_result"
    }
   ],
   "source": [
    "df.head()"
   ]
  },
  {
   "cell_type": "code",
   "execution_count": 7,
   "metadata": {},
   "outputs": [
    {
     "data": {
      "text/html": [
       "<div>\n",
       "<style scoped>\n",
       "    .dataframe tbody tr th:only-of-type {\n",
       "        vertical-align: middle;\n",
       "    }\n",
       "\n",
       "    .dataframe tbody tr th {\n",
       "        vertical-align: top;\n",
       "    }\n",
       "\n",
       "    .dataframe thead th {\n",
       "        text-align: right;\n",
       "    }\n",
       "</style>\n",
       "<table border=\"1\" class=\"dataframe\">\n",
       "  <thead>\n",
       "    <tr style=\"text-align: right;\">\n",
       "      <th></th>\n",
       "      <th>cool</th>\n",
       "      <th>funny</th>\n",
       "      <th>stars</th>\n",
       "      <th>text</th>\n",
       "      <th>useful</th>\n",
       "    </tr>\n",
       "  </thead>\n",
       "  <tbody>\n",
       "    <tr>\n",
       "      <th>0</th>\n",
       "      <td>9</td>\n",
       "      <td>6</td>\n",
       "      <td>5.0</td>\n",
       "      <td>If you are looking for the best pierogies in Pittsburgh, this is your place. There are a few small tables outside but most of the business is carry out. Pierogies Plus wins Best Pierogies every year. Why? Because the owner is from Poland and she is making the real deal pierogies. The best part is that they are hand pinched by a group of older Polish and Hungarian women. \\nThe biggest seller is potato and cheese but they sell many flavors. They are like plump pillows of softness. You can buy them buy the dozen. You can get them cold to take home and freeze or warm and ready to eat. The warm ones are served with butter and onions.  It's definitely a comfort food. The best part is that they ship internationally. Yes, they are that good.</td>\n",
       "      <td>9</td>\n",
       "    </tr>\n",
       "    <tr>\n",
       "      <th>1</th>\n",
       "      <td>6</td>\n",
       "      <td>5</td>\n",
       "      <td>4.0</td>\n",
       "      <td>So good! They didn't make it to 5 stars due to the prices are a bit high for the amount of food and the location is a bit unsavory. \\nThe decor and atmosphere was surprisingly nice, from the outside I expected to be more run down inside. The staff was very nice. We were surprised how empty the dining room was for a Friday evening.\\nWe got Vegetable Samosas to start then ordered Chicken Tikka Masala, Lamb Rogan Josh, rice and plain Naan. Our only complaint was the lamb could've been more tender but everything was flavorful and delicious. \\nI would definitely go again if given the chance.</td>\n",
       "      <td>7</td>\n",
       "    </tr>\n",
       "    <tr>\n",
       "      <th>2</th>\n",
       "      <td>11</td>\n",
       "      <td>8</td>\n",
       "      <td>5.0</td>\n",
       "      <td>Yes... the Boba Tea explosion is in full force. I have been to Lee Lee International Supermarket in Chandler many times, but I never noticed this little gem next to it until a couple years ago. Boba Tea House has serving up some of the best boba tea in the Valley long before it became a big thing. They have a fantastic array of flavors and drink choices to choose like fruit slushes, snow, milk tea, pudding, mango jelly, coffee jelly, etc. They even have snacks like popcorn chicken, fried tofu, and fries. The staff is super friendly and the prices are reasonable. I still laugh at my friends who have no idea what Boba Tea is or are too afraid to suck up one of those chewy ball things. LOL. In case you didn't know, Boba Tea is a flavored tea (usually with milk) to which chewy tapioca balls or fruit jellies are added. I think they are super delicious. Today I got the Blueberry Milk Boba Tea and it made for the perfect snack in the middle of my day. Another favorite of my mine is the honeydew milk tea.</td>\n",
       "      <td>11</td>\n",
       "    </tr>\n",
       "    <tr>\n",
       "      <th>3</th>\n",
       "      <td>9</td>\n",
       "      <td>6</td>\n",
       "      <td>5.0</td>\n",
       "      <td>I so disagree with a couple of the reviews I read. Dr Miller is one of the best doctors I've ever seen and I've seen and worked with many as a medical professional. She is very detailed and shows concern regarding all aspects of my health. I have referred several people to her.   Highly recommended!!!</td>\n",
       "      <td>11</td>\n",
       "    </tr>\n",
       "    <tr>\n",
       "      <th>4</th>\n",
       "      <td>6</td>\n",
       "      <td>5</td>\n",
       "      <td>5.0</td>\n",
       "      <td>I'm a fan of BMW.  My X3 lasted me 10 years and although there were a few hiccups, I can still say that car was pretty darn reliable and I got my money's worth. But sometimes, you just have to let go and find a replacement.\\n\\nI did my research and considered getting a Mini, Fiat or a Lexus. My loyalty is with BMW. I locked in on a particular car and off to the dealer I went. We were walking around the lot looking at other models and colors when a car salesman saw us and helped me get my car. My sister kept throwing her ideas and opinions as to what car I should get. I told David (sales advisor) what features I need and we ended up with the first car I was looking at.\\n\\nThen, the dreaded test driving the car. I'm not a big fan of driving a car that isn't mine...or driving, period! I think convincing me to test drive took the most time and David told me to just drive around the lot but that was a trick! There was a part of the lot that's blocked off by a semi and the only way around it is to get on the road. My sister was a backseat driver as if I needed to be more anxious but David kept me calm. He's so funny. We made it back to the dealership in one piece.\\n\\nI signed my papers and wrote my check but it was gym time so, we told David we'd come back for the car after the gym since they still had to detail it anyway. It was the most entertaining car-buying experience ever. We were all laughing and chatting about cars, the gym, nutrition, Hello Kitty, Yoda, etc. David explained and showed me what my car can do and at the end he said, \"I wish all my clients are as fun as you.\"\\n\\nI get follow-up phone calls and e-mails and if I have any questions about my car, David responds quickly.  If you ever need/want a car, contact David Politzer - he is fantastic and he has a nice profile picture on his business card too.</td>\n",
       "      <td>6</td>\n",
       "    </tr>\n",
       "  </tbody>\n",
       "</table>\n",
       "</div>"
      ],
      "text/plain": [
       "   cool  funny  stars  \\\n",
       "0     9      6    5.0   \n",
       "1     6      5    4.0   \n",
       "2    11      8    5.0   \n",
       "3     9      6    5.0   \n",
       "4     6      5    5.0   \n",
       "\n",
       "                                                                                                                                                                                                                                                                                                                                                                                                                                                                                                                                                                                                                                                                                                                                                                                                                                                                                                                                                                                                                                                                                                                                                                                                                                                                                                                                                                                                                                                                                                                                                                                                                                                                                                                                                                                                                                                                                                                text  \\\n",
       "0                                                                                                                                                                                                                                                                                                                                                                                                                                                                                                                                                                                                                                                                                                                                                                                                                                                                                                                                                                                                                                                                                                                                            If you are looking for the best pierogies in Pittsburgh, this is your place. There are a few small tables outside but most of the business is carry out. Pierogies Plus wins Best Pierogies every year. Why? Because the owner is from Poland and she is making the real deal pierogies. The best part is that they are hand pinched by a group of older Polish and Hungarian women. \\nThe biggest seller is potato and cheese but they sell many flavors. They are like plump pillows of softness. You can buy them buy the dozen. You can get them cold to take home and freeze or warm and ready to eat. The warm ones are served with butter and onions.  It's definitely a comfort food. The best part is that they ship internationally. Yes, they are that good.   \n",
       "1                                                                                                                                                                                                                                                                                                                                                                                                                                                                                                                                                                                                                                                                                                                                                                                                                                                                                                                                                                                                                                                                                                                                                                                                                                                                                                  So good! They didn't make it to 5 stars due to the prices are a bit high for the amount of food and the location is a bit unsavory. \\nThe decor and atmosphere was surprisingly nice, from the outside I expected to be more run down inside. The staff was very nice. We were surprised how empty the dining room was for a Friday evening.\\nWe got Vegetable Samosas to start then ordered Chicken Tikka Masala, Lamb Rogan Josh, rice and plain Naan. Our only complaint was the lamb could've been more tender but everything was flavorful and delicious. \\nI would definitely go again if given the chance.   \n",
       "2                                                                                                                                                                                                                                                                                                                                                                                                                                                                                                                                                                                                                                                                                                                                                                                                                                                               Yes... the Boba Tea explosion is in full force. I have been to Lee Lee International Supermarket in Chandler many times, but I never noticed this little gem next to it until a couple years ago. Boba Tea House has serving up some of the best boba tea in the Valley long before it became a big thing. They have a fantastic array of flavors and drink choices to choose like fruit slushes, snow, milk tea, pudding, mango jelly, coffee jelly, etc. They even have snacks like popcorn chicken, fried tofu, and fries. The staff is super friendly and the prices are reasonable. I still laugh at my friends who have no idea what Boba Tea is or are too afraid to suck up one of those chewy ball things. LOL. In case you didn't know, Boba Tea is a flavored tea (usually with milk) to which chewy tapioca balls or fruit jellies are added. I think they are super delicious. Today I got the Blueberry Milk Boba Tea and it made for the perfect snack in the middle of my day. Another favorite of my mine is the honeydew milk tea.   \n",
       "3                                                                                                                                                                                                                                                                                                                                                                                                                                                                                                                                                                                                                                                                                                                                                                                                                                                                                                                                                                                                                                                                                                                                                                                                                                                                                                                                                                                                                                                                                                                                                                                                     I so disagree with a couple of the reviews I read. Dr Miller is one of the best doctors I've ever seen and I've seen and worked with many as a medical professional. She is very detailed and shows concern regarding all aspects of my health. I have referred several people to her.   Highly recommended!!!   \n",
       "4  I'm a fan of BMW.  My X3 lasted me 10 years and although there were a few hiccups, I can still say that car was pretty darn reliable and I got my money's worth. But sometimes, you just have to let go and find a replacement.\\n\\nI did my research and considered getting a Mini, Fiat or a Lexus. My loyalty is with BMW. I locked in on a particular car and off to the dealer I went. We were walking around the lot looking at other models and colors when a car salesman saw us and helped me get my car. My sister kept throwing her ideas and opinions as to what car I should get. I told David (sales advisor) what features I need and we ended up with the first car I was looking at.\\n\\nThen, the dreaded test driving the car. I'm not a big fan of driving a car that isn't mine...or driving, period! I think convincing me to test drive took the most time and David told me to just drive around the lot but that was a trick! There was a part of the lot that's blocked off by a semi and the only way around it is to get on the road. My sister was a backseat driver as if I needed to be more anxious but David kept me calm. He's so funny. We made it back to the dealership in one piece.\\n\\nI signed my papers and wrote my check but it was gym time so, we told David we'd come back for the car after the gym since they still had to detail it anyway. It was the most entertaining car-buying experience ever. We were all laughing and chatting about cars, the gym, nutrition, Hello Kitty, Yoda, etc. David explained and showed me what my car can do and at the end he said, \"I wish all my clients are as fun as you.\"\\n\\nI get follow-up phone calls and e-mails and if I have any questions about my car, David responds quickly.  If you ever need/want a car, contact David Politzer - he is fantastic and he has a nice profile picture on his business card too.   \n",
       "\n",
       "   useful  \n",
       "0       9  \n",
       "1       7  \n",
       "2      11  \n",
       "3      11  \n",
       "4       6  "
      ]
     },
     "execution_count": 7,
     "metadata": {},
     "output_type": "execute_result"
    }
   ],
   "source": [
    "df2.head()"
   ]
  },
  {
   "cell_type": "code",
   "execution_count": 19,
   "metadata": {},
   "outputs": [
    {
     "data": {
      "text/plain": [
       "Cool                                                                                                                                                                                                                                                                                                                                                                                                                                                                                                                                                                                                                                                                150\n",
       "Funny                                                                                                                                                                                                                                                                                                                                                                                                                                                                                                                                                                                                                                                               373\n",
       "Rating                                                                                                                                                                                                                                                                                                                                                                                                                                                                                                                                                                                                                                                  5.0 star rating\n",
       "Text      you're okay. i like you.i don't love you, but like i mentioned... i like you.you don't have everything i want- but you sure have colorful post-its and pentel pens. i can walk right across the street to you from my home base.your copy/digital printing kiosk sucks donkey-b*lls; you never have staples in the stapler... but isn't that a quandary in itself? staples's staplers with no staples? (say that 10x's!) the copies are never done on time- i always have to wait an extra hour for important documents. grrrr. the customer service is horrible. i can point out where the notebook/folder section is better than the associates there. boo.\n",
       "Useful                                                                                                                                                                                                                                                                                                                                                                                                                                                                                                                                                                                                                                                              148\n",
       "dtype: object"
      ]
     },
     "execution_count": 19,
     "metadata": {},
     "output_type": "execute_result"
    }
   ],
   "source": [
    "df.max()"
   ]
  },
  {
   "cell_type": "code",
   "execution_count": 8,
   "metadata": {},
   "outputs": [
    {
     "data": {
      "text/plain": [
       "cool                                                                                                                                                                                                                                                                                                                                                                                                                                                                                                                                                                                                                                                                                                                                                                                                                                                                                                                                                                                                                                      506\n",
       "funny                                                                                                                                                                                                                                                                                                                                                                                                                                                                                                                                                                                                                                                                                                                                                                                                                                                                                                                                                                                                                                    1290\n",
       "stars                                                                                                                                                                                                                                                                                                                                                                                                                                                                                                                                                                                                                                                                                                                                                                                                                                                                                                                                                                                                                                       5\n",
       "text      非常好! This place is the real deal! Having just moved back to the Charlotte area from a city in the cold parts of the Dongbei region of Northeastern China I am stoked to have a Huo Guo place here in Charlotte! \\n\\nThis place markets itself as an asian fondue place, but I would say for those of you who are unfamiliar with hot pot it is more like a Korean BBQ set up with a boiling soup/broth as the cooking method instead of a grill. The selection of food was amazing as well with lots of tofu options, lotus root, spinach, various meats, seafood, etc. This place is perfect for big groups or for families with picky eaters! \\n\\nI will definitely be back when it gets a bit colder here in the region. Only thing that might be improved is the viscosity of the sesame paste dipping sauce, it was a bit too water for my tastes. Oh and I expected the noodles to not be pre-cooked as they became overcooked after being put in the broth. Over all though definitely a new favorite in the Charlotte area!\n",
       "useful                                                                                                                                                                                                                                                                                                                                                                                                                                                                                                                                                                                                                                                                                                                                                                                                                                                                                                                                                                                                                                   1241\n",
       "dtype: object"
      ]
     },
     "execution_count": 8,
     "metadata": {},
     "output_type": "execute_result"
    }
   ],
   "source": [
    "df2.max()"
   ]
  },
  {
   "cell_type": "markdown",
   "metadata": {},
   "source": [
    "# Scraped Reviews"
   ]
  },
  {
   "cell_type": "markdown",
   "metadata": {},
   "source": [
    "# The coolest and funniest review"
   ]
  },
  {
   "cell_type": "code",
   "execution_count": 20,
   "metadata": {},
   "outputs": [
    {
     "data": {
      "text/html": [
       "<div>\n",
       "<style scoped>\n",
       "    .dataframe tbody tr th:only-of-type {\n",
       "        vertical-align: middle;\n",
       "    }\n",
       "\n",
       "    .dataframe tbody tr th {\n",
       "        vertical-align: top;\n",
       "    }\n",
       "\n",
       "    .dataframe thead th {\n",
       "        text-align: right;\n",
       "    }\n",
       "</style>\n",
       "<table border=\"1\" class=\"dataframe\">\n",
       "  <thead>\n",
       "    <tr style=\"text-align: right;\">\n",
       "      <th></th>\n",
       "      <th>Cool</th>\n",
       "      <th>Funny</th>\n",
       "      <th>Rating</th>\n",
       "      <th>Text</th>\n",
       "      <th>Useful</th>\n",
       "    </tr>\n",
       "  </thead>\n",
       "  <tbody>\n",
       "    <tr>\n",
       "      <th>3608</th>\n",
       "      <td>150.0</td>\n",
       "      <td>373.0</td>\n",
       "      <td>5.0 star rating</td>\n",
       "      <td>Sunday Morning Schedule.10:00: Sneak out of bed without waking her up.10:03: Dress quietly, tiptoe out the door.10:06: Give the Clinton St. Baking Company hostess your name. 10:07: Receive wait time of 1:30.10:10: Undress; sneak back into bed.10:17: Try to do dirty things to her.10:18: Get rejected. Repeatedly.10:38: Weep silently at your obvious inadequacies.10:40: Suppress self-loathing; doze lightly.11:15: Wake her gently; brunch time.11:20: Get dressed again.11:23: Smile inwardly at her protests that the wait will be too long at CSBC.11:30: Arrive at CSBC.11:37*: Sit down at your table.11:38: Bask in her surprise and delight at the short wait.11:49: Eat the BEST BRUNCH OF YOUR LIFE. (Pancakes, sugar-cured bacon, Spanish Scramble etc...it's all delicious)12:38: Return to bed, stuffed. 12:45: Try to do dirty things to her.12:46: Mask your shock that she lets you (she REALLY loved her pancakes).12:48: Apologize.12:49: Weep silently at your obvious inadequacies. __________*The hostess is uncannily accurate in her estimates.</td>\n",
       "      <td>134.0</td>\n",
       "    </tr>\n",
       "  </tbody>\n",
       "</table>\n",
       "</div>"
      ],
      "text/plain": [
       "       Cool  Funny           Rating  \\\n",
       "3608  150.0  373.0  5.0 star rating   \n",
       "\n",
       "                                                                                                                                                                                                                                                                                                                                                                                                                                                                                                                                                                                                                                                                                                                                                                                                                                                                                                                                                                                                                                                                                 Text  \\\n",
       "3608  Sunday Morning Schedule.10:00: Sneak out of bed without waking her up.10:03: Dress quietly, tiptoe out the door.10:06: Give the Clinton St. Baking Company hostess your name. 10:07: Receive wait time of 1:30.10:10: Undress; sneak back into bed.10:17: Try to do dirty things to her.10:18: Get rejected. Repeatedly.10:38: Weep silently at your obvious inadequacies.10:40: Suppress self-loathing; doze lightly.11:15: Wake her gently; brunch time.11:20: Get dressed again.11:23: Smile inwardly at her protests that the wait will be too long at CSBC.11:30: Arrive at CSBC.11:37*: Sit down at your table.11:38: Bask in her surprise and delight at the short wait.11:49: Eat the BEST BRUNCH OF YOUR LIFE. (Pancakes, sugar-cured bacon, Spanish Scramble etc...it's all delicious)12:38: Return to bed, stuffed. 12:45: Try to do dirty things to her.12:46: Mask your shock that she lets you (she REALLY loved her pancakes).12:48: Apologize.12:49: Weep silently at your obvious inadequacies. __________*The hostess is uncannily accurate in her estimates.   \n",
       "\n",
       "      Useful  \n",
       "3608   134.0  "
      ]
     },
     "execution_count": 20,
     "metadata": {},
     "output_type": "execute_result"
    }
   ],
   "source": [
    "df[df['Cool'] == 150]"
   ]
  },
  {
   "cell_type": "markdown",
   "metadata": {},
   "source": [
    "# The most useful review"
   ]
  },
  {
   "cell_type": "code",
   "execution_count": 21,
   "metadata": {},
   "outputs": [
    {
     "data": {
      "text/html": [
       "<div>\n",
       "<style scoped>\n",
       "    .dataframe tbody tr th:only-of-type {\n",
       "        vertical-align: middle;\n",
       "    }\n",
       "\n",
       "    .dataframe tbody tr th {\n",
       "        vertical-align: top;\n",
       "    }\n",
       "\n",
       "    .dataframe thead th {\n",
       "        text-align: right;\n",
       "    }\n",
       "</style>\n",
       "<table border=\"1\" class=\"dataframe\">\n",
       "  <thead>\n",
       "    <tr style=\"text-align: right;\">\n",
       "      <th></th>\n",
       "      <th>Cool</th>\n",
       "      <th>Funny</th>\n",
       "      <th>Rating</th>\n",
       "      <th>Text</th>\n",
       "      <th>Useful</th>\n",
       "    </tr>\n",
       "  </thead>\n",
       "  <tbody>\n",
       "    <tr>\n",
       "      <th>659</th>\n",
       "      <td>115.0</td>\n",
       "      <td>129.0</td>\n",
       "      <td>5.0 star rating</td>\n",
       "      <td>Excited for Wowfulls' first brick and mortar! Perhaps most experienced in tenure in churning out waffles day after day at events, Smorg. This iteration seals the deal. On offer are coconut, chocolate, and coffee waffles with their usual selection of ice cream to keep the lines moving smoothly.I picked the a home Sweet Home. Taste is as good as I've remembered it at Smorg waiting in the lines, however they've tweaked, perhaps even perfected the taste of their regular waffle. Crisp, puffy, and only mildly sweet, allowing for the toppings and ice cream to do the rest of the work as sweeteners.An amazing experience even if I have to wait for them to churn out waffles 4-5mins at a time each. The staff is really upbeat and I remember them all from Smorg.The decor is really sleek. Honeycomb shaped woodword adorn one wall, and a whole hearts art wall adorn the other. A very fun place to be. Of course the only tip I have to leave for you is to go early during there grand opening mode.</td>\n",
       "      <td>148.0</td>\n",
       "    </tr>\n",
       "  </tbody>\n",
       "</table>\n",
       "</div>"
      ],
      "text/plain": [
       "      Cool  Funny           Rating  \\\n",
       "659  115.0  129.0  5.0 star rating   \n",
       "\n",
       "                                                                                                                                                                                                                                                                                                                                                                                                                                                                                                                                                                                                                                                                                                                                                                                                                                                                                                                                                                                                                               Text  \\\n",
       "659  Excited for Wowfulls' first brick and mortar! Perhaps most experienced in tenure in churning out waffles day after day at events, Smorg. This iteration seals the deal. On offer are coconut, chocolate, and coffee waffles with their usual selection of ice cream to keep the lines moving smoothly.I picked the a home Sweet Home. Taste is as good as I've remembered it at Smorg waiting in the lines, however they've tweaked, perhaps even perfected the taste of their regular waffle. Crisp, puffy, and only mildly sweet, allowing for the toppings and ice cream to do the rest of the work as sweeteners.An amazing experience even if I have to wait for them to churn out waffles 4-5mins at a time each. The staff is really upbeat and I remember them all from Smorg.The decor is really sleek. Honeycomb shaped woodword adorn one wall, and a whole hearts art wall adorn the other. A very fun place to be. Of course the only tip I have to leave for you is to go early during there grand opening mode.   \n",
       "\n",
       "     Useful  \n",
       "659   148.0  "
      ]
     },
     "execution_count": 21,
     "metadata": {},
     "output_type": "execute_result"
    }
   ],
   "source": [
    "df[df['Useful'] == 148]"
   ]
  },
  {
   "cell_type": "markdown",
   "metadata": {},
   "source": [
    "# Yelp Dataset Reviews\n",
    "\n",
    "### Unfortunately, all of these top reviews are about the same restaurant which was featured on Gordon Ramsey's show, so I will not be using these in my EDA for readme."
   ]
  },
  {
   "cell_type": "markdown",
   "metadata": {},
   "source": [
    "# The coolest review"
   ]
  },
  {
   "cell_type": "code",
   "execution_count": 10,
   "metadata": {},
   "outputs": [
    {
     "data": {
      "text/html": [
       "<div>\n",
       "<style scoped>\n",
       "    .dataframe tbody tr th:only-of-type {\n",
       "        vertical-align: middle;\n",
       "    }\n",
       "\n",
       "    .dataframe tbody tr th {\n",
       "        vertical-align: top;\n",
       "    }\n",
       "\n",
       "    .dataframe thead th {\n",
       "        text-align: right;\n",
       "    }\n",
       "</style>\n",
       "<table border=\"1\" class=\"dataframe\">\n",
       "  <thead>\n",
       "    <tr style=\"text-align: right;\">\n",
       "      <th></th>\n",
       "      <th>cool</th>\n",
       "      <th>funny</th>\n",
       "      <th>stars</th>\n",
       "      <th>text</th>\n",
       "      <th>useful</th>\n",
       "    </tr>\n",
       "  </thead>\n",
       "  <tbody>\n",
       "    <tr>\n",
       "      <th>15729</th>\n",
       "      <td>506</td>\n",
       "      <td>628</td>\n",
       "      <td>1.0</td>\n",
       "      <td>In retrospect, I should have known better than to step foot into Amy's Baking Company (a.k.a. ABC Bistro).  \\n\\n-8 pm on a Saturday night, three tables are occupied\\n-a sign on the door indicates they're looking for an experienced line cook, a dishwasher, waitresses, you name it\\n-Pita Jungle, just a stone's throw away, is packed to the gills\\n\\nThese are all bad signs.  They go ignored, however, because I'd eaten one thing all day, and I had drove here to try their pizza.  Never, ever again.\\n\\nThe waitress brings me out a water and a menu to my table for one  on the patio, which I had all to myself.  Browsing the apps, I was pleasantly surprised to see several things priced $3, which seemed like a bargain, given the high price of everything else.  $3 tapanade sounded like a good deal, but I was informed that it didn't come with anything - it was $3 extra for bread.  Since I was solo, I decided to skip it and instead pay $14 for their 12\" margherita pizza.  \\n\\nAbout three minutes later, the waitress drops off my pizza.  \"Your pizza\", she says, leaves a plate and off she goes.  I sat for a moment, confused as to how things happened so quickly.  I try to grab a slice of the pizza, but it was so blazing hot that I wasn't even going to attempt to handle it.  I waited for a few minutes to let it cool off, only to discover that not only had it cooled enough to handle, but was actually well-cooled and most likely reheated.  After a closer inspection of the pie in front of me, it was evident that it had been reheated, as there were smaller tomatoes that had spent their time in the oven, and larger tomatoes that had barely been kissed by the heat of the oven.\\n\\nI took a bite, and was immediately underwhelmed.  The crust had very little character, was slightly sweet but had that store-bought quality to it.  The pesto tasted okay, but the tomatoes were completely tasteless and overall, it just fell flat.  It's margherita - the ingredients need to shine to make such a simple pizza.  These ingredients were sub-par.  After two small pieces, I decided I was wasting my calories and just gave up on it.\\n\\nSo I sat outside, not eating, and sat.  And sat.  Where the hell was the waitress?  I glanced inside a few times, hoping to catch her eye, but she must have been occupied elsewhere.  \\n\\nThe owner comes out.  \"How'd you like your pizza?\"  Instead of immediately responding, I asked how it had come out so quickly.  In short, he told me another table had ordered it, decided they didn't want it, and it sat in the kitchen for two minutes, who in turn decided to send it out to me since I didn't order anything else.  \\n\\nMe: \"Well, it didn't really taste fresh\".\\nHim: \"No, no, our pizzas are the best.  Ask our customers.  You're the first person since we've opened to ever not like our pizzas\".  \\n\\nHe got very defensive about the pizza, but I hadn't really launched a harsh criticism on the pizza, just said I didn't really enjoy it.  So I sat some more, with an empty drink, and realized they wanted me gone.  The owner wouldn't make eye contact with me.  The server never came back out asking if I wanted something else.  And they still hadn't refilled my drink.\\n\\nSo I sat on a patio, alone, and decided to have a smoke.  The waitress comes out...\\n\\nHer: \"Sir, there's a no smoking sign over there, I was told to tell you to not to smoke here.\"  \\nMe: \"Is this the last f*** you in this experience?\"\\nHer: \"Yes, I think so\".\\n\\nShe walks away.  I walk inside, pay the bill, and leave.  No apologies, no discounts on the bill, nothing.  $18 for weak iced tea and shitty pizza.\\n\\nThis is arrogance in its worst form.  I can forgive bad food, but I cannot forgive misplaced arrogance and the blatant dismissal of a customer, whether you agree with them or not.  \\n\\nPerhaps the sign on the door should also say, \"Wanted: New owner\".  \\n\\nI cannot, for the life of me, recommend this restaurant to anyone.\\n\\n---\\nUPDATE:\\nSince Yelp's 5000 character limit will not let me post the full response by the owner (Amy B.), here is a link to the comments:\\nhttp://blogs.phoenixnewtimes.com/bella/2010/08/ouch_todays_hard_lesson_on_yel.php</td>\n",
       "      <td>1122</td>\n",
       "    </tr>\n",
       "  </tbody>\n",
       "</table>\n",
       "</div>"
      ],
      "text/plain": [
       "       cool  funny  stars  \\\n",
       "15729   506    628    1.0   \n",
       "\n",
       "                                                                                                                                                                                                                                                                                                                                                                                                                                                                                                                                                                                                                                                                                                                                                                                                                                                                                                                                                                                                                                                                                                                                                                                                                                                                                                                                                                                                                                                                                                                                                                                                                                                                                                                                                                                                                                                                                                                                                                                                                                                                                                                                                                                                                                                                                                                                                                                                                                                                                                                                                                                                                                                                                                                                                                                                                                                                                                                                                                                                                                                                                                                                                                                                                                                                                                                                                                                                                                                                                                                                                                                                                                                                                                                                                                                                                                                                                                                                                                                                                                                                                                                                                                                                                                                                                                                                          text  \\\n",
       "15729  In retrospect, I should have known better than to step foot into Amy's Baking Company (a.k.a. ABC Bistro).  \\n\\n-8 pm on a Saturday night, three tables are occupied\\n-a sign on the door indicates they're looking for an experienced line cook, a dishwasher, waitresses, you name it\\n-Pita Jungle, just a stone's throw away, is packed to the gills\\n\\nThese are all bad signs.  They go ignored, however, because I'd eaten one thing all day, and I had drove here to try their pizza.  Never, ever again.\\n\\nThe waitress brings me out a water and a menu to my table for one  on the patio, which I had all to myself.  Browsing the apps, I was pleasantly surprised to see several things priced $3, which seemed like a bargain, given the high price of everything else.  $3 tapanade sounded like a good deal, but I was informed that it didn't come with anything - it was $3 extra for bread.  Since I was solo, I decided to skip it and instead pay $14 for their 12\" margherita pizza.  \\n\\nAbout three minutes later, the waitress drops off my pizza.  \"Your pizza\", she says, leaves a plate and off she goes.  I sat for a moment, confused as to how things happened so quickly.  I try to grab a slice of the pizza, but it was so blazing hot that I wasn't even going to attempt to handle it.  I waited for a few minutes to let it cool off, only to discover that not only had it cooled enough to handle, but was actually well-cooled and most likely reheated.  After a closer inspection of the pie in front of me, it was evident that it had been reheated, as there were smaller tomatoes that had spent their time in the oven, and larger tomatoes that had barely been kissed by the heat of the oven.\\n\\nI took a bite, and was immediately underwhelmed.  The crust had very little character, was slightly sweet but had that store-bought quality to it.  The pesto tasted okay, but the tomatoes were completely tasteless and overall, it just fell flat.  It's margherita - the ingredients need to shine to make such a simple pizza.  These ingredients were sub-par.  After two small pieces, I decided I was wasting my calories and just gave up on it.\\n\\nSo I sat outside, not eating, and sat.  And sat.  Where the hell was the waitress?  I glanced inside a few times, hoping to catch her eye, but she must have been occupied elsewhere.  \\n\\nThe owner comes out.  \"How'd you like your pizza?\"  Instead of immediately responding, I asked how it had come out so quickly.  In short, he told me another table had ordered it, decided they didn't want it, and it sat in the kitchen for two minutes, who in turn decided to send it out to me since I didn't order anything else.  \\n\\nMe: \"Well, it didn't really taste fresh\".\\nHim: \"No, no, our pizzas are the best.  Ask our customers.  You're the first person since we've opened to ever not like our pizzas\".  \\n\\nHe got very defensive about the pizza, but I hadn't really launched a harsh criticism on the pizza, just said I didn't really enjoy it.  So I sat some more, with an empty drink, and realized they wanted me gone.  The owner wouldn't make eye contact with me.  The server never came back out asking if I wanted something else.  And they still hadn't refilled my drink.\\n\\nSo I sat on a patio, alone, and decided to have a smoke.  The waitress comes out...\\n\\nHer: \"Sir, there's a no smoking sign over there, I was told to tell you to not to smoke here.\"  \\nMe: \"Is this the last f*** you in this experience?\"\\nHer: \"Yes, I think so\".\\n\\nShe walks away.  I walk inside, pay the bill, and leave.  No apologies, no discounts on the bill, nothing.  $18 for weak iced tea and shitty pizza.\\n\\nThis is arrogance in its worst form.  I can forgive bad food, but I cannot forgive misplaced arrogance and the blatant dismissal of a customer, whether you agree with them or not.  \\n\\nPerhaps the sign on the door should also say, \"Wanted: New owner\".  \\n\\nI cannot, for the life of me, recommend this restaurant to anyone.\\n\\n---\\nUPDATE:\\nSince Yelp's 5000 character limit will not let me post the full response by the owner (Amy B.), here is a link to the comments:\\nhttp://blogs.phoenixnewtimes.com/bella/2010/08/ouch_todays_hard_lesson_on_yel.php   \n",
       "\n",
       "       useful  \n",
       "15729    1122  "
      ]
     },
     "execution_count": 10,
     "metadata": {},
     "output_type": "execute_result"
    }
   ],
   "source": [
    "df2[df2['cool'] == 506]"
   ]
  },
  {
   "cell_type": "markdown",
   "metadata": {},
   "source": [
    "# The funniest review"
   ]
  },
  {
   "cell_type": "code",
   "execution_count": 11,
   "metadata": {},
   "outputs": [
    {
     "data": {
      "text/html": [
       "<div>\n",
       "<style scoped>\n",
       "    .dataframe tbody tr th:only-of-type {\n",
       "        vertical-align: middle;\n",
       "    }\n",
       "\n",
       "    .dataframe tbody tr th {\n",
       "        vertical-align: top;\n",
       "    }\n",
       "\n",
       "    .dataframe thead th {\n",
       "        text-align: right;\n",
       "    }\n",
       "</style>\n",
       "<table border=\"1\" class=\"dataframe\">\n",
       "  <thead>\n",
       "    <tr style=\"text-align: right;\">\n",
       "      <th></th>\n",
       "      <th>cool</th>\n",
       "      <th>funny</th>\n",
       "      <th>stars</th>\n",
       "      <th>text</th>\n",
       "      <th>useful</th>\n",
       "    </tr>\n",
       "  </thead>\n",
       "  <tbody>\n",
       "    <tr>\n",
       "      <th>16327</th>\n",
       "      <td>24</td>\n",
       "      <td>1290</td>\n",
       "      <td>5.0</td>\n",
       "      <td>Flew to Arizona a few months ago to try this. Disappointed that this place closed after Gordon Ramsay's return. Their food was one of the best food I had in my whole entire life!! Their caesar salad was great, sauce is very good. Their pizza was THE BEST I HAD IN MY WHOLE ENTIRE LIFE. From the garlic crust to the extremely cheesy topping, the pizza was absolutely outstanding. Wish I could come back but its now closed.</td>\n",
       "      <td>39</td>\n",
       "    </tr>\n",
       "  </tbody>\n",
       "</table>\n",
       "</div>"
      ],
      "text/plain": [
       "       cool  funny  stars  \\\n",
       "16327    24   1290    5.0   \n",
       "\n",
       "                                                                                                                                                                                                                                                                                                                                                                                                                                        text  \\\n",
       "16327  Flew to Arizona a few months ago to try this. Disappointed that this place closed after Gordon Ramsay's return. Their food was one of the best food I had in my whole entire life!! Their caesar salad was great, sauce is very good. Their pizza was THE BEST I HAD IN MY WHOLE ENTIRE LIFE. From the garlic crust to the extremely cheesy topping, the pizza was absolutely outstanding. Wish I could come back but its now closed.   \n",
       "\n",
       "       useful  \n",
       "16327      39  "
      ]
     },
     "execution_count": 11,
     "metadata": {},
     "output_type": "execute_result"
    }
   ],
   "source": [
    "df2[df2['funny'] == 1290]"
   ]
  },
  {
   "cell_type": "markdown",
   "metadata": {},
   "source": [
    "# The most useful review"
   ]
  },
  {
   "cell_type": "code",
   "execution_count": 12,
   "metadata": {},
   "outputs": [
    {
     "data": {
      "text/html": [
       "<div>\n",
       "<style scoped>\n",
       "    .dataframe tbody tr th:only-of-type {\n",
       "        vertical-align: middle;\n",
       "    }\n",
       "\n",
       "    .dataframe tbody tr th {\n",
       "        vertical-align: top;\n",
       "    }\n",
       "\n",
       "    .dataframe thead th {\n",
       "        text-align: right;\n",
       "    }\n",
       "</style>\n",
       "<table border=\"1\" class=\"dataframe\">\n",
       "  <thead>\n",
       "    <tr style=\"text-align: right;\">\n",
       "      <th></th>\n",
       "      <th>cool</th>\n",
       "      <th>funny</th>\n",
       "      <th>stars</th>\n",
       "      <th>text</th>\n",
       "      <th>useful</th>\n",
       "    </tr>\n",
       "  </thead>\n",
       "  <tbody>\n",
       "    <tr>\n",
       "      <th>14606</th>\n",
       "      <td>174</td>\n",
       "      <td>277</td>\n",
       "      <td>2.0</td>\n",
       "      <td>Dinner for 1.\\n\\n- Preface\\nI went to Amy's Baking Company with an open mind. After all, reality TV does have a tendency to make things appear more extreme. However, I was nervous. What if Samy smelled a Yelper?  There were many things I was afraid to order. Damn you Kitchen Nightmares. While the menu is filled with gnocchi choices, I deviated since I didn't want to eat non-refrigerated, packaged gnocchi. The burger was out since it looked like a greasy mess. And I didn't like the idea of eating raw dough, so no pizza. They were out of soup that night, which I found mildly annoying. In order to write an objective review, it was important to me to remain a neutral, regular customer, with no unnecessary provoking. \\n\\n- Ambiance (4/5)\\nABC is clean and chic, but quite empty inside. I was 1 of 3 tables. Perhaps it would have been excusable, except the place next door was quite busy.\\n\\n- Service (3/5)\\nSamy did most of the work with the only waitress in the restaurant unmotivated; Samy even had to ask her to refill my water. If Samy took the tip, I wouldn't have faulted him. He was professional all night, bordering friendly dare I say? Service was also fast. I did catch a glimpse of Amy, who had an iPhone earphone on--either listening to music or on the phone in the kitchen.  She seemed quite calm and collected. Every time Samy came to the table with food, he would tell me how delicious it would be. Also, instead of asking how the food was, he would ask \"it's delicious, isn't it?\" So even when I had some serious concerns, I just let it pass. I'm not really a confrontational person. Just come home and Yelp about it!  \\n\\n- Bread (N/A)\\nConsidering the upscale vibe ABC is going for, I was quite surprised not to receive any bread.\\n\\n- Lemon Garlic Hummus, $5 (2/5)\\nThe lemon garlic hummus had good Mediterranean flavor, but I think Amy must have added a \"drizzle\" of oil on top, because it was too oily. Of the bits I was able to taste, it was actually decent, but the oiliness really put me off and deterred me from finishing.\\n\\n- Herbed Flatbread, $5 (5/5)\\nI felt deceived. I ordered the hummus expecting there would be some sort of bread or cracker included. So, when Samy asked casually about the flatbread with the hummus, I assumed it was included. It wasn't. The flat bread comes in a huge portion, about 10 big pieces. Quite good!  Garlicky, toasty on the top, but soft in the middle. I'd certainly come back for the flatbread. Ironically, the one thing I didn't intend to order turned out to be the best.\\n\\n- Pesto Spinach Ravioli, $16 (2/5)\\nGordon Ramsey dissed the ravioli on the show, but he seemed to make more a hubbub about the fact that they were frozen. I highly suspect these were the same frozen raviolis that Gordon got since fresh raviolis have a different texture. These raviolis were also quite flavorless, which is ironic considering the really salty and oily (sensing a theme?) sauce they were drenched in. I was \"foraging\" for raviolis. The spinach was cooked quite nicely, and I do appreciate the fresh tasting prosciutto and mushrooms. The concept was nice. If the sauce was a bit less oily, Amy used a little bit less salt, and we had homemade raviolis, this would've been a passable dish.    \\n\\n- Key Lime Pie, $10 (1/5)\\nABC had been criticized due to revelations that the desserts were store bought and not actually homemade. Who cares? I'm sure this kind of thing happens far more than we know. To my severe disappointment, it was not at all good. It had a bit more of an oily foamy consistency. It was also much more sour than key lime pie should be, and the crust tasted a bit burnt. And what's with the edible glitter! I think this pie is the perfect representation of ABC--glittery on the outside, but once you dip your fork in past the surface, you find some unappetizing elements.  \\n\\n- Value (2/5)\\nConsidering the prices ABC is charging, I expected a fine dining experience. Unfortunately, the food is just not up to par. Even if the key lime pie had tasted good, $10 for a piece of pie? C'mon... it's only $8 at Joe's Stone Crab in Miami!! The portions are large--Samy mentioned that everything they do is large. And while quantity might be important to some, quality is more important to me.  \\n\\n- Final Word\\nI'm disappointed that Samy and Amy did not take Gordon Ramsey's advice. With instruction, Chef Amy could serve good dishes. I would love to see the owners take a chill pill and fix things. If I hadn't seen the way they treated customers on the show, I would have felt sorrier for them.  They looked quite rundown by all the attention. To the reviewers who keep leaving 1 star reviews without having visited the place, stop. Go try it; then let your Yelp review do the talking. The other 2 tables there looked like regulars, and they seemed to like the food. Not sure if they've lost their taste buds, but to each his own. To the owners--swallow your pride and figure it out!  I hope I can come back one day when your food is better.  Good luck.</td>\n",
       "      <td>1241</td>\n",
       "    </tr>\n",
       "  </tbody>\n",
       "</table>\n",
       "</div>"
      ],
      "text/plain": [
       "       cool  funny  stars  \\\n",
       "14606   174    277    2.0   \n",
       "\n",
       "                                                                                                                                                                                                                                                                                                                                                                                                                                                                                                                                                                                                                                                                                                                                                                                                                                                                                                                                                                                                                                                                                                                                                                                                                                                                                                                                                                                                                                                                                                                                                                                                                                                                                                                                                                                                                                                                                                                                                                                                                                                                                                                                                                                                                                                                                                                                                                                                                                                                                                                                                                                                                                                                                                                                                                                                                                                                                                                                                                                                                                                                                                                                                                                                                                                                                                                                                                                                                                                                                                                                                                                                                                                                                                                                                                                                                                                                                                                                                                                                                                                                                                                                                                                                                                                                                                                                                                                                                                                                                                                                                                                                                                                                                                                                                                                                                                                                                                                                                                                                                                                                                                                                                                                                                                         text  \\\n",
       "14606  Dinner for 1.\\n\\n- Preface\\nI went to Amy's Baking Company with an open mind. After all, reality TV does have a tendency to make things appear more extreme. However, I was nervous. What if Samy smelled a Yelper?  There were many things I was afraid to order. Damn you Kitchen Nightmares. While the menu is filled with gnocchi choices, I deviated since I didn't want to eat non-refrigerated, packaged gnocchi. The burger was out since it looked like a greasy mess. And I didn't like the idea of eating raw dough, so no pizza. They were out of soup that night, which I found mildly annoying. In order to write an objective review, it was important to me to remain a neutral, regular customer, with no unnecessary provoking. \\n\\n- Ambiance (4/5)\\nABC is clean and chic, but quite empty inside. I was 1 of 3 tables. Perhaps it would have been excusable, except the place next door was quite busy.\\n\\n- Service (3/5)\\nSamy did most of the work with the only waitress in the restaurant unmotivated; Samy even had to ask her to refill my water. If Samy took the tip, I wouldn't have faulted him. He was professional all night, bordering friendly dare I say? Service was also fast. I did catch a glimpse of Amy, who had an iPhone earphone on--either listening to music or on the phone in the kitchen.  She seemed quite calm and collected. Every time Samy came to the table with food, he would tell me how delicious it would be. Also, instead of asking how the food was, he would ask \"it's delicious, isn't it?\" So even when I had some serious concerns, I just let it pass. I'm not really a confrontational person. Just come home and Yelp about it!  \\n\\n- Bread (N/A)\\nConsidering the upscale vibe ABC is going for, I was quite surprised not to receive any bread.\\n\\n- Lemon Garlic Hummus, $5 (2/5)\\nThe lemon garlic hummus had good Mediterranean flavor, but I think Amy must have added a \"drizzle\" of oil on top, because it was too oily. Of the bits I was able to taste, it was actually decent, but the oiliness really put me off and deterred me from finishing.\\n\\n- Herbed Flatbread, $5 (5/5)\\nI felt deceived. I ordered the hummus expecting there would be some sort of bread or cracker included. So, when Samy asked casually about the flatbread with the hummus, I assumed it was included. It wasn't. The flat bread comes in a huge portion, about 10 big pieces. Quite good!  Garlicky, toasty on the top, but soft in the middle. I'd certainly come back for the flatbread. Ironically, the one thing I didn't intend to order turned out to be the best.\\n\\n- Pesto Spinach Ravioli, $16 (2/5)\\nGordon Ramsey dissed the ravioli on the show, but he seemed to make more a hubbub about the fact that they were frozen. I highly suspect these were the same frozen raviolis that Gordon got since fresh raviolis have a different texture. These raviolis were also quite flavorless, which is ironic considering the really salty and oily (sensing a theme?) sauce they were drenched in. I was \"foraging\" for raviolis. The spinach was cooked quite nicely, and I do appreciate the fresh tasting prosciutto and mushrooms. The concept was nice. If the sauce was a bit less oily, Amy used a little bit less salt, and we had homemade raviolis, this would've been a passable dish.    \\n\\n- Key Lime Pie, $10 (1/5)\\nABC had been criticized due to revelations that the desserts were store bought and not actually homemade. Who cares? I'm sure this kind of thing happens far more than we know. To my severe disappointment, it was not at all good. It had a bit more of an oily foamy consistency. It was also much more sour than key lime pie should be, and the crust tasted a bit burnt. And what's with the edible glitter! I think this pie is the perfect representation of ABC--glittery on the outside, but once you dip your fork in past the surface, you find some unappetizing elements.  \\n\\n- Value (2/5)\\nConsidering the prices ABC is charging, I expected a fine dining experience. Unfortunately, the food is just not up to par. Even if the key lime pie had tasted good, $10 for a piece of pie? C'mon... it's only $8 at Joe's Stone Crab in Miami!! The portions are large--Samy mentioned that everything they do is large. And while quantity might be important to some, quality is more important to me.  \\n\\n- Final Word\\nI'm disappointed that Samy and Amy did not take Gordon Ramsey's advice. With instruction, Chef Amy could serve good dishes. I would love to see the owners take a chill pill and fix things. If I hadn't seen the way they treated customers on the show, I would have felt sorrier for them.  They looked quite rundown by all the attention. To the reviewers who keep leaving 1 star reviews without having visited the place, stop. Go try it; then let your Yelp review do the talking. The other 2 tables there looked like regulars, and they seemed to like the food. Not sure if they've lost their taste buds, but to each his own. To the owners--swallow your pride and figure it out!  I hope I can come back one day when your food is better.  Good luck.   \n",
       "\n",
       "       useful  \n",
       "14606    1241  "
      ]
     },
     "execution_count": 12,
     "metadata": {},
     "output_type": "execute_result"
    }
   ],
   "source": [
    "df2[df2['useful'] == 1241]"
   ]
  },
  {
   "cell_type": "markdown",
   "metadata": {},
   "source": [
    "# Rating Distribution"
   ]
  },
  {
   "cell_type": "code",
   "execution_count": 21,
   "metadata": {},
   "outputs": [
    {
     "data": {
      "text/plain": [
       "<matplotlib.axes._subplots.AxesSubplot at 0x11a28f048>"
      ]
     },
     "execution_count": 21,
     "metadata": {},
     "output_type": "execute_result"
    },
    {
     "data": {
      "image/png": "[encoded data removed]",
      "text/plain": [
       "<Figure size 432x288 with 1 Axes>"
      ]
     },
     "metadata": {
      "needs_background": "light"
     },
     "output_type": "display_data"
    }
   ],
   "source": [
    "#Scraped Reviews\n",
    "df.groupby('Rating').count()['Cool'].plot(kind='bar')"
   ]
  },
  {
   "cell_type": "code",
   "execution_count": 16,
   "metadata": {},
   "outputs": [
    {
     "data": {
      "text/plain": [
       "<matplotlib.axes._subplots.AxesSubplot at 0x11a186470>"
      ]
     },
     "execution_count": 16,
     "metadata": {},
     "output_type": "execute_result"
    },
    {
     "data": {
      "image/png": "[encoded data removed]",
      "text/plain": [
       "<Figure size 432x288 with 1 Axes>"
      ]
     },
     "metadata": {
      "needs_background": "light"
     },
     "output_type": "display_data"
    }
   ],
   "source": [
    "#Yelp Dataset\n",
    "df2.groupby('stars').count()['cool'].plot(kind='bar')"
   ]
  }
 ],
 "metadata": {
  "kernelspec": {
   "display_name": "Python 3",
   "language": "python",
   "name": "python3"
  },
  "language_info": {
   "codemirror_mode": {
    "name": "ipython",
    "version": 3
   },
   "file_extension": ".py",
   "mimetype": "text/x-python",
   "name": "python",
   "nbconvert_exporter": "python",
   "pygments_lexer": "ipython3",
   "version": "3.7.1"
  }
 },
 "nbformat": 4,
 "nbformat_minor": 2
}
