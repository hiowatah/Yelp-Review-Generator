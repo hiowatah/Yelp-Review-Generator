{
 "cells": [
  {
   "cell_type": "code",
   "execution_count": 1,
   "metadata": {},
   "outputs": [],
   "source": [
    "import random"
   ]
  },
  {
   "cell_type": "code",
   "execution_count": 2,
   "metadata": {},
   "outputs": [],
   "source": [
    "reviews = open('Three_Star.txt', 'r').read()"
   ]
  },
  {
   "cell_type": "code",
   "execution_count": 3,
   "metadata": {},
   "outputs": [],
   "source": [
    "reviews = ''.join([i for i in reviews if not i.isdigit()]).replace(\"\\n\", \" \").split(' ')"
   ]
  },
  {
   "cell_type": "code",
   "execution_count": 4,
   "metadata": {},
   "outputs": [],
   "source": [
    "index = 1\n",
    "chain = {}\n",
    "count = 100 # will be changed to be user input"
   ]
  },
  {
   "cell_type": "code",
   "execution_count": 5,
   "metadata": {},
   "outputs": [],
   "source": [
    "for word in reviews[index:]:\n",
    "    key = reviews[index-1]\n",
    "    if key in chain:\n",
    "        chain[key].append(word)\n",
    "    else:\n",
    "        chain[key] = [word]\n",
    "    \n",
    "    index += 1"
   ]
  },
  {
   "cell_type": "code",
   "execution_count": 12,
   "metadata": {},
   "outputs": [
    {
     "name": "stdout",
     "output_type": "stream",
     "text": [
      "Seine, ohlala has been craving for a pretty douchie. this is this place and specialty cakes, and bar (of course), and the atomic liquors served alcohol, they want to order took mine medium marbling. i thought they did. it's in rose theatre style cafe i was good yelper carrie got the arrogant servers. we needed to the arugula salad, and he liked this and a nice view going to write home depot or  kakuni udon, beef, bbq chicken thigh, pork belly reserved for their banality of a bucket list of slime, that today we decide to ask about over-the-top\n"
     ]
    }
   ],
   "source": [
    "word1 = random.choice(list(chain.keys()))\n",
    "message = word1.capitalize()\n",
    "\n",
    "while len(message.split(' ')) < count:\n",
    "    word2 = random.choice(chain[word1])\n",
    "    #to generate a random word above based on the output.\n",
    "    word1 = word2\n",
    "    message += ' ' + word2\n",
    "    \n",
    "print(message)"
   ]
  },
  {
   "cell_type": "code",
   "execution_count": null,
   "metadata": {},
   "outputs": [],
   "source": []
  },
  {
   "cell_type": "code",
   "execution_count": null,
   "metadata": {},
   "outputs": [],
   "source": []
  },
  {
   "cell_type": "code",
   "execution_count": 13,
   "metadata": {},
   "outputs": [],
   "source": [
    "def ask_user():\n",
    "    answer = False\n",
    "    while answer == False:\n",
    "        rating = input(\"What rating do you want to generate a review for? \\nPlease enter 'One', 'Two', 'Three', 'Four', 'Five'\")\n",
    "        rating = rating.title()\n",
    "        if rating == 'One':\n",
    "            text = 'One_Star.txt'\n",
    "            answer = True\n",
    "        if rating == 'Two':\n",
    "            text = 'Two_Star.txt'\n",
    "            answer = True\n",
    "        if rating == 'Three':\n",
    "            text = 'Three_Star.txt'\n",
    "            answer = True\n",
    "        if rating == 'Four':\n",
    "            text = 'Four_Star.txt'\n",
    "            answer = True\n",
    "        if rating == 'Five':\n",
    "            text = 'Five_Star.txt'\n",
    "            answer = True            \n",
    "    return text\n",
    "    "
   ]
  },
  {
   "cell_type": "code",
   "execution_count": 32,
   "metadata": {},
   "outputs": [],
   "source": [
    "def review_generator():\n",
    "    text = ask_user()\n",
    "    reviews = open(text, 'r').read()\n",
    "    reviews = ''.join([i for i in reviews if not i.isdigit()]).replace(\"\\n\", \" \").split(' ')\n",
    "    \n",
    "    index = 1\n",
    "    chain = {}\n",
    "    count = int(input('How many words would you like your review to be?'))\n",
    "    \n",
    "    for word in reviews[index:]:\n",
    "        key = reviews[index-1]\n",
    "        if key in chain:\n",
    "            chain[key].append(word)\n",
    "        else:\n",
    "            chain[key] = [word]\n",
    "        index += 1\n",
    "    \n",
    "    word1 = random.choice(list(chain.keys()))\n",
    "    message = word1.capitalize()\n",
    "\n",
    "    while len(message.split(' ')) < count:\n",
    "        word2 = random.choice(chain[word1])\n",
    "        word1 = word2\n",
    "        message += ' ' + word2\n",
    "    return message"
   ]
  },
  {
   "cell_type": "code",
   "execution_count": 33,
   "metadata": {},
   "outputs": [
    {
     "name": "stdout",
     "output_type": "stream",
     "text": [
      "What rating do you want to generate a review for? \n",
      "Please enter 'One', 'Two', 'Three', 'Four', 'Five'five\n",
      "How many words would you like your review to be?300\n"
     ]
    },
    {
     "data": {
      "text/plain": [
       "\"Inferring this is a go-to spot to have been examining and delicious. i would be disappointed bigtime. they should hire me of music bars, and wound everything was pure heaven. need to a fine self diagnosed the light main course of that i'm lucky enough for it. it's really horribly awry with fabulous restaurant!!! i thought it was a gorgeous sunny saturday evening was very impressed. we spent more lobster roll?fatty: *speechless... eyes at the outer crust was small eclectic fantasy island to get busy hours, use the hand was offered to order enough to meet wikipedia articles, so much (lesson learned that: ) waiter's description it for counting down to come hungry. i glad you really well as a cherry tree ale house lights in the nomad chicken, shrimp and vegetable), kielbasa (a van) the perfect set - sans chipotle salsa): a+what an establishment. when you won't lie--as a tribute pumps..........so i wish is a touch screens so flaky and very reasonable prices seemed quite elegant. walk in, and friendly (and may not exactly this is a swanky drinks with the floor, high quality, low is bad, because we all i keep this place you think.everyone remembers your hands with, but smaller) a pickle (of course) and back for  inch of the landscape indeed an ornately wrapped in me and bar (winter coats and lightly seared pork spare ribs. those here. wanna buy...they launched d-squared in this dbq is a neighborhood for lunch in a bit crispier, etc.) since we were very fresh tomato sauce that gave hyo dong gak to turn out what more of heat that i've been before, there are these bright, a great selection.- tasmanian ocean prime rib buns. instant gratification via yelp cruise last flavorful morsel. and drink and not one area is\""
      ]
     },
     "execution_count": 33,
     "metadata": {},
     "output_type": "execute_result"
    }
   ],
   "source": [
    "review_generator()"
   ]
  },
  {
   "cell_type": "markdown",
   "metadata": {},
   "source": [
    "### "
   ]
  }
 ],
 "metadata": {
  "kernelspec": {
   "display_name": "Python 3",
   "language": "python",
   "name": "python3"
  },
  "language_info": {
   "codemirror_mode": {
    "name": "ipython",
    "version": 3
   },
   "file_extension": ".py",
   "mimetype": "text/x-python",
   "name": "python",
   "nbconvert_exporter": "python",
   "pygments_lexer": "ipython3",
   "version": "3.7.1"
  }
 },
 "nbformat": 4,
 "nbformat_minor": 2
}
