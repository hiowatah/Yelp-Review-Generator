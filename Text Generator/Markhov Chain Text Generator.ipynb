{
 "cells": [
  {
   "cell_type": "code",
   "execution_count": 1,
   "metadata": {},
   "outputs": [],
   "source": [
    "import random\n",
    "import sys"
   ]
  },
  {
   "cell_type": "code",
   "execution_count": 32,
   "metadata": {},
   "outputs": [],
   "source": [
    "reviews = open('Three_Star.txt', 'r').read()"
   ]
  },
  {
   "cell_type": "code",
   "execution_count": 33,
   "metadata": {},
   "outputs": [],
   "source": [
    "reviews = ''.join([i for i in reviews if not i.isdigit()]).replace(\"\\n\", \" \").split(' ')"
   ]
  },
  {
   "cell_type": "code",
   "execution_count": 34,
   "metadata": {},
   "outputs": [],
   "source": [
    "index = 1\n",
    "chain = {}\n",
    "count = 100 # will be changed to be user input"
   ]
  },
  {
   "cell_type": "code",
   "execution_count": 35,
   "metadata": {},
   "outputs": [],
   "source": [
    "for word in reviews[index:]:\n",
    "    key = reviews[index-1]\n",
    "    if key in chain:\n",
    "        chain[key].append(word)\n",
    "    else:\n",
    "        chain[key] = [word]\n",
    "    \n",
    "    index += 1"
   ]
  },
  {
   "cell_type": "code",
   "execution_count": 37,
   "metadata": {},
   "outputs": [
    {
     "name": "stdout",
     "output_type": "stream",
     "text": [
      "Suzuya's offerings was a large menu. the interior is industrial size was $. they serve cupcakes, then ordered mantoo(dumplings), kofta , ; i honestly didn't help me. on the airport. you pay the crust was exceptional. it's yummy. i also somewhat rushed any rhyme with a brisk business. we were one player card. it's an awesome waitress, no that this place that we saw it. maybe it's hard to be an appetizer. still enjoyed the hyped up a bowl as extensive menu, even doing that if it's a mere hawaiian chipotle on our dinner group event and it would try\n"
     ]
    }
   ],
   "source": [
    "word1 = random.choice(list(chain.keys()))\n",
    "message = word1.capitalize()\n",
    "\n",
    "while len(message.split(' ')) < count:\n",
    "    word2 = random.choice(chain[word1])\n",
    "    #to generate a random word above based on the output.\n",
    "    word1 = word2\n",
    "    message += ' ' + word2\n",
    "    \n",
    "print(message)"
   ]
  },
  {
   "cell_type": "code",
   "execution_count": 27,
   "metadata": {},
   "outputs": [],
   "source": [
    "def ask_user():\n",
    "    answer = False\n",
    "    while answer == False:\n",
    "        rating = input(\"What rating do you want to generate a review for? \\nPlease enter 'One', 'Two', 'Three', 'Four', 'Five'\")\n",
    "        rating = rating.title()\n",
    "        if rating == 'One':\n",
    "            text = 'One_Star.txt'\n",
    "            answer = True\n",
    "        if rating == 'Two':\n",
    "            text = 'Two_Star.txt'\n",
    "            answer = True\n",
    "        if rating == 'Three':\n",
    "            text = 'Three_Star.txt'\n",
    "            answer = True\n",
    "        if rating == 'Four':\n",
    "            text = 'Four_Star.txt'\n",
    "            answer = True\n",
    "        if rating == 'Five':\n",
    "            text = 'Five_Star.txt'\n",
    "            answer = True            \n",
    "    return text\n",
    "    "
   ]
  },
  {
   "cell_type": "code",
   "execution_count": 40,
   "metadata": {},
   "outputs": [],
   "source": [
    "def review_generator():\n",
    "    text = ask_user()\n",
    "    reviews = open(text, 'r').read()\n",
    "    reviews = ''.join([i for i in reviews if not i.isdigit()]).replace(\"\\n\", \" \").split(' ')\n",
    "    \n",
    "    index = 1\n",
    "    chain = {}\n",
    "    count = int(input('How many words would you like your review to be?'))\n",
    "    \n",
    "    for word in reviews[index:]:\n",
    "        key = reviews[index-1]\n",
    "        if key in chain:\n",
    "            chain[key].append(word)\n",
    "        else:\n",
    "            chain[key] = [word]\n",
    "        index += 1\n",
    "    \n",
    "    word1 = random.choice(list(chain.keys()))\n",
    "    message = word1.capitalize()\n",
    "\n",
    "    while len(message.split(' ')) < count:\n",
    "        word2 = random.choice(chain[word1])\n",
    "        word1 = word2\n",
    "        message += ' ' + word2\n",
    "\n",
    "    return message"
   ]
  },
  {
   "cell_type": "code",
   "execution_count": 43,
   "metadata": {},
   "outputs": [
    {
     "name": "stdout",
     "output_type": "stream",
     "text": [
      "What rating do you want to generate a review for? \n",
      "Please enter 'One', 'Two', 'Three', 'Four', 'Five'five\n",
      "How many words would you like your review to be?300\n"
     ]
    },
    {
     "data": {
      "text/plain": [
       "'Action.after all day. some calories, and the filled donuts mushy, but eventually, i could want, just that i\\'d be most of sex (both white were very attentive but wisefish is \"sake sunday\" (/ mile end up my taiwanese cheesecake after work--worked holiday--i made the facts and the mandarin or as overflowing with a winner. moist, and then brought there is fish of both were glad i loved the greasy or plan for bar etc. - one block to barramundi. lay out of point-and-click games go upstairs after eating a very foreign casual but it was so much better. trust!the line forms and lo while - nicely with flavor.my salmon (this is exhaustive menu, we sat in delightfully modern really are you have to catch up by far? it\\'s something that you\\'re a great bowl with her, i was pretty oily, was definitely go back to tell the corner drinking and the coffee offerings. he still get the food: yummmmm and nice. service to perfection, better doctor that their good girl at the corner exclaiming, \"in the back in a cocktail bar is a modern and then some.the miso tonkotsu and speakeasy yet so generous tip(i always go here to myself gainfully employed i like other \"big b\\'s\" (bloomingdale\\'s doesn\\'t have an appointment cartoon dogs are $. you are the fluke tartare app used as at the pork was incredible - really tasty mix. when i\\'m a fish, his opinion, and large number on the flan for my best omakase. to be farther subway is sketchy about these brutal and feel like in the reverend alone. an oven because we did they know many good too! i get to ensure you back to explore. enjoy!pro-tip: do pickup window seating so foreign ingredient. don\\'t always super-friendly, which is the title of goggles,'"
      ]
     },
     "execution_count": 43,
     "metadata": {},
     "output_type": "execute_result"
    }
   ],
   "source": [
    "review_generator()"
   ]
  },
  {
   "cell_type": "code",
   "execution_count": null,
   "metadata": {},
   "outputs": [],
   "source": []
  }
 ],
 "metadata": {
  "kernelspec": {
   "display_name": "Python 3",
   "language": "python",
   "name": "python3"
  },
  "language_info": {
   "codemirror_mode": {
    "name": "ipython",
    "version": 3
   },
   "file_extension": ".py",
   "mimetype": "text/x-python",
   "name": "python",
   "nbconvert_exporter": "python",
   "pygments_lexer": "ipython3",
   "version": "3.7.1"
  }
 },
 "nbformat": 4,
 "nbformat_minor": 2
}
