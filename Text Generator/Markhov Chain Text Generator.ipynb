{
 "cells": [
  {
   "cell_type": "code",
   "execution_count": 1,
   "metadata": {},
   "outputs": [],
   "source": [
    "import random"
   ]
  },
  {
   "cell_type": "code",
   "execution_count": 2,
   "metadata": {},
   "outputs": [],
   "source": [
    "reviews = open('Three_Star.txt', 'r').read()"
   ]
  },
  {
   "cell_type": "code",
   "execution_count": 3,
   "metadata": {},
   "outputs": [],
   "source": [
    "reviews = ''.join([i for i in reviews if not i.isdigit()]).replace(\"\\n\", \" \").split(' ')"
   ]
  },
  {
   "cell_type": "code",
   "execution_count": 4,
   "metadata": {},
   "outputs": [],
   "source": [
    "index = 1\n",
    "chain = {}\n",
    "count = 100 # will be changed to be user input"
   ]
  },
  {
   "cell_type": "code",
   "execution_count": 5,
   "metadata": {},
   "outputs": [],
   "source": [
    "for word in reviews[index:]:\n",
    "    key = reviews[index-1]\n",
    "    if key in chain:\n",
    "        chain[key].append(word)\n",
    "    else:\n",
    "        chain[key] = [word]\n",
    "    \n",
    "    index += 1"
   ]
  },
  {
   "cell_type": "code",
   "execution_count": 6,
   "metadata": {},
   "outputs": [
    {
     "name": "stdout",
     "output_type": "stream",
     "text": [
      "(idk, my dish was in a different towers. the takoyaki and great america. first time to grab it too sweet. cornish pasty came here and service and look around the same building looks pretty boring, needs more for awhile.\" she wasn't particularly convenient and this small quantity made) as well. we had about until the avocado with seafood is tiny ass bastard and in the latte tasted superb, however, an espresso shot, but i imagine what a little sliders after a pretty tasty and syrup, but i missed it is an usher walked in, near to be serving and try\n"
     ]
    }
   ],
   "source": [
    "word1 = random.choice(list(chain.keys()))\n",
    "message = word1.capitalize()\n",
    "\n",
    "while len(message.split(' ')) < count:\n",
    "    word2 = random.choice(chain[word1])\n",
    "    #to generate a random word above based on the output.\n",
    "    word1 = word2\n",
    "    message += ' ' + word2\n",
    "    \n",
    "print(message)"
   ]
  },
  {
   "cell_type": "code",
   "execution_count": null,
   "metadata": {},
   "outputs": [],
   "source": []
  },
  {
   "cell_type": "code",
   "execution_count": null,
   "metadata": {},
   "outputs": [],
   "source": []
  },
  {
   "cell_type": "code",
   "execution_count": 7,
   "metadata": {},
   "outputs": [],
   "source": [
    "def ask_user():\n",
    "    answer = False\n",
    "    while answer == False:\n",
    "        rating = input(\"What rating do you want to generate a review for? \\nPlease enter 'One', 'Two', 'Three', 'Four', 'Five'\")\n",
    "        rating = rating.title()\n",
    "        if rating == 'One':\n",
    "            text = 'One_Star.txt'\n",
    "            answer = True\n",
    "        if rating == 'Two':\n",
    "            text = 'Two_Star.txt'\n",
    "            answer = True\n",
    "        if rating == 'Three':\n",
    "            text = 'Three_Star.txt'\n",
    "            answer = True\n",
    "        if rating == 'Four':\n",
    "            text = 'Four_Star.txt'\n",
    "            answer = True\n",
    "        if rating == 'Five':\n",
    "            text = 'Five_Star.txt'\n",
    "            answer = True            \n",
    "    return text\n",
    "    "
   ]
  },
  {
   "cell_type": "code",
   "execution_count": 8,
   "metadata": {},
   "outputs": [],
   "source": [
    "def review_generator():\n",
    "    text = ask_user()\n",
    "    reviews = open(text, 'r').read()\n",
    "    reviews = ''.join([i for i in reviews if not i.isdigit()]).replace(\"\\n\", \" \").split(' ')\n",
    "    \n",
    "    index = 1\n",
    "    chain = {}\n",
    "    count = int(input('How many words would you like your review to be?'))\n",
    "    \n",
    "    for word in reviews[index:]:\n",
    "        key = reviews[index-1]\n",
    "        if key in chain:\n",
    "            chain[key].append(word)\n",
    "        else:\n",
    "            chain[key] = [word]\n",
    "        index += 1\n",
    "    \n",
    "    word1 = random.choice(list(chain.keys()))\n",
    "    message = word1.capitalize()\n",
    "\n",
    "    while len(message.split(' ')) < count:\n",
    "        word2 = random.choice(chain[word1])\n",
    "        word1 = word2\n",
    "        message += ' ' + word2\n",
    "    return message"
   ]
  },
  {
   "cell_type": "code",
   "execution_count": null,
   "metadata": {},
   "outputs": [],
   "source": []
  },
  {
   "cell_type": "code",
   "execution_count": null,
   "metadata": {},
   "outputs": [],
   "source": []
  },
  {
   "cell_type": "code",
   "execution_count": null,
   "metadata": {},
   "outputs": [],
   "source": []
  },
  {
   "cell_type": "code",
   "execution_count": null,
   "metadata": {},
   "outputs": [],
   "source": []
  },
  {
   "cell_type": "code",
   "execution_count": null,
   "metadata": {},
   "outputs": [],
   "source": []
  },
  {
   "cell_type": "code",
   "execution_count": null,
   "metadata": {},
   "outputs": [],
   "source": []
  },
  {
   "cell_type": "markdown",
   "metadata": {},
   "source": [
    "# Markov Chain Review Generator"
   ]
  },
  {
   "cell_type": "markdown",
   "metadata": {},
   "source": [
    "## Simply enter the rating you want to give as well as how long you want your review to be"
   ]
  },
  {
   "cell_type": "code",
   "execution_count": 16,
   "metadata": {},
   "outputs": [
    {
     "name": "stdout",
     "output_type": "stream",
     "text": [
      "What rating do you want to generate a review for? \n",
      "Please enter 'One', 'Two', 'Three', 'Four', 'Five'Three\n",
      "How many words would you like your review to be?100\n"
     ]
    },
    {
     "data": {
      "text/plain": [
       "\"Manure, almond gelato and frozen pies, you are also had it was in one but it will post office buildings sucks). their chinese food. comfort food while they liked their lids ripped off. it an early morning of jon still a spade so maybe too much. the same. but, at the baked rigatoni, and not in other options and it seems odd taste). our visit). i go to nfl kickoff arrived with $. that's about when you come down hoyt street is actually higher than impressed with a regular theater! so at it, halfway through their pork and though i've\""
      ]
     },
     "execution_count": 16,
     "metadata": {},
     "output_type": "execute_result"
    }
   ],
   "source": [
    "review_generator()"
   ]
  },
  {
   "cell_type": "code",
   "execution_count": null,
   "metadata": {},
   "outputs": [],
   "source": []
  }
 ],
 "metadata": {
  "kernelspec": {
   "display_name": "Python 3",
   "language": "python",
   "name": "python3"
  },
  "language_info": {
   "codemirror_mode": {
    "name": "ipython",
    "version": 3
   },
   "file_extension": ".py",
   "mimetype": "text/x-python",
   "name": "python",
   "nbconvert_exporter": "python",
   "pygments_lexer": "ipython3",
   "version": "3.7.1"
  }
 },
 "nbformat": 4,
 "nbformat_minor": 2
}
